{
 "cells": [
  {
   "cell_type": "code",
   "metadata": {
    "cell_id": "390b1a92-fca9-4893-b2f2-60499f240032",
    "deepnote_to_be_reexecuted": false,
    "source_hash": "b0d0dda6",
    "execution_start": 1646412574511,
    "execution_millis": 15658,
    "deepnote_cell_type": "code"
   },
   "source": "!sudo apt update && sudo apt upgrade -y\n!sudo apt-get install -y openjdk-11-jre\n!sudo apt-get install -y openjdk-11-jdk\n!pip install -q python-terrier\nimport pyterrier as pt\nif not pt.started():\n    pt.init()",
   "outputs": [
    {
     "name": "stdout",
     "text": "Hit:1 http://security.debian.org/debian-security buster/updates InRelease\nHit:2 http://deb.debian.org/debian buster InRelease\nHit:3 http://deb.debian.org/debian buster-updates InRelease\n\n\n\nAll packages are up to date.\n",
     "output_type": "stream"
    }
   ],
   "execution_count": null
  },
  {
   "cell_type": "code",
   "metadata": {
    "cell_id": "00002-2cd5ebb3-710a-4312-919d-5e3600b59e8e",
    "deepnote_to_be_reexecuted": true,
    "source_hash": "9bcecf06",
    "deepnote_cell_type": "code"
   },
   "source": "def msmarco_generate():\n    dataset = pt.get_dataset(\"trec-deep-learning-passages\")\n    with pt.io.autoopen('collections/msmarco-passage/collection.tsv', 'rt') as corpusfile:\n        for l in corpusfile:\n            docno, passage = l.split(\"\\t\")\n            yield {'docno' : docno, 'text' : passage}",
   "outputs": [],
   "execution_count": null
  },
  {
   "cell_type": "code",
   "metadata": {
    "cell_id": "00003-4c0681f0-baf0-4845-b34e-b2e47799cda1",
    "deepnote_to_be_reexecuted": true,
    "source_hash": "9d4535a7",
    "deepnote_cell_type": "code"
   },
   "source": "dataset = pt.get_dataset(\"trec-deep-learning-passages\")",
   "outputs": [],
   "execution_count": null
  },
  {
   "cell_type": "code",
   "metadata": {
    "cell_id": "00004-aa91be04-32b9-47e3-8d81-304b8464f6e7",
    "deepnote_to_be_reexecuted": true,
    "source_hash": "7157eaf8",
    "deepnote_cell_type": "code"
   },
   "source": "iter_indexer = pt.IterDictIndexer(\"./passage_index\")\nindexref = iter_indexer.index(msmarco_generate(), meta={'docno' : 20, 'text': 4096})\nindex = pt.IndexFactory.of(indexref)",
   "outputs": [],
   "execution_count": null
  },
  {
   "cell_type": "code",
   "metadata": {
    "cell_id": "00005-1fadb450-db96-4a1a-a9ba-919f194cce34",
    "deepnote_to_be_reexecuted": true,
    "source_hash": "9ed2e5cd",
    "deepnote_cell_type": "code"
   },
   "source": "tf_idf = pt.BatchRetrieve(index, wmodel=\"TF_IDF\")\nbm25 = pt.BatchRetrieve(index, wmodel=\"BM25\")\nbm25b = pt.BatchRetrieve(index, controls={\"wmodel\":\"BM25\"})\nbm25_qe = pt.BatchRetrieve(index, wmodel=\"BM25\", controls={\"qe\":\"on\", \"qemodel\" : \"Bo1\"})\n# pl2 = pt.BatchRetrieve(index, wmodel=\"PL2\")",
   "outputs": [
    {
     "name": "stdout",
     "output_type": "stream",
     "text": "18:15:56.505 [main] WARN org.terrier.structures.BaseCompressingMetaIndex - Structure meta reading data file directly from disk (SLOW) - try index.meta.data-source=fileinmem in the index properties file. 1.9 GiB of memory would be required.\n18:15:57.739 [main] WARN org.terrier.structures.BaseCompressingMetaIndex - Structure meta reading data file directly from disk (SLOW) - try index.meta.data-source=fileinmem in the index properties file. 1.9 GiB of memory would be required.\n18:15:59.073 [main] WARN org.terrier.structures.BaseCompressingMetaIndex - Structure meta reading data file directly from disk (SLOW) - try index.meta.data-source=fileinmem in the index properties file. 1.9 GiB of memory would be required.\n18:16:00.350 [main] WARN org.terrier.structures.BaseCompressingMetaIndex - Structure meta reading data file directly from disk (SLOW) - try index.meta.data-source=fileinmem in the index properties file. 1.9 GiB of memory would be required.\n"
    }
   ],
   "execution_count": null
  },
  {
   "cell_type": "code",
   "metadata": {
    "cell_id": "00006-ce217e38-987f-4c93-8002-402821f5e75f",
    "deepnote_to_be_reexecuted": true,
    "source_hash": "121a684c",
    "deepnote_cell_type": "code"
   },
   "source": "result = pt.Experiment([bm25], \n                       dataset.get_topics(\"test-2019\"), \n                       dataset.get_qrels(\"test-2019\"),\n                       eval_metrics=[\"recip_rank\", \"ndcg_cut_10\",\"map\"])\nprint(result)",
   "outputs": [
    {
     "name": "stdout",
     "output_type": "stream",
     "text": "       name  recip_rank  ndcg_cut_10       map\n0  BR(BM25)    0.795028      0.47954  0.370004\n"
    }
   ],
   "execution_count": null
  },
  {
   "cell_type": "code",
   "metadata": {
    "cell_id": "00007-02a4000a-e2cc-40d1-9380-11cade879e2e",
    "deepnote_to_be_reexecuted": true,
    "source_hash": "a8f192d5",
    "deepnote_cell_type": "code"
   },
   "source": "result_qe= pt.Experiment([bm25_qe], \n                       dataset.get_topics(\"test-2019\"), \n                       dataset.get_qrels(\"test-2019\"),\n                       eval_metrics=[\"recip_rank\", \"ndcg_cut_10\",\"map\"])\nprint(result_qe)",
   "outputs": [
    {
     "name": "stdout",
     "output_type": "stream",
     "text": "       name  recip_rank  ndcg_cut_10       map\n0  BR(BM25)    0.788124      0.50862  0.399897\n"
    }
   ],
   "execution_count": null
  },
  {
   "cell_type": "code",
   "metadata": {
    "cell_id": "00008-6401779b-9285-44af-95d8-7d2e8d0654bd",
    "deepnote_to_be_reexecuted": true,
    "source_hash": "1a4eac93",
    "deepnote_cell_type": "code"
   },
   "source": "result_tf = pt.Experiment([tf_idf], \n                       dataset.get_topics(\"test-2019\"), \n                       dataset.get_qrels(\"test-2019\"),\n                       eval_metrics=[\"recip_rank\", \"ndcg_cut_10\",\"map\"])\nprint(result_tf)",
   "outputs": [
    {
     "name": "stdout",
     "output_type": "stream",
     "text": "         name  recip_rank  ndcg_cut_10       map\n0  BR(TF_IDF)    0.795028      0.47831  0.369486\n"
    }
   ],
   "execution_count": null
  },
  {
   "cell_type": "code",
   "metadata": {
    "cell_id": "00009-4813d0f5-459a-4725-b8fa-57a156513471",
    "deepnote_to_be_reexecuted": true,
    "source_hash": "5e641c3f",
    "deepnote_cell_type": "code"
   },
   "source": "result_per_query = pt.Experiment([bm25], \n                                 dataset.get_topics(\"test-2019\"),\n                                 dataset.get_qrels(\"test-2019\"), \n                                 eval_metrics=[\"recip_rank\", \"ndcg_cut_10\",\"map\"],\n                                 perquery=True)",
   "outputs": [
    {
     "name": "stderr",
     "output_type": "stream",
     "text": "/usr/local/lib/python3.8/dist-packages/pyterrier/pipelines.py:108: UserWarning: 157 topic(s) not found in qrels. Scores for these topics are given as NaN and should not contribute to averages.\n  warn(f'{backfill_count} topic(s) not found in qrels. Scores for these topics are given as NaN and should not contribute to averages.')\n"
    }
   ],
   "execution_count": null
  },
  {
   "cell_type": "code",
   "metadata": {
    "cell_id": "00010-6f9d3ddc-0774-46f0-b4e5-353b3ff2f2a4",
    "deepnote_to_be_reexecuted": true,
    "source_hash": "ca1328b2",
    "deepnote_cell_type": "code"
   },
   "source": "result_per_query = result_per_query[result_per_query[\"value\"].notnull()]\nresult_per_query[result_per_query[\"measure\"]=='map'].sort_values(by=\"value\")",
   "outputs": [
    {
     "data": {
      "text/html": "<div>\n<style scoped>\n    .dataframe tbody tr th:only-of-type {\n        vertical-align: middle;\n    }\n\n    .dataframe tbody tr th {\n        vertical-align: top;\n    }\n\n    .dataframe thead th {\n        text-align: right;\n    }\n</style>\n<table border=\"1\" class=\"dataframe\">\n  <thead>\n    <tr style=\"text-align: right;\">\n      <th></th>\n      <th>name</th>\n      <th>qid</th>\n      <th>measure</th>\n      <th>value</th>\n    </tr>\n  </thead>\n  <tbody>\n    <tr>\n      <th>96</th>\n      <td>BR(BM25)</td>\n      <td>1121709</td>\n      <td>map</td>\n      <td>0.000239</td>\n    </tr>\n    <tr>\n      <th>6</th>\n      <td>BR(BM25)</td>\n      <td>1063750</td>\n      <td>map</td>\n      <td>0.003193</td>\n    </tr>\n    <tr>\n      <th>93</th>\n      <td>BR(BM25)</td>\n      <td>443396</td>\n      <td>map</td>\n      <td>0.005157</td>\n    </tr>\n    <tr>\n      <th>12</th>\n      <td>BR(BM25)</td>\n      <td>489204</td>\n      <td>map</td>\n      <td>0.055242</td>\n    </tr>\n    <tr>\n      <th>39</th>\n      <td>BR(BM25)</td>\n      <td>962179</td>\n      <td>map</td>\n      <td>0.058701</td>\n    </tr>\n    <tr>\n      <th>24</th>\n      <td>BR(BM25)</td>\n      <td>527433</td>\n      <td>map</td>\n      <td>0.064043</td>\n    </tr>\n    <tr>\n      <th>78</th>\n      <td>BR(BM25)</td>\n      <td>1106007</td>\n      <td>map</td>\n      <td>0.094742</td>\n    </tr>\n    <tr>\n      <th>27</th>\n      <td>BR(BM25)</td>\n      <td>1037798</td>\n      <td>map</td>\n      <td>0.109533</td>\n    </tr>\n    <tr>\n      <th>48</th>\n      <td>BR(BM25)</td>\n      <td>451602</td>\n      <td>map</td>\n      <td>0.122208</td>\n    </tr>\n    <tr>\n      <th>66</th>\n      <td>BR(BM25)</td>\n      <td>833860</td>\n      <td>map</td>\n      <td>0.139674</td>\n    </tr>\n    <tr>\n      <th>3</th>\n      <td>BR(BM25)</td>\n      <td>1110199</td>\n      <td>map</td>\n      <td>0.141310</td>\n    </tr>\n    <tr>\n      <th>120</th>\n      <td>BR(BM25)</td>\n      <td>1113437</td>\n      <td>map</td>\n      <td>0.146926</td>\n    </tr>\n    <tr>\n      <th>57</th>\n      <td>BR(BM25)</td>\n      <td>1112341</td>\n      <td>map</td>\n      <td>0.150377</td>\n    </tr>\n    <tr>\n      <th>42</th>\n      <td>BR(BM25)</td>\n      <td>1117099</td>\n      <td>map</td>\n      <td>0.214895</td>\n    </tr>\n    <tr>\n      <th>45</th>\n      <td>BR(BM25)</td>\n      <td>148538</td>\n      <td>map</td>\n      <td>0.216894</td>\n    </tr>\n    <tr>\n      <th>108</th>\n      <td>BR(BM25)</td>\n      <td>19335</td>\n      <td>map</td>\n      <td>0.225504</td>\n    </tr>\n    <tr>\n      <th>99</th>\n      <td>BR(BM25)</td>\n      <td>87452</td>\n      <td>map</td>\n      <td>0.247845</td>\n    </tr>\n    <tr>\n      <th>33</th>\n      <td>BR(BM25)</td>\n      <td>264014</td>\n      <td>map</td>\n      <td>0.276468</td>\n    </tr>\n    <tr>\n      <th>54</th>\n      <td>BR(BM25)</td>\n      <td>1115776</td>\n      <td>map</td>\n      <td>0.282277</td>\n    </tr>\n    <tr>\n      <th>75</th>\n      <td>BR(BM25)</td>\n      <td>183378</td>\n      <td>map</td>\n      <td>0.307442</td>\n    </tr>\n    <tr>\n      <th>60</th>\n      <td>BR(BM25)</td>\n      <td>131843</td>\n      <td>map</td>\n      <td>0.326210</td>\n    </tr>\n    <tr>\n      <th>87</th>\n      <td>BR(BM25)</td>\n      <td>1103812</td>\n      <td>map</td>\n      <td>0.327390</td>\n    </tr>\n    <tr>\n      <th>114</th>\n      <td>BR(BM25)</td>\n      <td>405717</td>\n      <td>map</td>\n      <td>0.330586</td>\n    </tr>\n    <tr>\n      <th>63</th>\n      <td>BR(BM25)</td>\n      <td>104861</td>\n      <td>map</td>\n      <td>0.356779</td>\n    </tr>\n    <tr>\n      <th>123</th>\n      <td>BR(BM25)</td>\n      <td>1129237</td>\n      <td>map</td>\n      <td>0.368085</td>\n    </tr>\n    <tr>\n      <th>30</th>\n      <td>BR(BM25)</td>\n      <td>915593</td>\n      <td>map</td>\n      <td>0.369940</td>\n    </tr>\n    <tr>\n      <th>111</th>\n      <td>BR(BM25)</td>\n      <td>47923</td>\n      <td>map</td>\n      <td>0.405394</td>\n    </tr>\n    <tr>\n      <th>84</th>\n      <td>BR(BM25)</td>\n      <td>490595</td>\n      <td>map</td>\n      <td>0.409779</td>\n    </tr>\n    <tr>\n      <th>69</th>\n      <td>BR(BM25)</td>\n      <td>207786</td>\n      <td>map</td>\n      <td>0.430605</td>\n    </tr>\n    <tr>\n      <th>105</th>\n      <td>BR(BM25)</td>\n      <td>1114646</td>\n      <td>map</td>\n      <td>0.453310</td>\n    </tr>\n    <tr>\n      <th>51</th>\n      <td>BR(BM25)</td>\n      <td>359349</td>\n      <td>map</td>\n      <td>0.498399</td>\n    </tr>\n    <tr>\n      <th>126</th>\n      <td>BR(BM25)</td>\n      <td>146187</td>\n      <td>map</td>\n      <td>0.539382</td>\n    </tr>\n    <tr>\n      <th>21</th>\n      <td>BR(BM25)</td>\n      <td>1133167</td>\n      <td>map</td>\n      <td>0.575266</td>\n    </tr>\n    <tr>\n      <th>15</th>\n      <td>BR(BM25)</td>\n      <td>573724</td>\n      <td>map</td>\n      <td>0.580209</td>\n    </tr>\n    <tr>\n      <th>72</th>\n      <td>BR(BM25)</td>\n      <td>1114819</td>\n      <td>map</td>\n      <td>0.671132</td>\n    </tr>\n    <tr>\n      <th>90</th>\n      <td>BR(BM25)</td>\n      <td>87181</td>\n      <td>map</td>\n      <td>0.683568</td>\n    </tr>\n    <tr>\n      <th>0</th>\n      <td>BR(BM25)</td>\n      <td>156493</td>\n      <td>map</td>\n      <td>0.742523</td>\n    </tr>\n    <tr>\n      <th>18</th>\n      <td>BR(BM25)</td>\n      <td>168216</td>\n      <td>map</td>\n      <td>0.792078</td>\n    </tr>\n    <tr>\n      <th>102</th>\n      <td>BR(BM25)</td>\n      <td>855410</td>\n      <td>map</td>\n      <td>0.804167</td>\n    </tr>\n    <tr>\n      <th>36</th>\n      <td>BR(BM25)</td>\n      <td>1121402</td>\n      <td>map</td>\n      <td>0.809884</td>\n    </tr>\n    <tr>\n      <th>117</th>\n      <td>BR(BM25)</td>\n      <td>182539</td>\n      <td>map</td>\n      <td>0.811010</td>\n    </tr>\n    <tr>\n      <th>9</th>\n      <td>BR(BM25)</td>\n      <td>130510</td>\n      <td>map</td>\n      <td>0.851095</td>\n    </tr>\n    <tr>\n      <th>81</th>\n      <td>BR(BM25)</td>\n      <td>1124210</td>\n      <td>map</td>\n      <td>0.910701</td>\n    </tr>\n  </tbody>\n</table>\n</div>",
      "text/plain": "         name      qid measure     value\n96   BR(BM25)  1121709     map  0.000239\n6    BR(BM25)  1063750     map  0.003193\n93   BR(BM25)   443396     map  0.005157\n12   BR(BM25)   489204     map  0.055242\n39   BR(BM25)   962179     map  0.058701\n24   BR(BM25)   527433     map  0.064043\n78   BR(BM25)  1106007     map  0.094742\n27   BR(BM25)  1037798     map  0.109533\n48   BR(BM25)   451602     map  0.122208\n66   BR(BM25)   833860     map  0.139674\n3    BR(BM25)  1110199     map  0.141310\n120  BR(BM25)  1113437     map  0.146926\n57   BR(BM25)  1112341     map  0.150377\n42   BR(BM25)  1117099     map  0.214895\n45   BR(BM25)   148538     map  0.216894\n108  BR(BM25)    19335     map  0.225504\n99   BR(BM25)    87452     map  0.247845\n33   BR(BM25)   264014     map  0.276468\n54   BR(BM25)  1115776     map  0.282277\n75   BR(BM25)   183378     map  0.307442\n60   BR(BM25)   131843     map  0.326210\n87   BR(BM25)  1103812     map  0.327390\n114  BR(BM25)   405717     map  0.330586\n63   BR(BM25)   104861     map  0.356779\n123  BR(BM25)  1129237     map  0.368085\n30   BR(BM25)   915593     map  0.369940\n111  BR(BM25)    47923     map  0.405394\n84   BR(BM25)   490595     map  0.409779\n69   BR(BM25)   207786     map  0.430605\n105  BR(BM25)  1114646     map  0.453310\n51   BR(BM25)   359349     map  0.498399\n126  BR(BM25)   146187     map  0.539382\n21   BR(BM25)  1133167     map  0.575266\n15   BR(BM25)   573724     map  0.580209\n72   BR(BM25)  1114819     map  0.671132\n90   BR(BM25)    87181     map  0.683568\n0    BR(BM25)   156493     map  0.742523\n18   BR(BM25)   168216     map  0.792078\n102  BR(BM25)   855410     map  0.804167\n36   BR(BM25)  1121402     map  0.809884\n117  BR(BM25)   182539     map  0.811010\n9    BR(BM25)   130510     map  0.851095\n81   BR(BM25)  1124210     map  0.910701"
     },
     "execution_count": 17,
     "metadata": {},
     "output_type": "execute_result"
    }
   ],
   "execution_count": null
  },
  {
   "cell_type": "markdown",
   "source": "Query Expansion",
   "metadata": {
    "cell_id": "00011-42db25b6-0d38-4e1a-bba6-32b296eef659",
    "deepnote_cell_type": "markdown"
   }
  },
  {
   "cell_type": "code",
   "metadata": {
    "cell_id": "00012-7e5b4efc-4b71-4f70-a7cd-ae4b5f24dc77",
    "deepnote_to_be_reexecuted": true,
    "source_hash": "a0b56b38",
    "deepnote_cell_type": "code"
   },
   "source": "Bo1 = pt.rewrite.Bo1QueryExpansion(index)\nKL = pt.rewrite.KLQueryExpansion(index)\n# RM3 = pt.rewrite.RM3(index)\n\n",
   "outputs": [
    {
     "name": "stdout",
     "output_type": "stream",
     "text": "18:18:41.421 [main] WARN org.terrier.structures.BaseCompressingMetaIndex - Structure meta reading data file directly from disk (SLOW) - try index.meta.data-source=fileinmem in the index properties file. 1.9 GiB of memory would be required.\n18:18:42.366 [main] WARN org.terrier.structures.BaseCompressingMetaIndex - Structure meta reading data file directly from disk (SLOW) - try index.meta.data-source=fileinmem in the index properties file. 1.9 GiB of memory would be required.\n"
    }
   ],
   "execution_count": null
  },
  {
   "cell_type": "code",
   "metadata": {
    "cell_id": "00013-5967a249-c18d-4b3b-a936-7ad00d9bfaa9",
    "deepnote_to_be_reexecuted": true,
    "source_hash": "92027f74",
    "deepnote_cell_type": "code"
   },
   "source": "pt.Experiment(\n    [\n            bm25, \n            bm25 >> Bo1 >> bm25, \n            bm25 >> KL >> bm25, \n            \n    ],\n    dataset.get_topics('test-2019'),\n    dataset.get_qrels(\"test-2019\"),\n    eval_metrics=[\"recip_rank\", \"ndcg_cut_10\",\"map\"],\n    names=[\"BM25\", \"+Bo1\", \"+KL\"]\n    )",
   "outputs": [
    {
     "data": {
      "text/html": "<div>\n<style scoped>\n    .dataframe tbody tr th:only-of-type {\n        vertical-align: middle;\n    }\n\n    .dataframe tbody tr th {\n        vertical-align: top;\n    }\n\n    .dataframe thead th {\n        text-align: right;\n    }\n</style>\n<table border=\"1\" class=\"dataframe\">\n  <thead>\n    <tr style=\"text-align: right;\">\n      <th></th>\n      <th>name</th>\n      <th>recip_rank</th>\n      <th>ndcg_cut_10</th>\n      <th>map</th>\n    </tr>\n  </thead>\n  <tbody>\n    <tr>\n      <th>0</th>\n      <td>BM25</td>\n      <td>0.795028</td>\n      <td>0.479540</td>\n      <td>0.370004</td>\n    </tr>\n    <tr>\n      <th>1</th>\n      <td>+Bo1</td>\n      <td>0.788124</td>\n      <td>0.508620</td>\n      <td>0.399897</td>\n    </tr>\n    <tr>\n      <th>2</th>\n      <td>+KL</td>\n      <td>0.785023</td>\n      <td>0.505715</td>\n      <td>0.397658</td>\n    </tr>\n  </tbody>\n</table>\n</div>",
      "text/plain": "   name  recip_rank  ndcg_cut_10       map\n0  BM25    0.795028     0.479540  0.370004\n1  +Bo1    0.788124     0.508620  0.399897\n2   +KL    0.785023     0.505715  0.397658"
     },
     "execution_count": 12,
     "metadata": {},
     "output_type": "execute_result"
    }
   ],
   "execution_count": null
  },
  {
   "cell_type": "code",
   "metadata": {
    "cell_id": "00014-5271d839-91cc-44ac-a222-c9c89364f094",
    "deepnote_to_be_reexecuted": true,
    "source_hash": "4e772653",
    "deepnote_cell_type": "code"
   },
   "source": "result_per_query_Bo = pt.Experiment([bm25 >> Bo1 >> bm25], \n                                 dataset.get_topics(\"test-2019\"),\n                                 dataset.get_qrels(\"test-2019\"), \n                                 eval_metrics=[\"recip_rank\", \"ndcg_cut_10\",\"map\"],\n                                 perquery=True)",
   "outputs": [
    {
     "name": "stderr",
     "output_type": "stream",
     "text": "/usr/local/lib/python3.8/dist-packages/pyterrier/pipelines.py:108: UserWarning: 157 topic(s) not found in qrels. Scores for these topics are given as NaN and should not contribute to averages.\n  warn(f'{backfill_count} topic(s) not found in qrels. Scores for these topics are given as NaN and should not contribute to averages.')\n"
    }
   ],
   "execution_count": null
  },
  {
   "cell_type": "code",
   "metadata": {
    "cell_id": "00015-4c9aa60c-9926-45ec-91d5-215d486e576e",
    "deepnote_to_be_reexecuted": true,
    "source_hash": "e7c86d71",
    "deepnote_cell_type": "code"
   },
   "source": "result_per_query_Bo = result_per_query_Bo[result_per_query_Bo[\"value\"].notnull()]\nresult_per_query_Bo[result_per_query_Bo[\"measure\"]=='map'].sort_values(by=\"value\")",
   "outputs": [
    {
     "data": {
      "text/html": "<div>\n<style scoped>\n    .dataframe tbody tr th:only-of-type {\n        vertical-align: middle;\n    }\n\n    .dataframe tbody tr th {\n        vertical-align: top;\n    }\n\n    .dataframe thead th {\n        text-align: right;\n    }\n</style>\n<table border=\"1\" class=\"dataframe\">\n  <thead>\n    <tr style=\"text-align: right;\">\n      <th></th>\n      <th>name</th>\n      <th>qid</th>\n      <th>measure</th>\n      <th>value</th>\n    </tr>\n  </thead>\n  <tbody>\n    <tr>\n      <th>39</th>\n      <td>Compose(Compose(BR(BM25), &lt;pyterrier.rewrite.B...</td>\n      <td>1121709</td>\n      <td>map</td>\n      <td>0.000158</td>\n    </tr>\n    <tr>\n      <th>6</th>\n      <td>Compose(Compose(BR(BM25), &lt;pyterrier.rewrite.B...</td>\n      <td>1063750</td>\n      <td>map</td>\n      <td>0.002752</td>\n    </tr>\n    <tr>\n      <th>90</th>\n      <td>Compose(Compose(BR(BM25), &lt;pyterrier.rewrite.B...</td>\n      <td>443396</td>\n      <td>map</td>\n      <td>0.004997</td>\n    </tr>\n    <tr>\n      <th>12</th>\n      <td>Compose(Compose(BR(BM25), &lt;pyterrier.rewrite.B...</td>\n      <td>1106007</td>\n      <td>map</td>\n      <td>0.019114</td>\n    </tr>\n    <tr>\n      <th>105</th>\n      <td>Compose(Compose(BR(BM25), &lt;pyterrier.rewrite.B...</td>\n      <td>527433</td>\n      <td>map</td>\n      <td>0.038237</td>\n    </tr>\n    <tr>\n      <th>126</th>\n      <td>Compose(Compose(BR(BM25), &lt;pyterrier.rewrite.B...</td>\n      <td>962179</td>\n      <td>map</td>\n      <td>0.052588</td>\n    </tr>\n    <tr>\n      <th>99</th>\n      <td>Compose(Compose(BR(BM25), &lt;pyterrier.rewrite.B...</td>\n      <td>489204</td>\n      <td>map</td>\n      <td>0.062827</td>\n    </tr>\n    <tr>\n      <th>93</th>\n      <td>Compose(Compose(BR(BM25), &lt;pyterrier.rewrite.B...</td>\n      <td>451602</td>\n      <td>map</td>\n      <td>0.126669</td>\n    </tr>\n    <tr>\n      <th>15</th>\n      <td>Compose(Compose(BR(BM25), &lt;pyterrier.rewrite.B...</td>\n      <td>1110199</td>\n      <td>map</td>\n      <td>0.135263</td>\n    </tr>\n    <tr>\n      <th>0</th>\n      <td>Compose(Compose(BR(BM25), &lt;pyterrier.rewrite.B...</td>\n      <td>1037798</td>\n      <td>map</td>\n      <td>0.138890</td>\n    </tr>\n    <tr>\n      <th>120</th>\n      <td>Compose(Compose(BR(BM25), &lt;pyterrier.rewrite.B...</td>\n      <td>87452</td>\n      <td>map</td>\n      <td>0.176414</td>\n    </tr>\n    <tr>\n      <th>18</th>\n      <td>Compose(Compose(BR(BM25), &lt;pyterrier.rewrite.B...</td>\n      <td>1112341</td>\n      <td>map</td>\n      <td>0.186357</td>\n    </tr>\n    <tr>\n      <th>60</th>\n      <td>Compose(Compose(BR(BM25), &lt;pyterrier.rewrite.B...</td>\n      <td>148538</td>\n      <td>map</td>\n      <td>0.202385</td>\n    </tr>\n    <tr>\n      <th>21</th>\n      <td>Compose(Compose(BR(BM25), &lt;pyterrier.rewrite.B...</td>\n      <td>1113437</td>\n      <td>map</td>\n      <td>0.219164</td>\n    </tr>\n    <tr>\n      <th>75</th>\n      <td>Compose(Compose(BR(BM25), &lt;pyterrier.rewrite.B...</td>\n      <td>19335</td>\n      <td>map</td>\n      <td>0.224121</td>\n    </tr>\n    <tr>\n      <th>111</th>\n      <td>Compose(Compose(BR(BM25), &lt;pyterrier.rewrite.B...</td>\n      <td>833860</td>\n      <td>map</td>\n      <td>0.226395</td>\n    </tr>\n    <tr>\n      <th>30</th>\n      <td>Compose(Compose(BR(BM25), &lt;pyterrier.rewrite.B...</td>\n      <td>1115776</td>\n      <td>map</td>\n      <td>0.269754</td>\n    </tr>\n    <tr>\n      <th>54</th>\n      <td>Compose(Compose(BR(BM25), &lt;pyterrier.rewrite.B...</td>\n      <td>131843</td>\n      <td>map</td>\n      <td>0.324859</td>\n    </tr>\n    <tr>\n      <th>81</th>\n      <td>Compose(Compose(BR(BM25), &lt;pyterrier.rewrite.B...</td>\n      <td>264014</td>\n      <td>map</td>\n      <td>0.351229</td>\n    </tr>\n    <tr>\n      <th>33</th>\n      <td>Compose(Compose(BR(BM25), &lt;pyterrier.rewrite.B...</td>\n      <td>1117099</td>\n      <td>map</td>\n      <td>0.351671</td>\n    </tr>\n    <tr>\n      <th>3</th>\n      <td>Compose(Compose(BR(BM25), &lt;pyterrier.rewrite.B...</td>\n      <td>104861</td>\n      <td>map</td>\n      <td>0.358106</td>\n    </tr>\n    <tr>\n      <th>123</th>\n      <td>Compose(Compose(BR(BM25), &lt;pyterrier.rewrite.B...</td>\n      <td>915593</td>\n      <td>map</td>\n      <td>0.368432</td>\n    </tr>\n    <tr>\n      <th>96</th>\n      <td>Compose(Compose(BR(BM25), &lt;pyterrier.rewrite.B...</td>\n      <td>47923</td>\n      <td>map</td>\n      <td>0.391243</td>\n    </tr>\n    <tr>\n      <th>102</th>\n      <td>Compose(Compose(BR(BM25), &lt;pyterrier.rewrite.B...</td>\n      <td>490595</td>\n      <td>map</td>\n      <td>0.392832</td>\n    </tr>\n    <tr>\n      <th>78</th>\n      <td>Compose(Compose(BR(BM25), &lt;pyterrier.rewrite.B...</td>\n      <td>207786</td>\n      <td>map</td>\n      <td>0.406214</td>\n    </tr>\n    <tr>\n      <th>87</th>\n      <td>Compose(Compose(BR(BM25), &lt;pyterrier.rewrite.B...</td>\n      <td>405717</td>\n      <td>map</td>\n      <td>0.419086</td>\n    </tr>\n    <tr>\n      <th>24</th>\n      <td>Compose(Compose(BR(BM25), &lt;pyterrier.rewrite.B...</td>\n      <td>1114646</td>\n      <td>map</td>\n      <td>0.493807</td>\n    </tr>\n    <tr>\n      <th>45</th>\n      <td>Compose(Compose(BR(BM25), &lt;pyterrier.rewrite.B...</td>\n      <td>1129237</td>\n      <td>map</td>\n      <td>0.506412</td>\n    </tr>\n    <tr>\n      <th>84</th>\n      <td>Compose(Compose(BR(BM25), &lt;pyterrier.rewrite.B...</td>\n      <td>359349</td>\n      <td>map</td>\n      <td>0.515265</td>\n    </tr>\n    <tr>\n      <th>48</th>\n      <td>Compose(Compose(BR(BM25), &lt;pyterrier.rewrite.B...</td>\n      <td>1133167</td>\n      <td>map</td>\n      <td>0.527559</td>\n    </tr>\n    <tr>\n      <th>57</th>\n      <td>Compose(Compose(BR(BM25), &lt;pyterrier.rewrite.B...</td>\n      <td>146187</td>\n      <td>map</td>\n      <td>0.541644</td>\n    </tr>\n    <tr>\n      <th>9</th>\n      <td>Compose(Compose(BR(BM25), &lt;pyterrier.rewrite.B...</td>\n      <td>1103812</td>\n      <td>map</td>\n      <td>0.541860</td>\n    </tr>\n    <tr>\n      <th>108</th>\n      <td>Compose(Compose(BR(BM25), &lt;pyterrier.rewrite.B...</td>\n      <td>573724</td>\n      <td>map</td>\n      <td>0.578235</td>\n    </tr>\n    <tr>\n      <th>117</th>\n      <td>Compose(Compose(BR(BM25), &lt;pyterrier.rewrite.B...</td>\n      <td>87181</td>\n      <td>map</td>\n      <td>0.675871</td>\n    </tr>\n    <tr>\n      <th>63</th>\n      <td>Compose(Compose(BR(BM25), &lt;pyterrier.rewrite.B...</td>\n      <td>156493</td>\n      <td>map</td>\n      <td>0.702149</td>\n    </tr>\n    <tr>\n      <th>72</th>\n      <td>Compose(Compose(BR(BM25), &lt;pyterrier.rewrite.B...</td>\n      <td>183378</td>\n      <td>map</td>\n      <td>0.720445</td>\n    </tr>\n    <tr>\n      <th>27</th>\n      <td>Compose(Compose(BR(BM25), &lt;pyterrier.rewrite.B...</td>\n      <td>1114819</td>\n      <td>map</td>\n      <td>0.775556</td>\n    </tr>\n    <tr>\n      <th>66</th>\n      <td>Compose(Compose(BR(BM25), &lt;pyterrier.rewrite.B...</td>\n      <td>168216</td>\n      <td>map</td>\n      <td>0.786858</td>\n    </tr>\n    <tr>\n      <th>69</th>\n      <td>Compose(Compose(BR(BM25), &lt;pyterrier.rewrite.B...</td>\n      <td>182539</td>\n      <td>map</td>\n      <td>0.842538</td>\n    </tr>\n    <tr>\n      <th>36</th>\n      <td>Compose(Compose(BR(BM25), &lt;pyterrier.rewrite.B...</td>\n      <td>1121402</td>\n      <td>map</td>\n      <td>0.857281</td>\n    </tr>\n    <tr>\n      <th>51</th>\n      <td>Compose(Compose(BR(BM25), &lt;pyterrier.rewrite.B...</td>\n      <td>130510</td>\n      <td>map</td>\n      <td>0.872531</td>\n    </tr>\n    <tr>\n      <th>114</th>\n      <td>Compose(Compose(BR(BM25), &lt;pyterrier.rewrite.B...</td>\n      <td>855410</td>\n      <td>map</td>\n      <td>0.887500</td>\n    </tr>\n    <tr>\n      <th>42</th>\n      <td>Compose(Compose(BR(BM25), &lt;pyterrier.rewrite.B...</td>\n      <td>1124210</td>\n      <td>map</td>\n      <td>0.920310</td>\n    </tr>\n  </tbody>\n</table>\n</div>",
      "text/plain": "                                                  name      qid measure  \\\n39   Compose(Compose(BR(BM25), <pyterrier.rewrite.B...  1121709     map   \n6    Compose(Compose(BR(BM25), <pyterrier.rewrite.B...  1063750     map   \n90   Compose(Compose(BR(BM25), <pyterrier.rewrite.B...   443396     map   \n12   Compose(Compose(BR(BM25), <pyterrier.rewrite.B...  1106007     map   \n105  Compose(Compose(BR(BM25), <pyterrier.rewrite.B...   527433     map   \n126  Compose(Compose(BR(BM25), <pyterrier.rewrite.B...   962179     map   \n99   Compose(Compose(BR(BM25), <pyterrier.rewrite.B...   489204     map   \n93   Compose(Compose(BR(BM25), <pyterrier.rewrite.B...   451602     map   \n15   Compose(Compose(BR(BM25), <pyterrier.rewrite.B...  1110199     map   \n0    Compose(Compose(BR(BM25), <pyterrier.rewrite.B...  1037798     map   \n120  Compose(Compose(BR(BM25), <pyterrier.rewrite.B...    87452     map   \n18   Compose(Compose(BR(BM25), <pyterrier.rewrite.B...  1112341     map   \n60   Compose(Compose(BR(BM25), <pyterrier.rewrite.B...   148538     map   \n21   Compose(Compose(BR(BM25), <pyterrier.rewrite.B...  1113437     map   \n75   Compose(Compose(BR(BM25), <pyterrier.rewrite.B...    19335     map   \n111  Compose(Compose(BR(BM25), <pyterrier.rewrite.B...   833860     map   \n30   Compose(Compose(BR(BM25), <pyterrier.rewrite.B...  1115776     map   \n54   Compose(Compose(BR(BM25), <pyterrier.rewrite.B...   131843     map   \n81   Compose(Compose(BR(BM25), <pyterrier.rewrite.B...   264014     map   \n33   Compose(Compose(BR(BM25), <pyterrier.rewrite.B...  1117099     map   \n3    Compose(Compose(BR(BM25), <pyterrier.rewrite.B...   104861     map   \n123  Compose(Compose(BR(BM25), <pyterrier.rewrite.B...   915593     map   \n96   Compose(Compose(BR(BM25), <pyterrier.rewrite.B...    47923     map   \n102  Compose(Compose(BR(BM25), <pyterrier.rewrite.B...   490595     map   \n78   Compose(Compose(BR(BM25), <pyterrier.rewrite.B...   207786     map   \n87   Compose(Compose(BR(BM25), <pyterrier.rewrite.B...   405717     map   \n24   Compose(Compose(BR(BM25), <pyterrier.rewrite.B...  1114646     map   \n45   Compose(Compose(BR(BM25), <pyterrier.rewrite.B...  1129237     map   \n84   Compose(Compose(BR(BM25), <pyterrier.rewrite.B...   359349     map   \n48   Compose(Compose(BR(BM25), <pyterrier.rewrite.B...  1133167     map   \n57   Compose(Compose(BR(BM25), <pyterrier.rewrite.B...   146187     map   \n9    Compose(Compose(BR(BM25), <pyterrier.rewrite.B...  1103812     map   \n108  Compose(Compose(BR(BM25), <pyterrier.rewrite.B...   573724     map   \n117  Compose(Compose(BR(BM25), <pyterrier.rewrite.B...    87181     map   \n63   Compose(Compose(BR(BM25), <pyterrier.rewrite.B...   156493     map   \n72   Compose(Compose(BR(BM25), <pyterrier.rewrite.B...   183378     map   \n27   Compose(Compose(BR(BM25), <pyterrier.rewrite.B...  1114819     map   \n66   Compose(Compose(BR(BM25), <pyterrier.rewrite.B...   168216     map   \n69   Compose(Compose(BR(BM25), <pyterrier.rewrite.B...   182539     map   \n36   Compose(Compose(BR(BM25), <pyterrier.rewrite.B...  1121402     map   \n51   Compose(Compose(BR(BM25), <pyterrier.rewrite.B...   130510     map   \n114  Compose(Compose(BR(BM25), <pyterrier.rewrite.B...   855410     map   \n42   Compose(Compose(BR(BM25), <pyterrier.rewrite.B...  1124210     map   \n\n        value  \n39   0.000158  \n6    0.002752  \n90   0.004997  \n12   0.019114  \n105  0.038237  \n126  0.052588  \n99   0.062827  \n93   0.126669  \n15   0.135263  \n0    0.138890  \n120  0.176414  \n18   0.186357  \n60   0.202385  \n21   0.219164  \n75   0.224121  \n111  0.226395  \n30   0.269754  \n54   0.324859  \n81   0.351229  \n33   0.351671  \n3    0.358106  \n123  0.368432  \n96   0.391243  \n102  0.392832  \n78   0.406214  \n87   0.419086  \n24   0.493807  \n45   0.506412  \n84   0.515265  \n48   0.527559  \n57   0.541644  \n9    0.541860  \n108  0.578235  \n117  0.675871  \n63   0.702149  \n72   0.720445  \n27   0.775556  \n66   0.786858  \n69   0.842538  \n36   0.857281  \n51   0.872531  \n114  0.887500  \n42   0.920310  "
     },
     "execution_count": 21,
     "metadata": {},
     "output_type": "execute_result"
    }
   ],
   "execution_count": null
  },
  {
   "cell_type": "markdown",
   "source": "<a style='text-decoration:none;line-height:16px;display:flex;color:#5B5B62;padding:10px;justify-content:end;' href='https://deepnote.com?utm_source=created-in-deepnote-cell&projectId=eeb7fcb4-84cb-4f4a-9830-9d1fcbc47e1d' target=\"_blank\">\n<img alt='Created in deepnote.com' style='display:inline;max-height:16px;margin:0px;margin-right:7.5px;' src='data:image/svg+xml;base64,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' > </img>\nCreated in <span style='font-weight:600;margin-left:4px;'>Deepnote</span></a>",
   "metadata": {
    "tags": [],
    "created_in_deepnote_cell": true,
    "deepnote_cell_type": "markdown"
   }
  }
 ],
 "nbformat": 4,
 "nbformat_minor": 2,
 "metadata": {
  "interpreter": {
   "hash": "916dbcbb3f70747c44a77c7bcd40155683ae19c65e1c03b4aa3499c5328201f1"
  },
  "kernelspec": {
   "display_name": "Python 3.8.10 64-bit",
   "language": "python",
   "name": "python3"
  },
  "language_info": {
   "codemirror_mode": {
    "name": "ipython",
    "version": 3
   },
   "file_extension": ".py",
   "mimetype": "text/x-python",
   "name": "python",
   "nbconvert_exporter": "python",
   "pygments_lexer": "ipython3",
   "version": "3.8.10"
  },
  "orig_nbformat": 4,
  "deepnote_notebook_id": "2ca841c0-d736-4617-b247-4411466b59d6",
  "deepnote": {},
  "deepnote_execution_queue": [
   {
    "cellId": "390b1a92-fca9-4893-b2f2-60499f240032",
    "sessionId": "096b3781-93ca-4e27-824f-56c602dca290",
    "msgId": "2ce43020-1842-4b9f-8115-406fe628fdc6"
   },
   {
    "cellId": "00002-2cd5ebb3-710a-4312-919d-5e3600b59e8e",
    "sessionId": "096b3781-93ca-4e27-824f-56c602dca290",
    "msgId": "23c44a9f-0f89-4d8e-9e98-5de577dfe519"
   },
   {
    "cellId": "00003-4c0681f0-baf0-4845-b34e-b2e47799cda1",
    "sessionId": "096b3781-93ca-4e27-824f-56c602dca290",
    "msgId": "d3657a2f-758d-455c-b64b-45f5e96bd809"
   },
   {
    "cellId": "00004-aa91be04-32b9-47e3-8d81-304b8464f6e7",
    "sessionId": "096b3781-93ca-4e27-824f-56c602dca290",
    "msgId": "bf6f5681-c0da-405f-8ae7-0c44ab3bb3dd"
   },
   {
    "cellId": "00005-1fadb450-db96-4a1a-a9ba-919f194cce34",
    "sessionId": "096b3781-93ca-4e27-824f-56c602dca290",
    "msgId": "29a050fd-b1c8-4b71-bfe8-e43cd55d2e7e"
   },
   {
    "cellId": "00006-ce217e38-987f-4c93-8002-402821f5e75f",
    "sessionId": "096b3781-93ca-4e27-824f-56c602dca290",
    "msgId": "9525b9d5-3663-449f-9e57-3edd0128e6dd"
   },
   {
    "cellId": "00007-02a4000a-e2cc-40d1-9380-11cade879e2e",
    "sessionId": "096b3781-93ca-4e27-824f-56c602dca290",
    "msgId": "a7cbbc80-09b6-4a64-ac9e-028e9f556834"
   },
   {
    "cellId": "00008-6401779b-9285-44af-95d8-7d2e8d0654bd",
    "sessionId": "096b3781-93ca-4e27-824f-56c602dca290",
    "msgId": "faf68dc0-526b-4a19-a2bf-67c7b3c7da6b"
   },
   {
    "cellId": "00009-4813d0f5-459a-4725-b8fa-57a156513471",
    "sessionId": "096b3781-93ca-4e27-824f-56c602dca290",
    "msgId": "bd0d3df6-eab0-4358-a19b-db1728ac81ef"
   },
   {
    "cellId": "00010-6f9d3ddc-0774-46f0-b4e5-353b3ff2f2a4",
    "sessionId": "096b3781-93ca-4e27-824f-56c602dca290",
    "msgId": "7ecbc7c0-92c3-4b20-ad6c-08fd7e92693b"
   },
   {
    "cellId": "00012-7e5b4efc-4b71-4f70-a7cd-ae4b5f24dc77",
    "sessionId": "096b3781-93ca-4e27-824f-56c602dca290",
    "msgId": "560f19b1-05c2-4b57-97a4-9991f29e084a"
   },
   {
    "cellId": "00013-5967a249-c18d-4b3b-a936-7ad00d9bfaa9",
    "sessionId": "096b3781-93ca-4e27-824f-56c602dca290",
    "msgId": "7ce9ee71-a3c4-4b55-99e4-0b6c0ea406c1"
   },
   {
    "cellId": "00014-5271d839-91cc-44ac-a222-c9c89364f094",
    "sessionId": "096b3781-93ca-4e27-824f-56c602dca290",
    "msgId": "aab41f11-4239-42ac-92a9-3546563a5122"
   },
   {
    "cellId": "00015-4c9aa60c-9926-45ec-91d5-215d486e576e",
    "sessionId": "096b3781-93ca-4e27-824f-56c602dca290",
    "msgId": "8c74b9a1-94d7-45e7-99b8-bebd7172c59d"
   }
  ]
 }
}