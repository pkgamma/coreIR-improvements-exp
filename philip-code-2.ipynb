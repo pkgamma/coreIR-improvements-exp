{
 "cells": [
  {
   "cell_type": "markdown",
   "source": "# IN4325 Information Retrieval CoreIR Project\n\n### Authors\n\n- Vishruty Mittal (5584825)\n- Philip Kuo (5675553)\n- Lian Wu (5354285)\n\n### Our Job for the Project\n\nGiven a standard test collection (MS-Marco) and task (either document ranking or passage ranking), implement 2 reasonable baselines (required: one probabilistic model and one learning to rank model), index the test collection and evaluate the 200 test queries (the relevance judgments for those 200 queries is available from the same web page) with the test collection's commonly employed evaluation metrics. When you employ a machine learning-based approach, ensure that you do not mix up training/validation and test datasets.\n\nGiven these initial results, conduct an error analysis on either a sample of validation or training queries for at least one of your models: sample a few topics that have achieved very low retrieval effectiveness and explore why this has likely happened. This requires looking at the top retrieved documents and using your knowledge of the retrieval model to hypothesize what is the likely cause. A good starting point for this analysis is provided by the topic failure analysis template (Figure 1 in the linked report) of the Reliable Information Access Final Workshop Report.\n\nBased on the error analysis, propose two improvements to at least one of your baselines (e.g. via neural net approaches, pseudo-relevance feedback, informed document priors, semantic approaches, external data sources such as Wikipedia … take a dive into the literature - many runs submitted to the MS-Marco leaderboard are accompanied by papers; alternatively, look at the TREC 2019 papers that made use of this dataset) and empirically evaluate those new models. Report for how many queries your improved retrieval model outperformed the baseline. Were you able to improve topics that you had identified as being not served well by your baseline? Discuss your findings. Feel free to add additional points of analysis (e.g. the impact of smoothing).\n\n- [Course Project Webpage (BrightSpace)](https://brightspace.tudelft.nl/d2l/le/content/400612/Home)\n- [Our older Google Colab doc](https://colab.research.google.com/drive/1EnYPVEXYDGvlzxqPzzIhEpqxhtFmeX2T?usp=sharing)\n\n### Referencing/Learning Resources\n\n- [PyTerrier demonstration for msmarco_passage](http://data.terrier.org/indices/msmarco_passage/retrieval.html)\n- [PyTerrier CIKM 2021 Tutorial Notebook](https://github.com/terrier-org/cikm2021tutorial/blob/main/notebooks/notebook3.ipynb)\n- [Available Datasets](https://pyterrier.readthedocs.io/en/latest/datasets.html#available-datasets)",
   "metadata": {
    "tags": [],
    "cell_id": "a0310af2-10d7-4978-91f8-2b2f9cedac7f",
    "deepnote_cell_type": "markdown"
   }
  },
  {
   "cell_type": "code",
   "metadata": {
    "cell_id": "74af8675-c1e1-4dd4-81b1-a68011464d6f",
    "tags": [],
    "deepnote_cell_type": "code"
   },
   "source": "",
   "execution_count": null,
   "outputs": []
  },
  {
   "cell_type": "code",
   "metadata": {
    "tags": [],
    "deepnote_to_be_reexecuted": false,
    "source_hash": "4bddeea1",
    "execution_start": 1646478921580,
    "execution_millis": 14315,
    "cell_id": "00001-cd839360-8084-4bbc-9194-3b95f43cdcbd",
    "deepnote_cell_type": "code"
   },
   "source": "!sudo apt update && sudo apt upgrade -y\n!sudo apt-get install -y openjdk-11-jre\n!sudo apt-get install -y openjdk-11-jdk\n!pip install -q python-terrier\nimport pyterrier as pt\nif not pt.started():\n    pt.init()\n\nfrom pyterrier.measures import *\ndataset = pt.get_dataset('msmarco_passage')",
   "execution_count": null,
   "outputs": [
    {
     "name": "stdout",
     "text": "Hit:1 http://deb.debian.org/debian buster InRelease\nHit:2 http://deb.debian.org/debian buster-updates InRelease\nHit:3 http://security.debian.org/debian-security buster/updates InRelease\n\n\n\nAll packages are up to date.\n\n\n\n\n0 upgraded, 0 newly installed, 0 to remove and 0 not upgraded.\n\n\n\nopenjdk-11-jre is already the newest version (11.0.14+9-1~deb10u1).\n0 upgraded, 0 newly installed, 0 to remove and 0 not upgraded.\n\n\n\nopenjdk-11-jdk is already the newest version (11.0.14+9-1~deb10u1).\n0 upgraded, 0 newly installed, 0 to remove and 0 not upgraded.\n\u001b[33mWARNING: You are using pip version 20.1.1; however, version 22.0.3 is available.\nYou should consider upgrading via the '/root/venv/bin/python -m pip install --upgrade pip' command.\u001b[0m\nPyTerrier 0.8.0 has loaded Terrier 5.6 (built by craigmacdonald on 2021-09-17 13:27)\n\n",
     "output_type": "stream"
    }
   ]
  },
  {
   "cell_type": "markdown",
   "source": "## Ranking MSMARCO Passages with Different Improvements\n\n- [MSMARCO Passage Ranking Variants](http://data.terrier.org/msmarco_passage.dataset.html#terrier_unstemmed)",
   "metadata": {
    "tags": [],
    "cell_id": "00002-b3eaa5b0-cb2e-4d40-9e26-f3d8f09fe24d",
    "deepnote_cell_type": "markdown"
   }
  },
  {
   "cell_type": "code",
   "metadata": {
    "tags": [],
    "deepnote_to_be_reexecuted": false,
    "source_hash": "2c63f6dd",
    "execution_start": 1646478935903,
    "execution_millis": 148244,
    "cell_id": "00003-92710d83-f1a4-4d73-bc54-68007e0b6f52",
    "deepnote_cell_type": "code"
   },
   "source": "# For TF_IDF\n\ntfidf = pt.BatchRetrieve.from_dataset('msmarco_passage', 'terrier_unstemmed', wmodel='TF_IDF')",
   "execution_count": null,
   "outputs": [
    {
     "name": "stdout",
     "text": "Downloading msmarco_passage index to /root/.pyterrier/corpora/msmarco_passage/index/terrier_unstemmed\n/root/venv/lib/python3.7/site-packages/pyterrier/datasets.py:278: UserWarning: Downloading index of > 2GB.\n  warn(\"Downloading index of > 2GB.\")\ndata.direct.bf: 100%|██████████| 734M/734M [00:47<00:00, 16.3MiB/s]\ndata.document.fsarrayfile: 100%|██████████| 177M/177M [00:11<00:00, 15.7MiB/s]\ndata.inverted.bf: 100%|██████████| 562M/562M [00:35<00:00, 16.4MiB/s]\ndata.lexicon.fsomapfile: 100%|██████████| 118M/118M [00:08<00:00, 15.2MiB/s]\ndata.lexicon.fsomaphash: 100%|██████████| 0.99k/0.99k [00:00<00:00, 3.01MiB/s]\ndata.lexicon.fsomapid: 100%|██████████| 5.23M/5.23M [00:01<00:00, 5.31MiB/s]\ndata.meta-0.fsomapfile: 100%|██████████| 295M/295M [00:18<00:00, 16.7MiB/s]\ndata.meta.idx: 100%|██████████| 67.5M/67.5M [00:05<00:00, 14.0MiB/s]\ndata.meta.zdata: 100%|██████████| 193M/193M [00:13<00:00, 14.5MiB/s]\ndata.properties: 100%|██████████| 4.29k/4.29k [00:00<00:00, 8.01MiB/s]\nmd5sums: 100%|██████████| 537/537 [00:00<00:00, 1.09MiB/s]\n",
     "output_type": "stream"
    }
   ]
  },
  {
   "cell_type": "code",
   "metadata": {
    "tags": [],
    "deepnote_to_be_reexecuted": false,
    "source_hash": "4b6e7e43",
    "execution_start": 1646479084155,
    "execution_millis": 2154,
    "cell_id": "00004-40e7c36b-b3ba-4426-827d-dd948f157155",
    "deepnote_cell_type": "code"
   },
   "source": "# For BM25\n\nbm25 = pt.BatchRetrieve.from_dataset('msmarco_passage', 'terrier_unstemmed', wmodel='BM25')",
   "execution_count": null,
   "outputs": []
  },
  {
   "cell_type": "code",
   "metadata": {
    "tags": [],
    "deepnote_to_be_reexecuted": false,
    "source_hash": "9021d05",
    "execution_start": 1646479086324,
    "execution_millis": 105870,
    "cell_id": "00005-8d36a425-09bb-40b2-95e3-85b7a4e5196b",
    "deepnote_cell_type": "code"
   },
   "source": "# For BM25 with stemming\n\nbm25_terrier_stemmed = pt.BatchRetrieve.from_dataset('msmarco_passage', 'terrier_stemmed', wmodel='BM25')",
   "execution_count": null,
   "outputs": [
    {
     "name": "stdout",
     "text": "Downloading msmarco_passage index to /root/.pyterrier/corpora/msmarco_passage/index/terrier_stemmed\ndata.direct.bf: 100%|██████████| 486M/486M [00:30<00:00, 16.9MiB/s]\ndata.document.fsarrayfile: 100%|██████████| 177M/177M [00:11<00:00, 15.9MiB/s]\ndata.inverted.bf: 100%|██████████| 377M/377M [00:27<00:00, 14.5MiB/s]\ndata.lexicon.fsomapfile: 100%|██████████| 100M/100M [00:07<00:00, 13.6MiB/s] \ndata.lexicon.fsomaphash: 100%|██████████| 0.99k/0.99k [00:00<00:00, 466kiB/s]\ndata.lexicon.fsomapid: 100%|██████████| 4.47M/4.47M [00:00<00:00, 5.41MiB/s]\ndata.meta.idx: 100%|██████████| 67.5M/67.5M [00:08<00:00, 7.97MiB/s]\ndata.meta.zdata: 100%|██████████| 193M/193M [00:12<00:00, 15.9MiB/s]\ndata.properties: 100%|██████████| 4.29k/4.29k [00:00<00:00, 1.37MiB/s]\nmd5sums: 100%|██████████| 480/480 [00:00<00:00, 957kiB/s]\n",
     "output_type": "stream"
    }
   ]
  },
  {
   "cell_type": "code",
   "metadata": {
    "tags": [],
    "deepnote_to_be_reexecuted": false,
    "source_hash": "a6b69ad3",
    "execution_start": 1646479192201,
    "execution_millis": 156785,
    "cell_id": "00006-818fe845-c4f6-4668-be8f-14f9728f004b",
    "deepnote_cell_type": "code"
   },
   "source": "# For BM25 with stemming + docT5query\n# Repo: Document Expansion by Query Prediction (https://github.com/castorini/docTTTTTquery)\n\nbm25_terrier_stemmed_docT5query = pt.BatchRetrieve.from_dataset('msmarco_passage', 'terrier_stemmed_docT5query', wmodel='BM25')",
   "execution_count": null,
   "outputs": [
    {
     "name": "stdout",
     "text": "Downloading msmarco_passage index to /root/.pyterrier/corpora/msmarco_passage/index/terrier_stemmed_docT5query\ndata.direct.bf: 100%|██████████| 925M/925M [00:57<00:00, 16.9MiB/s]\ndata.document.fsarrayfile: 100%|██████████| 177M/177M [00:13<00:00, 14.1MiB/s]\ndata.inverted.bf: 100%|██████████| 771M/771M [00:47<00:00, 17.1MiB/s]\ndata.lexicon.fsomapfile: 100%|██████████| 201M/201M [00:14<00:00, 14.5MiB/s]\ndata.lexicon.fsomaphash: 100%|██████████| 0.99k/0.99k [00:00<00:00, 2.76MiB/s]\ndata.lexicon.fsomapid: 100%|██████████| 8.93M/8.93M [00:01<00:00, 8.01MiB/s]\ndata.meta.idx: 100%|██████████| 67.5M/67.5M [00:05<00:00, 14.1MiB/s]\ndata.meta.zdata: 100%|██████████| 193M/193M [00:12<00:00, 15.6MiB/s]\ndata.properties: 100%|██████████| 4.30k/4.30k [00:00<00:00, 5.27MiB/s]\nmd5sums: 100%|██████████| 522/522 [00:00<00:00, 894kiB/s]\n11:22:28.953 [main] WARN org.terrier.structures.BaseCompressingMetaIndex - OutOfMemoryError: Structure meta reading data file directly from disk\n",
     "output_type": "stream"
    }
   ]
  },
  {
   "cell_type": "markdown",
   "source": "### Query Expansion",
   "metadata": {
    "tags": [],
    "is_collapsed": false,
    "cell_id": "00007-2438285a-6c7a-4759-9f64-c747beefc789",
    "deepnote_cell_type": "text-cell-h3"
   }
  },
  {
   "cell_type": "code",
   "metadata": {
    "tags": [],
    "deepnote_to_be_reexecuted": false,
    "source_hash": "b623e53d",
    "execution_start": 1646479349018,
    "execution_millis": 70382382,
    "cell_id": "00008-70830601-1d16-4b2d-ac07-8f1006286b8a",
    "deepnote_cell_type": "code"
   },
   "source": "",
   "execution_count": null,
   "outputs": []
  },
  {
   "cell_type": "code",
   "metadata": {
    "tags": [],
    "deepnote_to_be_reexecuted": false,
    "source_hash": "fb4dc2b4",
    "execution_start": 1646479349034,
    "execution_millis": 172500,
    "cell_id": "00009-da4c2cce-5db0-4ccc-ab78-1886b1651500",
    "deepnote_cell_type": "code"
   },
   "source": "# For BM25 with stemming + DeepCT\n\nbm25_terrier_stemmed_deepct = pt.BatchRetrieve.from_dataset('msmarco_passage', 'terrier_stemmed_deepct', wmodel='BM25')",
   "execution_count": null,
   "outputs": [
    {
     "name": "stdout",
     "text": "Downloading msmarco_passage index to /root/.pyterrier/corpora/msmarco_passage/index/terrier_stemmed_deepct\ndata.direct.bf:   1%|▏         | 13.7M/938M [00:02<01:13, 13.2MiB/s]",
     "output_type": "stream"
    }
   ]
  },
  {
   "cell_type": "markdown",
   "source": "## Running PyTerrier Analytics\n\n- [Documentation on doing Analytics](https://pyterrier.readthedocs.io/en/latest/experiments.html#running-experiments)\n- [Available Evaluation Measures](https://pyterrier.readthedocs.io/en/latest/experiments.html#available-evaluation-measures)\n\n### Available Evaluation Measures (TODO: We have to choose)\n\n- Mean Average Precision (map).\n- Mean Reciprocal Rank (recip_rank).\n- Normalized Discounted Cumulative Gain (ndcg), or calculated at a given rank cutoff (e.g. ndcg_cut_5).\n- Number of queries (num_q) - not averaged.\n- Number of retrieved documents (num_ret) - not averaged.\n- Number of relevant documents (num_rel) - not averaged.\n- Number of relevant documents retrieved (num_rel_ret) - not averaged.\n- Interpolated recall precision curves (iprec_at_recall). This is family of measures, so requesting iprec_at_recall will output measurements for IPrec@0.- 00, IPrec@0.10, etc.\n- Precision at rank cutoff (e.g. P_5).\n- Recall (recall) will generate recall at different cutoffs, such as recall_5, etc.).\n- Mean response time (mrt) will report the average number of milliseconds to conduct a query (this is calculated by pt.Experiment() directly, not pytrec_eval).\n- trec_eval measure families such as official, set and all_trec will be expanded. These result in many measures being returned. For instance, asking for - official results in the following (very wide) output reporting the usual default metrics of trec_eval:",
   "metadata": {
    "tags": [],
    "cell_id": "00010-b9fbe35a-944e-4d9a-8196-ce03e99af302",
    "deepnote_cell_type": "markdown"
   }
  },
  {
   "cell_type": "code",
   "metadata": {
    "tags": [],
    "deepnote_to_be_reexecuted": true,
    "source_hash": "448ae524",
    "execution_start": 1646408566192,
    "execution_millis": 130469,
    "cell_id": "00011-298e3493-da03-478c-8b47-013bb9c081df",
    "deepnote_cell_type": "code"
   },
   "source": "pt.Experiment(\n    [tfidf, bm25, bm25_terrier_stemmed, bm25_terrier_stemmed_docT5query, bm25_terrier_stemmed_deepct],\n    pt.get_dataset('msmarco_passage').get_topics('test-2019'),\n    pt.get_dataset('msmarco_passage').get_qrels('test-2019'),\n    batch_size=200,\n    filter_by_qrels=True,\n    eval_metrics=[\"map\", \"recip_rank\"],\n    names=['TF_IDF', 'BM25', 'BM25 Stemmed', 'BM25 Stemmed + docT5query', 'BM25 Stemmed + DeepCT'])",
   "execution_count": null,
   "outputs": [
    {
     "name": "stdout",
     "text": "Downloading msmarco_passage topics to /root/.pyterrier/corpora/msmarco_passage/msmarco-test2019-queries.tsv.gz\nmsmarco-test2019-queries.tsv.gz: 100%|██████████| 4.18k/4.18k [00:00<00:00, 2.51MiB/s]\nDownloading msmarco_passage qrels to /root/.pyterrier/corpora/msmarco_passage/2019qrels-docs.txt\n2019qrels-docs.txt: 100%|██████████| 183k/183k [00:00<00:00, 10.6MiB/s]\n",
     "output_type": "stream"
    },
    {
     "output_type": "execute_result",
     "execution_count": 7,
     "data": {
      "application/vnd.deepnote.dataframe.v3+json": {
       "column_count": 3,
       "row_count": 5,
       "columns": [
        {
         "name": "name",
         "dtype": "object",
         "stats": {
          "unique_count": 5,
          "nan_count": 0,
          "categories": [
           {
            "name": "TF_IDF",
            "count": 1
           },
           {
            "name": "BM25",
            "count": 1
           },
           {
            "name": "3 others",
            "count": 3
           }
          ]
         }
        },
        {
         "name": "map",
         "dtype": "float64",
         "stats": {
          "unique_count": 5,
          "nan_count": 0,
          "min": "0.3292053452149179",
          "max": "0.45383001299602727",
          "histogram": [
           {
            "bin_start": 0.3292053452149179,
            "bin_end": 0.3416678119930288,
            "count": 2
           },
           {
            "bin_start": 0.3416678119930288,
            "bin_end": 0.3541302787711398,
            "count": 0
           },
           {
            "bin_start": 0.3541302787711398,
            "bin_end": 0.3665927455492507,
            "count": 0
           },
           {
            "bin_start": 0.3665927455492507,
            "bin_end": 0.37905521232736167,
            "count": 1
           },
           {
            "bin_start": 0.37905521232736167,
            "bin_end": 0.3915176791054726,
            "count": 0
           },
           {
            "bin_start": 0.3915176791054726,
            "bin_end": 0.40398014588358355,
            "count": 1
           },
           {
            "bin_start": 0.40398014588358355,
            "bin_end": 0.41644261266169447,
            "count": 0
           },
           {
            "bin_start": 0.41644261266169447,
            "bin_end": 0.4289050794398054,
            "count": 0
           },
           {
            "bin_start": 0.4289050794398054,
            "bin_end": 0.44136754621791635,
            "count": 0
           },
           {
            "bin_start": 0.44136754621791635,
            "bin_end": 0.45383001299602727,
            "count": 1
           }
          ]
         }
        },
        {
         "name": "recip_rank",
         "dtype": "float64",
         "stats": {
          "unique_count": 5,
          "nan_count": 0,
          "min": "0.7534183977705572",
          "max": "0.9",
          "histogram": [
           {
            "bin_start": 0.7534183977705572,
            "bin_end": 0.7680765579935015,
            "count": 1
           },
           {
            "bin_start": 0.7680765579935015,
            "bin_end": 0.7827347182164458,
            "count": 0
           },
           {
            "bin_start": 0.7827347182164458,
            "bin_end": 0.79739287843939,
            "count": 1
           },
           {
            "bin_start": 0.79739287843939,
            "bin_end": 0.8120510386623343,
            "count": 1
           },
           {
            "bin_start": 0.8120510386623343,
            "bin_end": 0.8267091988852786,
            "count": 0
           },
           {
            "bin_start": 0.8267091988852786,
            "bin_end": 0.8413673591082229,
            "count": 0
           },
           {
            "bin_start": 0.8413673591082229,
            "bin_end": 0.8560255193311672,
            "count": 1
           },
           {
            "bin_start": 0.8560255193311672,
            "bin_end": 0.8706836795541114,
            "count": 0
           },
           {
            "bin_start": 0.8706836795541114,
            "bin_end": 0.8853418397770557,
            "count": 0
           },
           {
            "bin_start": 0.8853418397770557,
            "bin_end": 0.9,
            "count": 1
           }
          ]
         }
        },
        {
         "name": "_deepnote_index_column",
         "dtype": "int64"
        }
       ],
       "rows": [
        {
         "name": "TF_IDF",
         "map": 0.33965831133699004,
         "recip_rank": 0.8113024913982507,
         "_deepnote_index_column": 0
        },
        {
         "name": "BM25",
         "map": 0.3292053452149179,
         "recip_rank": 0.7534183977705572,
         "_deepnote_index_column": 1
        },
        {
         "name": "BM25 Stemmed",
         "map": 0.37000371237839114,
         "recip_rank": 0.795028067361668,
         "_deepnote_index_column": 2
        },
        {
         "name": "BM25 Stemmed + docT5query",
         "map": 0.45383001299602727,
         "recip_rank": 0.9,
         "_deepnote_index_column": 3
        },
        {
         "name": "BM25 Stemmed + DeepCT",
         "map": 0.3962814151305854,
         "recip_rank": 0.842469545957918,
         "_deepnote_index_column": 4
        }
       ]
      },
      "text/plain": "                        name       map  recip_rank\n0                     TF_IDF  0.339658    0.811302\n1                       BM25  0.329205    0.753418\n2               BM25 Stemmed  0.370004    0.795028\n3  BM25 Stemmed + docT5query  0.453830    0.900000\n4      BM25 Stemmed + DeepCT  0.396281    0.842470",
      "text/html": "<div>\n<style scoped>\n    .dataframe tbody tr th:only-of-type {\n        vertical-align: middle;\n    }\n\n    .dataframe tbody tr th {\n        vertical-align: top;\n    }\n\n    .dataframe thead th {\n        text-align: right;\n    }\n</style>\n<table border=\"1\" class=\"dataframe\">\n  <thead>\n    <tr style=\"text-align: right;\">\n      <th></th>\n      <th>name</th>\n      <th>map</th>\n      <th>recip_rank</th>\n    </tr>\n  </thead>\n  <tbody>\n    <tr>\n      <th>0</th>\n      <td>TF_IDF</td>\n      <td>0.339658</td>\n      <td>0.811302</td>\n    </tr>\n    <tr>\n      <th>1</th>\n      <td>BM25</td>\n      <td>0.329205</td>\n      <td>0.753418</td>\n    </tr>\n    <tr>\n      <th>2</th>\n      <td>BM25 Stemmed</td>\n      <td>0.370004</td>\n      <td>0.795028</td>\n    </tr>\n    <tr>\n      <th>3</th>\n      <td>BM25 Stemmed + docT5query</td>\n      <td>0.453830</td>\n      <td>0.900000</td>\n    </tr>\n    <tr>\n      <th>4</th>\n      <td>BM25 Stemmed + DeepCT</td>\n      <td>0.396281</td>\n      <td>0.842470</td>\n    </tr>\n  </tbody>\n</table>\n</div>"
     },
     "metadata": {}
    }
   ]
  },
  {
   "cell_type": "markdown",
   "source": "<a style='text-decoration:none;line-height:16px;display:flex;color:#5B5B62;padding:10px;justify-content:end;' href='https://deepnote.com?utm_source=created-in-deepnote-cell&projectId=eeb7fcb4-84cb-4f4a-9830-9d1fcbc47e1d' target=\"_blank\">\n<img alt='Created in deepnote.com' style='display:inline;max-height:16px;margin:0px;margin-right:7.5px;' src='data:image/svg+xml;base64,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' > </img>\nCreated in <span style='font-weight:600;margin-left:4px;'>Deepnote</span></a>",
   "metadata": {
    "tags": [],
    "created_in_deepnote_cell": true,
    "deepnote_cell_type": "markdown"
   }
  }
 ],
 "nbformat": 4,
 "nbformat_minor": 2,
 "metadata": {
  "orig_nbformat": 2,
  "deepnote": {
   "is_reactive": false
  },
  "deepnote_notebook_id": "bd2c2ba4-8266-4910-ac39-13f68e7ce8fd",
  "deepnote_execution_queue": []
 }
}