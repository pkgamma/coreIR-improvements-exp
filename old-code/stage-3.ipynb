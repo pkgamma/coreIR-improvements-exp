{
 "cells": [
  {
   "cell_type": "code",
   "metadata": {
    "cell_id": "44f42c94-38a3-4ebd-89b0-8680efbaf0bd",
    "tags": [],
    "deepnote_to_be_reexecuted": false,
    "source_hash": "43970834",
    "execution_start": 1646409591081,
    "execution_millis": 7873,
    "deepnote_cell_type": "code"
   },
   "source": "!pip install -q python-terrier\nimport pyterrier as pt\nif not pt.started():\n    pt.init()\n\n# from pyterrier.measures import *\n# dataset = pt.get_dataset('msmarco_passage')",
   "execution_count": null,
   "outputs": [
    {
     "name": "stdout",
     "text": "\u001b[33mWARNING: You are using pip version 20.1.1; however, version 22.0.3 is available.\nYou should consider upgrading via the '/root/venv/bin/python -m pip install --upgrade pip' command.\u001b[0m\nPyTerrier 0.8.0 has loaded Terrier 5.6 (built by craigmacdonald on 2021-09-17 13:27)\n\n",
     "output_type": "stream"
    }
   ]
  },
  {
   "cell_type": "code",
   "metadata": {
    "tags": [],
    "cell_id": "a9890142-502f-4879-b46b-8fe173a711f7",
    "deepnote_to_be_reexecuted": false,
    "source_hash": "14caac8b",
    "execution_start": 1646409598981,
    "execution_millis": 171270,
    "deepnote_cell_type": "code"
   },
   "source": "def msmarco_generate():\n    dataset = pt.get_dataset(\"msmarco_passage\")\n    with pt.io.autoopen(dataset.get_corpus()[0], 'rt') as corpusfile:\n        for l in corpusfile:\n            docno, passage = l.split(\"\\t\")\n            yield {'docno' : docno, 'text' : passage}\n\niter_indexer = pt.IterDictIndexer(\"./passage_index\")\nindexref = iter_indexer.index(msmarco_generate(), meta={})\n\nBM25_withFeatures = pt.FeaturesBatchRetrieve(indexref, wmodel=\"BM25\", features=[\"WMODEL:Tf\", \"WMODEL:PL2\", \"WMODEL:TF_IDF\"])\n\nimport xgboost as xgb\nparams = {'objective': 'rank:ndcg', \n          'learning_rate': 0.1, \n          'gamma': 1.0, 'min_child_weight': 0.1,\n          'max_depth': 6,\n          'verbose': 2,\n          'random_state': 42 \n         }\n\nxgb_pipe= xgb.sklearn.XGBRanker(**params)\n\n\n\nnew_xgb_pipe = BM25_withFeatures >> pt.ltr.apply_learned_model(xgb_pipe,ltr)\n\n\nnew_xgb_pipe.fit(dataset.get_topics('train'), dataset.get_qrels('train'), dataset.get_topics('dev'), dataset.get_qrels('dev'))\n\nresults = pt.Experiment([BM25_withFeatures, \n                        new_xgb_pipe ],\n                       dataset.get_topics(\"test-2019\"), \n                       dataset.get_qrels(\"test-2019\"),\n                       eval_metrics=[\"ndcg_cut_10\",\"map\"],\n                       names=[\"BM25\", \"xgBoost\" ]\n                  )\nprint(results)",
   "execution_count": null,
   "outputs": [
    {
     "name": "stderr",
     "text": "/shared-libs/python3.7/py-core/lib/python3.7/site-packages/ipykernel_launcher.py:9: DeprecationWarning: specifying meta and meta_lengths in IterDictIndexer.index() is deprecated, use constructor instead\n  if __name__ == '__main__':\nDownloading msmarco_passage corpus to /root/.pyterrier/corpora/msmarco_passage/corpus\nDownloading msmarco_passage tars to /root/.pyterrier/corpora/msmarco_passage/collection.tar.gz\ncollection.tar.gz:  62%|██████▏   | 611M/987M [00:51<00:37, 10.4MiB/s]",
     "output_type": "stream"
    },
    {
     "name": "stderr",
     "text": "collection.tar.gz:  78%|███████▊  | 770M/987M [01:12<00:21, 10.8MiB/s]IOPub message rate exceeded.\nThe notebook server will temporarily stop sending output\nto the client in order to avoid crashing it.\nTo change this limit, set the config variable\n`--NotebookApp.iopub_msg_rate_limit`.\n\nCurrent values:\nNotebookApp.iopub_msg_rate_limit=50.0 (msgs/sec)\nNotebookApp.rate_limit_window=3.0 (secs)\n\ncollection.tar.gz: 100%|██████████| 987M/987M [01:45<00:00, 9.84MiB/s]\n",
     "output_type": "stream"
    },
    {
     "output_type": "error",
     "ename": "JavaException",
     "evalue": "JVM exception occurred: java.util.concurrent.ExecutionException: java.lang.NumberFormatException java.lang.RuntimeException",
     "traceback": [
      "\u001b[0;31m---------------------------------------------------------------------------\u001b[0m",
      "\u001b[0;31mJavaException\u001b[0m                             Traceback (most recent call last)",
      "\u001b[0;32m<ipython-input-2-59feecb6a814>\u001b[0m in \u001b[0;36m<module>\u001b[0;34m\u001b[0m\n\u001b[1;32m      7\u001b[0m \u001b[0;34m\u001b[0m\u001b[0m\n\u001b[1;32m      8\u001b[0m \u001b[0miter_indexer\u001b[0m \u001b[0;34m=\u001b[0m \u001b[0mpt\u001b[0m\u001b[0;34m.\u001b[0m\u001b[0mIterDictIndexer\u001b[0m\u001b[0;34m(\u001b[0m\u001b[0;34m\"./passage_index\"\u001b[0m\u001b[0;34m)\u001b[0m\u001b[0;34m\u001b[0m\u001b[0;34m\u001b[0m\u001b[0m\n\u001b[0;32m----> 9\u001b[0;31m \u001b[0mindexref\u001b[0m \u001b[0;34m=\u001b[0m \u001b[0miter_indexer\u001b[0m\u001b[0;34m.\u001b[0m\u001b[0mindex\u001b[0m\u001b[0;34m(\u001b[0m\u001b[0mmsmarco_generate\u001b[0m\u001b[0;34m(\u001b[0m\u001b[0;34m)\u001b[0m\u001b[0;34m,\u001b[0m \u001b[0mmeta\u001b[0m\u001b[0;34m=\u001b[0m\u001b[0;34m{\u001b[0m\u001b[0;34m}\u001b[0m\u001b[0;34m)\u001b[0m\u001b[0;34m\u001b[0m\u001b[0;34m\u001b[0m\u001b[0m\n\u001b[0m\u001b[1;32m     10\u001b[0m \u001b[0;34m\u001b[0m\u001b[0m\n\u001b[1;32m     11\u001b[0m \u001b[0mBM25_withFeatures\u001b[0m \u001b[0;34m=\u001b[0m \u001b[0mpt\u001b[0m\u001b[0;34m.\u001b[0m\u001b[0mFeaturesBatchRetrieve\u001b[0m\u001b[0;34m(\u001b[0m\u001b[0mindexref\u001b[0m\u001b[0;34m,\u001b[0m \u001b[0mwmodel\u001b[0m\u001b[0;34m=\u001b[0m\u001b[0;34m\"BM25\"\u001b[0m\u001b[0;34m,\u001b[0m \u001b[0mfeatures\u001b[0m\u001b[0;34m=\u001b[0m\u001b[0;34m[\u001b[0m\u001b[0;34m\"WMODEL:Tf\"\u001b[0m\u001b[0;34m,\u001b[0m \u001b[0;34m\"WMODEL:PL2\"\u001b[0m\u001b[0;34m,\u001b[0m \u001b[0;34m\"WMODEL:TF_IDF\"\u001b[0m\u001b[0;34m]\u001b[0m\u001b[0;34m)\u001b[0m\u001b[0;34m\u001b[0m\u001b[0;34m\u001b[0m\u001b[0m\n",
      "\u001b[0;32m~/venv/lib/python3.7/site-packages/pyterrier/index.py\u001b[0m in \u001b[0;36mindex\u001b[0;34m(self, it, fields, meta, meta_lengths)\u001b[0m\n\u001b[1;32m    740\u001b[0m \u001b[0;34m\u001b[0m\u001b[0m\n\u001b[1;32m    741\u001b[0m             \u001b[0;31m# Start the indexing threads\u001b[0m\u001b[0;34m\u001b[0m\u001b[0;34m\u001b[0m\u001b[0;34m\u001b[0m\u001b[0m\n\u001b[0;32m--> 742\u001b[0;31m             \u001b[0mParallelIndexer\u001b[0m\u001b[0;34m.\u001b[0m\u001b[0mbuildParallel\u001b[0m\u001b[0;34m(\u001b[0m\u001b[0mj_collections\u001b[0m\u001b[0;34m,\u001b[0m \u001b[0mself\u001b[0m\u001b[0;34m.\u001b[0m\u001b[0mindex_dir\u001b[0m\u001b[0;34m,\u001b[0m \u001b[0mIndexer\u001b[0m\u001b[0;34m,\u001b[0m \u001b[0mMerger\u001b[0m\u001b[0;34m)\u001b[0m\u001b[0;34m\u001b[0m\u001b[0;34m\u001b[0m\u001b[0m\n\u001b[0m\u001b[1;32m    743\u001b[0m             \u001b[0;32mreturn\u001b[0m \u001b[0mIndexRef\u001b[0m\u001b[0;34m.\u001b[0m\u001b[0mof\u001b[0m\u001b[0;34m(\u001b[0m\u001b[0mself\u001b[0m\u001b[0;34m.\u001b[0m\u001b[0mindex_dir\u001b[0m \u001b[0;34m+\u001b[0m \u001b[0;34m\"/data.properties\"\u001b[0m\u001b[0;34m)\u001b[0m\u001b[0;34m\u001b[0m\u001b[0;34m\u001b[0m\u001b[0m\n\u001b[1;32m    744\u001b[0m \u001b[0;34m\u001b[0m\u001b[0m\n",
      "\u001b[0;32mjnius/jnius_export_class.pxi\u001b[0m in \u001b[0;36mjnius.JavaMethod.__call__\u001b[0;34m()\u001b[0m\n",
      "\u001b[0;32mjnius/jnius_export_class.pxi\u001b[0m in \u001b[0;36mjnius.JavaMethod.call_staticmethod\u001b[0;34m()\u001b[0m\n",
      "\u001b[0;32mjnius/jnius_jvm_dlopen.pxi\u001b[0m in \u001b[0;36mjnius.create_jnienv\u001b[0;34m()\u001b[0m\n",
      "\u001b[0;31mJavaException\u001b[0m: JVM exception occurred: java.util.concurrent.ExecutionException: java.lang.NumberFormatException java.lang.RuntimeException"
     ]
    }
   ]
  },
  {
   "cell_type": "markdown",
   "source": "<a style='text-decoration:none;line-height:16px;display:flex;color:#5B5B62;padding:10px;justify-content:end;' href='https://deepnote.com?utm_source=created-in-deepnote-cell&projectId=eeb7fcb4-84cb-4f4a-9830-9d1fcbc47e1d' target=\"_blank\">\n<img alt='Created in deepnote.com' style='display:inline;max-height:16px;margin:0px;margin-right:7.5px;' src='data:image/svg+xml;base64,PD94bWwgdmVyc2lvbj0iMS4wIiBlbmNvZGluZz0iVVRGLTgiPz4KPHN2ZyB3aWR0aD0iODBweCIgaGVpZ2h0PSI4MHB4IiB2aWV3Qm94PSIwIDAgODAgODAiIHZlcnNpb249IjEuMSIgeG1sbnM9Imh0dHA6Ly93d3cudzMub3JnLzIwMDAvc3ZnIiB4bWxuczp4bGluaz0iaHR0cDovL3d3dy53My5vcmcvMTk5OS94bGluayI+CiAgICA8IS0tIEdlbmVyYXRvcjogU2tldGNoIDU0LjEgKDc2NDkwKSAtIGh0dHBzOi8vc2tldGNoYXBwLmNvbSAtLT4KICAgIDx0aXRsZT5Hcm91cCAzPC90aXRsZT4KICAgIDxkZXNjPkNyZWF0ZWQgd2l0aCBTa2V0Y2guPC9kZXNjPgogICAgPGcgaWQ9IkxhbmRpbmciIHN0cm9rZT0ibm9uZSIgc3Ryb2tlLXdpZHRoPSIxIiBmaWxsPSJub25lIiBmaWxsLXJ1bGU9ImV2ZW5vZGQiPgogICAgICAgIDxnIGlkPSJBcnRib2FyZCIgdHJhbnNmb3JtPSJ0cmFuc2xhdGUoLTEyMzUuMDAwMDAwLCAtNzkuMDAwMDAwKSI+CiAgICAgICAgICAgIDxnIGlkPSJHcm91cC0zIiB0cmFuc2Zvcm09InRyYW5zbGF0ZSgxMjM1LjAwMDAwMCwgNzkuMDAwMDAwKSI+CiAgICAgICAgICAgICAgICA8cG9seWdvbiBpZD0iUGF0aC0yMCIgZmlsbD0iIzAyNjVCNCIgcG9pbnRzPSIyLjM3NjIzNzYyIDgwIDM4LjA0NzY2NjcgODAgNTcuODIxNzgyMiA3My44MDU3NTkyIDU3LjgyMTc4MjIgMzIuNzU5MjczOSAzOS4xNDAyMjc4IDMxLjY4MzE2ODMiPjwvcG9seWdvbj4KICAgICAgICAgICAgICAgIDxwYXRoIGQ9Ik0zNS4wMDc3MTgsODAgQzQyLjkwNjIwMDcsNzYuNDU0OTM1OCA0Ny41NjQ5MTY3LDcxLjU0MjI2NzEgNDguOTgzODY2LDY1LjI2MTk5MzkgQzUxLjExMjI4OTksNTUuODQxNTg0MiA0MS42NzcxNzk1LDQ5LjIxMjIyODQgMjUuNjIzOTg0Niw0OS4yMTIyMjg0IEMyNS40ODQ5Mjg5LDQ5LjEyNjg0NDggMjkuODI2MTI5Niw0My4yODM4MjQ4IDM4LjY0NzU4NjksMzEuNjgzMTY4MyBMNzIuODcxMjg3MSwzMi41NTQ0MjUgTDY1LjI4MDk3Myw2Ny42NzYzNDIxIEw1MS4xMTIyODk5LDc3LjM3NjE0NCBMMzUuMDA3NzE4LDgwIFoiIGlkPSJQYXRoLTIyIiBmaWxsPSIjMDAyODY4Ij48L3BhdGg+CiAgICAgICAgICAgICAgICA8cGF0aCBkPSJNMCwzNy43MzA0NDA1IEwyNy4xMTQ1MzcsMC4yNTcxMTE0MzYgQzYyLjM3MTUxMjMsLTEuOTkwNzE3MDEgODAsMTAuNTAwMzkyNyA4MCwzNy43MzA0NDA1IEM4MCw2NC45NjA0ODgyIDY0Ljc3NjUwMzgsNzkuMDUwMzQxNCAzNC4zMjk1MTEzLDgwIEM0Ny4wNTUzNDg5LDc3LjU2NzA4MDggNTMuNDE4MjY3Nyw3MC4zMTM2MTAzIDUzLjQxODI2NzcsNTguMjM5NTg4NSBDNTMuNDE4MjY3Nyw0MC4xMjg1NTU3IDM2LjMwMzk1NDQsMzcuNzMwNDQwNSAyNS4yMjc0MTcsMzcuNzMwNDQwNSBDMTcuODQzMDU4NiwzNy43MzA0NDA1IDkuNDMzOTE5NjYsMzcuNzMwNDQwNSAwLDM3LjczMDQ0MDUgWiIgaWQ9IlBhdGgtMTkiIGZpbGw9IiMzNzkzRUYiPjwvcGF0aD4KICAgICAgICAgICAgPC9nPgogICAgICAgIDwvZz4KICAgIDwvZz4KPC9zdmc+' > </img>\nCreated in <span style='font-weight:600;margin-left:4px;'>Deepnote</span></a>",
   "metadata": {
    "tags": [],
    "created_in_deepnote_cell": true,
    "deepnote_cell_type": "markdown"
   }
  }
 ],
 "nbformat": 4,
 "nbformat_minor": 2,
 "metadata": {
  "orig_nbformat": 2,
  "deepnote": {
   "is_reactive": false
  },
  "deepnote_notebook_id": "967f9b32-fbd4-4f23-bdd9-926297d28a43",
  "deepnote_execution_queue": []
 }
}