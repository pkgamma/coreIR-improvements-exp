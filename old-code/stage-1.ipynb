{
 "cells": [
  {
   "cell_type": "code",
   "metadata": {
    "colab": {
     "base_uri": "https://localhost:8080/"
    },
    "id": "qAK-vFLUQSuU",
    "outputId": "afc2aafc-8e54-4352-b2ce-24d84a242017",
    "cell_id": "fd58ae7f-e191-4292-a5b0-ca8c83d55007",
    "deepnote_cell_type": "code"
   },
   "source": "!pip install python-terrier\n#!pip install --upgrade git+https://github.com/terrier-org/pyterrier.git#egg=python-terrier",
   "execution_count": null,
   "outputs": [
    {
     "output_type": "stream",
     "name": "stdout",
     "text": "Collecting python-terrier\n  Downloading python-terrier-0.8.0.tar.gz (97 kB)\n\u001b[?25l\r\u001b[K     |███▍                            | 10 kB 20.2 MB/s eta 0:00:01\r\u001b[K     |██████▊                         | 20 kB 11.5 MB/s eta 0:00:01\r\u001b[K     |██████████▏                     | 30 kB 9.0 MB/s eta 0:00:01\r\u001b[K     |█████████████▌                  | 40 kB 8.3 MB/s eta 0:00:01\r\u001b[K     |████████████████▉               | 51 kB 4.5 MB/s eta 0:00:01\r\u001b[K     |████████████████████▎           | 61 kB 5.3 MB/s eta 0:00:01\r\u001b[K     |███████████████████████▋        | 71 kB 5.5 MB/s eta 0:00:01\r\u001b[K     |███████████████████████████     | 81 kB 5.5 MB/s eta 0:00:01\r\u001b[K     |██████████████████████████████▍ | 92 kB 6.1 MB/s eta 0:00:01\r\u001b[K     |████████████████████████████████| 97 kB 3.3 MB/s \n\u001b[?25hRequirement already satisfied: numpy in /usr/local/lib/python3.7/dist-packages (from python-terrier) (1.21.5)\nRequirement already satisfied: pandas in /usr/local/lib/python3.7/dist-packages (from python-terrier) (1.3.5)\nCollecting wget\n  Downloading wget-3.2.zip (10 kB)\nRequirement already satisfied: tqdm in /usr/local/lib/python3.7/dist-packages (from python-terrier) (4.63.0)\nCollecting pyjnius~=1.3.0\n  Downloading pyjnius-1.3.0-cp37-cp37m-manylinux2010_x86_64.whl (1.1 MB)\n\u001b[K     |████████████████████████████████| 1.1 MB 32.5 MB/s \n\u001b[?25hCollecting matchpy\n  Downloading matchpy-0.5.5-py3-none-any.whl (69 kB)\n\u001b[K     |████████████████████████████████| 69 kB 7.6 MB/s \n\u001b[?25hRequirement already satisfied: sklearn in /usr/local/lib/python3.7/dist-packages (from python-terrier) (0.0)\nCollecting deprecation\n  Downloading deprecation-2.1.0-py2.py3-none-any.whl (11 kB)\nCollecting chest\n  Downloading chest-0.2.3.tar.gz (9.6 kB)\nRequirement already satisfied: scipy in /usr/local/lib/python3.7/dist-packages (from python-terrier) (1.4.1)\nRequirement already satisfied: requests in /usr/local/lib/python3.7/dist-packages (from python-terrier) (2.23.0)\nRequirement already satisfied: joblib in /usr/local/lib/python3.7/dist-packages (from python-terrier) (1.1.0)\nCollecting nptyping\n  Downloading nptyping-1.4.4-py3-none-any.whl (31 kB)\nRequirement already satisfied: more_itertools in /usr/local/lib/python3.7/dist-packages (from python-terrier) (8.12.0)\nCollecting ir_datasets>=0.3.2\n  Downloading ir_datasets-0.5.0-py3-none-any.whl (255 kB)\n\u001b[K     |████████████████████████████████| 255 kB 52.6 MB/s \n\u001b[?25hRequirement already satisfied: jinja2 in /usr/local/lib/python3.7/dist-packages (from python-terrier) (2.11.3)\nRequirement already satisfied: statsmodels in /usr/local/lib/python3.7/dist-packages (from python-terrier) (0.10.2)\nCollecting ir_measures>=0.2.0\n  Downloading ir_measures-0.2.3.tar.gz (41 kB)\n\u001b[K     |████████████████████████████████| 41 kB 274 kB/s \n\u001b[?25hRequirement already satisfied: dill in /usr/local/lib/python3.7/dist-packages (from python-terrier) (0.3.4)\nCollecting trec-car-tools>=2.5.4\n  Downloading trec_car_tools-2.6-py3-none-any.whl (8.4 kB)\nCollecting pyyaml>=5.3.1\n  Downloading PyYAML-6.0-cp37-cp37m-manylinux_2_5_x86_64.manylinux1_x86_64.manylinux_2_12_x86_64.manylinux2010_x86_64.whl (596 kB)\n\u001b[K     |████████████████████████████████| 596 kB 53.1 MB/s \n\u001b[?25hCollecting warc3-wet-clueweb09>=0.2.5\n  Downloading warc3-wet-clueweb09-0.2.5.tar.gz (17 kB)\nCollecting ijson>=3.1.3\n  Downloading ijson-3.1.4-cp37-cp37m-manylinux2010_x86_64.whl (126 kB)\n\u001b[K     |████████████████████████████████| 126 kB 55.8 MB/s \n\u001b[?25hCollecting lxml>=4.5.2\n  Downloading lxml-4.8.0-cp37-cp37m-manylinux_2_17_x86_64.manylinux2014_x86_64.manylinux_2_24_x86_64.whl (6.4 MB)\n\u001b[K     |████████████████████████████████| 6.4 MB 41.4 MB/s \n\u001b[?25hCollecting lz4>=3.1.1\n  Downloading lz4-4.0.0-cp37-cp37m-manylinux_2_17_x86_64.manylinux2014_x86_64.whl (1.2 MB)\n\u001b[K     |████████████████████████████████| 1.2 MB 39.5 MB/s \n\u001b[?25hCollecting zlib-state>=0.1.3\n  Downloading zlib_state-0.1.5-cp37-cp37m-manylinux2010_x86_64.whl (72 kB)\n\u001b[K     |████████████████████████████████| 72 kB 1.5 MB/s \n\u001b[?25hRequirement already satisfied: beautifulsoup4>=4.4.1 in /usr/local/lib/python3.7/dist-packages (from ir_datasets>=0.3.2->python-terrier) (4.6.3)\nCollecting pyautocorpus>=0.1.1\n  Downloading pyautocorpus-0.1.8-cp37-cp37m-manylinux_2_12_x86_64.manylinux2010_x86_64.whl (294 kB)\n\u001b[K     |████████████████████████████████| 294 kB 42.6 MB/s \n\u001b[?25hCollecting warc3-wet>=0.2.3\n  Downloading warc3_wet-0.2.3-py3-none-any.whl (13 kB)\nCollecting pytrec-eval-terrier==0.5.1\n  Downloading pytrec_eval_terrier-0.5.1-cp37-cp37m-manylinux2010_x86_64.whl (291 kB)\n\u001b[K     |████████████████████████████████| 291 kB 59.9 MB/s \n\u001b[?25hCollecting cwl-eval>=1.0.10\n  Downloading cwl-eval-1.0.10.tar.gz (31 kB)\nCollecting pyndeval>=0.0.2\n  Downloading pyndeval-0.0.2-cp37-cp37m-manylinux_2_5_x86_64.manylinux1_x86_64.manylinux_2_12_x86_64.manylinux2010_x86_64.whl (59 kB)\n\u001b[K     |████████████████████████████████| 59 kB 5.2 MB/s \n\u001b[?25hRequirement already satisfied: six>=1.7.0 in /usr/local/lib/python3.7/dist-packages (from pyjnius~=1.3.0->python-terrier) (1.15.0)\nRequirement already satisfied: cython in /usr/local/lib/python3.7/dist-packages (from pyjnius~=1.3.0->python-terrier) (0.29.28)\nRequirement already satisfied: chardet<4,>=3.0.2 in /usr/local/lib/python3.7/dist-packages (from requests->python-terrier) (3.0.4)\nRequirement already satisfied: idna<3,>=2.5 in /usr/local/lib/python3.7/dist-packages (from requests->python-terrier) (2.10)\nRequirement already satisfied: certifi>=2017.4.17 in /usr/local/lib/python3.7/dist-packages (from requests->python-terrier) (2021.10.8)\nRequirement already satisfied: urllib3!=1.25.0,!=1.25.1,<1.26,>=1.21.1 in /usr/local/lib/python3.7/dist-packages (from requests->python-terrier) (1.24.3)\nCollecting cbor>=1.0.0\n  Downloading cbor-1.0.0.tar.gz (20 kB)\nRequirement already satisfied: heapdict in /usr/local/lib/python3.7/dist-packages (from chest->python-terrier) (1.0.1)\nRequirement already satisfied: packaging in /usr/local/lib/python3.7/dist-packages (from deprecation->python-terrier) (21.3)\nRequirement already satisfied: MarkupSafe>=0.23 in /usr/local/lib/python3.7/dist-packages (from jinja2->python-terrier) (2.0.1)\nCollecting multiset<3.0,>=2.0\n  Downloading multiset-2.1.1-py2.py3-none-any.whl (8.8 kB)\nCollecting typish>=1.7.0\n  Downloading typish-1.9.3-py3-none-any.whl (45 kB)\n\u001b[K     |████████████████████████████████| 45 kB 3.0 MB/s \n\u001b[?25hRequirement already satisfied: pyparsing!=3.0.5,>=2.0.2 in /usr/local/lib/python3.7/dist-packages (from packaging->deprecation->python-terrier) (3.0.7)\nRequirement already satisfied: pytz>=2017.3 in /usr/local/lib/python3.7/dist-packages (from pandas->python-terrier) (2018.9)\nRequirement already satisfied: python-dateutil>=2.7.3 in /usr/local/lib/python3.7/dist-packages (from pandas->python-terrier) (2.8.2)\nRequirement already satisfied: scikit-learn in /usr/local/lib/python3.7/dist-packages (from sklearn->python-terrier) (1.0.2)\nRequirement already satisfied: threadpoolctl>=2.0.0 in /usr/local/lib/python3.7/dist-packages (from scikit-learn->sklearn->python-terrier) (3.1.0)\nRequirement already satisfied: patsy>=0.4.0 in /usr/local/lib/python3.7/dist-packages (from statsmodels->python-terrier) (0.5.2)\nBuilding wheels for collected packages: python-terrier, ir-measures, cwl-eval, cbor, warc3-wet-clueweb09, chest, wget\n  Building wheel for python-terrier (setup.py) ... \u001b[?25l\u001b[?25hdone\n  Created wheel for python-terrier: filename=python_terrier-0.8.0-py3-none-any.whl size=103883 sha256=806c665a8e26438c6224ef53d2984da9dcbe68f9839ca3abacfb4e7ce4764299\n  Stored in directory: /root/.cache/pip/wheels/a8/ec/0c/fd9fcb409ad158d1f62534f9b1924b406f420f1a4170fb4132\n  Building wheel for ir-measures (setup.py) ... \u001b[?25l\u001b[?25hdone\n  Created wheel for ir-measures: filename=ir_measures-0.2.3-py3-none-any.whl size=53217 sha256=caef356735264df354add5ebfee972da4d0176744e6281426966b8a3079da24b\n  Stored in directory: /root/.cache/pip/wheels/b2/06/1b/b8dc2d9a9802a9c30dd3a28d4199061297df0034d8ab9b808a\n  Building wheel for cwl-eval (setup.py) ... \u001b[?25l\u001b[?25hdone\n  Created wheel for cwl-eval: filename=cwl_eval-1.0.10-py3-none-any.whl size=37797 sha256=ed92d28b672c1541a72729005aabce2cb08fb2fdbb5a3f91f27d7e35d815fce1\n  Stored in directory: /root/.cache/pip/wheels/ff/e9/ff/d2b6d72d9feb0d0b1b11aacfaf5cd866717034615c2d194093\n  Building wheel for cbor (setup.py) ... \u001b[?25l\u001b[?25hdone\n  Created wheel for cbor: filename=cbor-1.0.0-cp37-cp37m-linux_x86_64.whl size=51306 sha256=5bfd3c80fd6bcee9e0897892dde11a15d978b8508be842fc1d94998a9c9b0ed9\n  Stored in directory: /root/.cache/pip/wheels/19/77/49/c9c2c8dc5848502e606e8579d0bbda18b850fb056a6c62239d\n  Building wheel for warc3-wet-clueweb09 (setup.py) ... \u001b[?25l\u001b[?25hdone\n  Created wheel for warc3-wet-clueweb09: filename=warc3_wet_clueweb09-0.2.5-py3-none-any.whl size=18922 sha256=c80d9db34af4987d2624177153e138acabb7be495926d6357c8cb409ed789fcc\n  Stored in directory: /root/.cache/pip/wheels/42/d4/3c/7c2b0c3d400ad744e4db69f2fde166655da2ed2198bfc02db6\n  Building wheel for chest (setup.py) ... \u001b[?25l\u001b[?25hdone\n  Created wheel for chest: filename=chest-0.2.3-py3-none-any.whl size=7634 sha256=9beaa67f32941fd6aed97fd76df1e2a0aec5bb70c0f30dca552132d64f888c28\n  Stored in directory: /root/.cache/pip/wheels/fc/f5/b9/c436e11300809e6b40d46a5d2592fb0bff89e0712f2e878dc7\n  Building wheel for wget (setup.py) ... \u001b[?25l\u001b[?25hdone\n  Created wheel for wget: filename=wget-3.2-py3-none-any.whl size=9675 sha256=ca7ae12b9419a8460e84e5578929c963ab43a6400469d577c2f1fb3b897e371c\n  Stored in directory: /root/.cache/pip/wheels/a1/b6/7c/0e63e34eb06634181c63adacca38b79ff8f35c37e3c13e3c02\nSuccessfully built python-terrier ir-measures cwl-eval cbor warc3-wet-clueweb09 chest wget\nInstalling collected packages: cbor, zlib-state, warc3-wet-clueweb09, warc3-wet, typish, trec-car-tools, pyyaml, pytrec-eval-terrier, pyndeval, pyautocorpus, multiset, lz4, lxml, ijson, cwl-eval, wget, pyjnius, nptyping, matchpy, ir-measures, ir-datasets, deprecation, chest, python-terrier\n  Attempting uninstall: pyyaml\n    Found existing installation: PyYAML 3.13\n    Uninstalling PyYAML-3.13:\n      Successfully uninstalled PyYAML-3.13\n  Attempting uninstall: lxml\n    Found existing installation: lxml 4.2.6\n    Uninstalling lxml-4.2.6:\n      Successfully uninstalled lxml-4.2.6\nSuccessfully installed cbor-1.0.0 chest-0.2.3 cwl-eval-1.0.10 deprecation-2.1.0 ijson-3.1.4 ir-datasets-0.5.0 ir-measures-0.2.3 lxml-4.8.0 lz4-4.0.0 matchpy-0.5.5 multiset-2.1.1 nptyping-1.4.4 pyautocorpus-0.1.8 pyjnius-1.3.0 pyndeval-0.0.2 python-terrier-0.8.0 pytrec-eval-terrier-0.5.1 pyyaml-6.0 trec-car-tools-2.6 typish-1.9.3 warc3-wet-0.2.3 warc3-wet-clueweb09-0.2.5 wget-3.2 zlib-state-0.1.5\n"
    }
   ]
  },
  {
   "cell_type": "code",
   "metadata": {
    "id": "du10bDZgQdSZ",
    "colab": {
     "base_uri": "https://localhost:8080/"
    },
    "outputId": "32718a65-5663-44dd-f586-f5178c726160",
    "cell_id": "00001-645c87ce-1a63-4414-9268-10ad4e41ed2b",
    "deepnote_cell_type": "code"
   },
   "source": "import torch\nimport time as time\nimport numpy as np\nimport pandas as pd\nimport pyterrier as pt\nif not pt.started():\n  pt.init()",
   "execution_count": null,
   "outputs": [
    {
     "output_type": "stream",
     "name": "stdout",
     "text": "terrier-assemblies 5.6 jar-with-dependencies not found, downloading to /root/.pyterrier...\nDone\nterrier-python-helper 0.0.6 jar not found, downloading to /root/.pyterrier...\nDone\n"
    },
    {
     "output_type": "stream",
     "name": "stderr",
     "text": "PyTerrier 0.8.0 has loaded Terrier 5.6 (built by craigmacdonald on 2021-09-17 13:27)\n\n"
    }
   ]
  },
  {
   "cell_type": "code",
   "metadata": {
    "id": "SQccZO_CPjfd",
    "cell_id": "00002-a1ece1f4-ebd0-4fd0-a350-8d1bd1f0a73e",
    "deepnote_cell_type": "code"
   },
   "source": "use_cuda = torch.cuda.is_available()\ndevice = torch.device('cuda' if use_cuda else 'cpu')",
   "execution_count": null,
   "outputs": []
  },
  {
   "cell_type": "code",
   "metadata": {
    "colab": {
     "base_uri": "https://localhost:8080/"
    },
    "id": "996gYZ3_PmtW",
    "outputId": "a320a35a-7c98-418a-ab61-fe4a15e2ebc6",
    "cell_id": "00003-0615ea3f-85f9-4867-b32f-06f2ec9fe894",
    "deepnote_cell_type": "code"
   },
   "source": "use_cuda",
   "execution_count": null,
   "outputs": [
    {
     "output_type": "execute_result",
     "data": {
      "text/plain": "False"
     },
     "metadata": {},
     "execution_count": 4
    }
   ]
  },
  {
   "cell_type": "code",
   "metadata": {
    "colab": {
     "base_uri": "https://localhost:8080/"
    },
    "id": "mh4a_JaMSKP1",
    "outputId": "b00c6989-f79d-4245-a9f1-047e36cf1b6d",
    "cell_id": "00004-c5726314-1d65-4020-97da-c05d8ebe6480",
    "deepnote_cell_type": "code"
   },
   "source": "from google.colab import drive\ndrive.mount('/content/drive')",
   "execution_count": null,
   "outputs": [
    {
     "output_type": "stream",
     "name": "stdout",
     "text": "Mounted at /content/drive\n"
    }
   ]
  },
  {
   "cell_type": "code",
   "metadata": {
    "colab": {
     "base_uri": "https://localhost:8080/",
     "height": 304,
     "referenced_widgets": [
      "be722df8613e4695b4139073ce75fd5b",
      "10ddb67042744a979cec2ba1ceca14a2",
      "5cda00ff62d448e19f5cbdee95a48fdd",
      "08773df487fd47f6a80df87eebe492e1",
      "c1e44392c2ad4b68a3f311f0e1dba53b",
      "f54abce225394879ba8cc0b7a5a438be",
      "d028b7ac0a164709acc8e6d02b1f045a",
      "f107658a16c841d4ab7bc11b1c3a9a91",
      "e1e7444ac8b34994a4d55516c1f70123",
      "5879d2d1aeb144a2a46863dac5dbca54",
      "c6b84a32e449467ea9aaddf7625a24d0"
     ]
    },
    "id": "GsbSruO_PTAS",
    "outputId": "f3c001d8-6c77-458c-8ec2-9b312de52b96",
    "cell_id": "00005-c2ce9124-7499-4a89-b0bd-8ec0088ab6b0",
    "deepnote_cell_type": "code"
   },
   "source": "dataset = pt.get_dataset(\"trec-deep-learning-passages\")\nprint(dataset.get_topics(\"test-2019\"))",
   "execution_count": null,
   "outputs": [
    {
     "output_type": "stream",
     "name": "stdout",
     "text": "Downloading msmarco_passage topics to /root/.pyterrier/corpora/msmarco_passage/msmarco-test2019-queries.tsv.gz\n"
    },
    {
     "output_type": "display_data",
     "data": {
      "application/vnd.jupyter.widget-view+json": {
       "model_id": "be722df8613e4695b4139073ce75fd5b",
       "version_minor": 0,
       "version_major": 2
      },
      "text/plain": "msmarco-test2019-queries.tsv.gz:   0%|          | 0.00/4.18k [00:00<?, ?iB/s]"
     },
     "metadata": {}
    },
    {
     "output_type": "stream",
     "name": "stdout",
     "text": "         qid                                              query\n0    1108939                  what slows down the flow of blood\n1    1112389             what is the county for grand rapids mn\n2     792752                                     what is ruclip\n3    1119729  what do you do when you have a nosebleed from ...\n4    1105095                  where is sugar lake lodge located\n..       ...                                                ...\n195   146187  difference between a mcdouble and a double che...\n196   634428                            what does chs stand for\n197  1121986     what are the effects of having low blood sugar\n198   321441                 how much is a us postal stamp cost\n199   532603                   university of dubuque enrollment\n\n[200 rows x 2 columns]\n"
    }
   ]
  },
  {
   "cell_type": "code",
   "metadata": {
    "colab": {
     "base_uri": "https://localhost:8080/"
    },
    "id": "df7QEAaAQzX_",
    "outputId": "cf531bdc-173a-469c-dfd0-fa49ece2c54a",
    "cell_id": "00006-4853a8b2-6376-44c0-ac67-e340c7ea36aa",
    "deepnote_cell_type": "code"
   },
   "source": "# Iterator for msmarco passage\ndef msmarco_generate():\n\n    dataset = pt.get_dataset(\"trec-deep-learning-passages\")\n    print(\"Hi\")\n    with pt.io.autoopen('./drive/My Drive/Colab Notebooks/collection.tsv', 'rt') as corpusfile:\n        for l in corpusfile:\n            docno, passage = l.split(\"\\t\")\n            yield {'docno' : docno, 'text' : passage}\n\n\nmsmarco_generate()\n",
   "execution_count": null,
   "outputs": [
    {
     "output_type": "execute_result",
     "data": {
      "text/plain": "<generator object msmarco_generate at 0x7f0a54f53f50>"
     },
     "metadata": {},
     "execution_count": 7
    }
   ]
  },
  {
   "cell_type": "code",
   "metadata": {
    "colab": {
     "base_uri": "https://localhost:8080/"
    },
    "id": "_N9V-HY28yQf",
    "outputId": "9ecd340d-99a0-4fc0-ac4e-1be9e46f12fa",
    "cell_id": "00007-23351213-dac4-465b-a89f-463d823a05d4",
    "deepnote_cell_type": "code"
   },
   "source": "#Opening indexed files\n\nmsmarco_generate()\n\n\nindexref = pt.IndexRef.of(\"./drive/My Drive/Colab Notebooks/indexes/msmarco-passage\")\nindex = pt.IndexFactory.of(\"./drive/My Drive/Colab Notebooks/indexes/msmarco-passage\")\n\n#msmarco_generate()\ndataset\n",
   "execution_count": null,
   "outputs": [
    {
     "data": {
      "text/plain": "RemoteDataset for msmarco_passage, with ['corpus', 'index', 'topics', 'tars', 'qrels', 'info_url', 'corpus_iter']"
     },
     "execution_count": 77,
     "metadata": {},
     "output_type": "execute_result"
    }
   ]
  },
  {
   "cell_type": "code",
   "metadata": {
    "id": "43y7MGmGc9wJ",
    "cell_id": "00008-cf6d2b41-9483-46e7-b80a-7af6c670bc41",
    "deepnote_cell_type": "code"
   },
   "source": "# Batch Retrievalfor BM25 \nBM25_baseline = pt.BatchRetrieve(index, wmodel=\"BM25\", verbose=True)",
   "execution_count": null,
   "outputs": []
  },
  {
   "cell_type": "code",
   "metadata": {
    "colab": {
     "base_uri": "https://localhost:8080/",
     "height": 116,
     "referenced_widgets": [
      "2351882f3b7042668862b1dacd7f3c99",
      "0d58ac888188482c80b7a4ddea38e61a",
      "05355fa5ce364e37b747c7ca7575effc",
      "bd6da91abc1444dcb783fc4891a58591",
      "4c73dbebd05442699afda1bdb4a28798",
      "ce8f0c241817418da83fd66c5b1b10b2",
      "7608417d70694afb8984f8e81f1314a3",
      "81d854463bb741dc826b6c1f2c7685e7",
      "f5f4e82c87564891a92aa973bbf82983",
      "dd241da9b15a461ea140d4f9663e5dd9",
      "0204522352c74a9ba5b6d453a0ce6cbd",
      "6ce48cc7e8764a9289e6e96d51738583",
      "b45fa51ce51246b7bf29fadf8a89de3c",
      "10c182bb45d142aa8530951d8039b63b",
      "33c4115c16ff4c17ad215ec189a35fed",
      "6c79f17a19a349bdb22a8145dfaf7be7",
      "010ef274e1f44e649ccd70ecaab21d0b",
      "dc35e3c5b79e41f58c300795b3069d52",
      "336dbcb9a61d4fda9abc61e4b89ebda2",
      "c829207fd5ab4017adf71888a29ed52e",
      "805859ae4421476d8e7726a14b1d4ad5",
      "f6ca53790ff64ceda84a7e4ffc04ebde"
     ]
    },
    "id": "4SDGj-Yfd_ge",
    "outputId": "042210bb-1572-491e-9346-9fdacb323127",
    "cell_id": "00009-69dffff0-4244-44dc-b904-1b5bbecc38c2",
    "deepnote_cell_type": "code"
   },
   "source": "# Evaluation\n\nstart_time = time.time()\n\nresult = pt.Experiment([BM25_baseline], \n                       dataset.get_topics(\"test-2019\"), \n                       dataset.get_qrels(\"test-2019\"),\n                       eval_metrics=[\"recip_rank\", \"ndcg_cut_10\",\"map\"])\n\nprint(f'Time taken : {time.time() - start_time}')",
   "execution_count": null,
   "outputs": [
    {
     "name": "stdout",
     "output_type": "stream",
     "text": "Downloading msmarco_passage qrels to /root/.pyterrier/corpora/msmarco_passage/2019qrels-docs.txt\n"
    },
    {
     "data": {
      "application/vnd.jupyter.widget-view+json": {
       "model_id": "2351882f3b7042668862b1dacd7f3c99",
       "version_major": 2,
       "version_minor": 0
      },
      "text/plain": "2019qrels-docs.txt:   0%|          | 0.00/183k [00:00<?, ?iB/s]"
     },
     "metadata": {},
     "output_type": "display_data"
    },
    {
     "data": {
      "application/vnd.jupyter.widget-view+json": {
       "model_id": "6ce48cc7e8764a9289e6e96d51738583",
       "version_major": 2,
       "version_minor": 0
      },
      "text/plain": "BR(BM25):   0%|          | 0/200 [00:00<?, ?q/s]"
     },
     "metadata": {},
     "output_type": "display_data"
    },
    {
     "name": "stdout",
     "output_type": "stream",
     "text": "Time taken : 39.02860498428345\n"
    }
   ]
  },
  {
   "cell_type": "code",
   "metadata": {
    "colab": {
     "base_uri": "https://localhost:8080/",
     "height": 121,
     "referenced_widgets": [
      "06c5550c68d24894ad1fdf6f90e824fb",
      "51b22ddd73a34005911b179142e19397",
      "03f5881f77cb4fb6bf833df978541af2",
      "73226815db9b44a3b7546200ab65c2f2",
      "27b79355470a4c99a6121be5329ce749",
      "8723d729ac194531879294f562be6bf9",
      "f6c1f7eb44a546df820e2b02fd81c854",
      "b73d97b8c47e4882ab38d0cbe9af914b",
      "b3fa19d8980843258fb63e2e2ecf490e",
      "edc944b8095d4396b54f8e03bffbc8f2",
      "b2ca44ae10384ad5b4921eabc57662e7"
     ]
    },
    "id": "GC19XLKsY1eu",
    "outputId": "6ca8465a-ed8d-409d-b624-f39f2ee539cf",
    "cell_id": "00010-9b376942-0300-4bf0-9017-4bd961e5554f",
    "deepnote_cell_type": "code"
   },
   "source": "# Topic wise analysis\n\nstart_time = time.time()\n\nresult_per_query = pt.Experiment([BM25_baseline], \n                                 dataset.get_topics(\"test-2019\"),\n                                 dataset.get_qrels(\"test-2019\"), \n                                 eval_metrics=[\"recip_rank\", \"ndcg_cut_10\",\"map\"],\n                                 perquery=True)\n\nprint(f'Time taken : {time.time() - start_time}')",
   "execution_count": null,
   "outputs": [
    {
     "data": {
      "application/vnd.jupyter.widget-view+json": {
       "model_id": "06c5550c68d24894ad1fdf6f90e824fb",
       "version_major": 2,
       "version_minor": 0
      },
      "text/plain": "BR(BM25):   0%|          | 0/200 [00:00<?, ?q/s]"
     },
     "metadata": {},
     "output_type": "display_data"
    },
    {
     "name": "stdout",
     "output_type": "stream",
     "text": "Time taken : 17.950525760650635\n"
    },
    {
     "name": "stderr",
     "output_type": "stream",
     "text": "/usr/local/lib/python3.7/dist-packages/pyterrier/pipelines.py:108: UserWarning: 157 topic(s) not found in qrels. Scores for these topics are given as NaN and should not contribute to averages.\n  warn(f'{backfill_count} topic(s) not found in qrels. Scores for these topics are given as NaN and should not contribute to averages.')\n"
    }
   ]
  },
  {
   "cell_type": "code",
   "metadata": {
    "colab": {
     "base_uri": "https://localhost:8080/"
    },
    "id": "2_Mwz6iaA_t0",
    "outputId": "4ab65a0e-e59b-42ba-9ebb-fff095e87299",
    "cell_id": "00011-f79517f3-5805-46fc-ad80-eaa74ffb8d43",
    "deepnote_cell_type": "code"
   },
   "source": "result_per_query = result_per_query[result_per_query[\"value\"].notnull()]\nprint(result_per_query)",
   "execution_count": null,
   "outputs": [
    {
     "name": "stdout",
     "output_type": "stream",
     "text": "        name      qid      measure     value\n27  BR(BM25)  1037798          map  0.109533\n28  BR(BM25)  1037798   recip_rank  0.333333\n29  BR(BM25)  1037798  ndcg_cut_10  0.152866\n63  BR(BM25)   104861          map  0.356783\n64  BR(BM25)   104861   recip_rank  1.000000\n..       ...      ...          ...       ...\n31  BR(BM25)   915593   recip_rank  1.000000\n32  BR(BM25)   915593  ndcg_cut_10  0.417021\n39  BR(BM25)   962179          map  0.058701\n40  BR(BM25)   962179   recip_rank  0.025000\n41  BR(BM25)   962179  ndcg_cut_10  0.000000\n\n[129 rows x 4 columns]\n"
    }
   ]
  },
  {
   "cell_type": "markdown",
   "source": "# L2R part below\n",
   "metadata": {
    "id": "AvWSIu8fBMuQ",
    "cell_id": "00012-edd3c36a-b9a1-4891-8ec7-2b0f9c123628",
    "deepnote_cell_type": "markdown"
   }
  },
  {
   "cell_type": "code",
   "metadata": {
    "colab": {
     "base_uri": "https://localhost:8080/"
    },
    "id": "fwYYueLQBAlV",
    "outputId": "98470c8c-5ef5-4f04-9ad3-fee46fd58e0c",
    "cell_id": "00013-4e96da9e-9a78-416a-b7fb-52f98fb58ebe",
    "deepnote_cell_type": "code"
   },
   "source": "topics = dataset.get_topics(\"test-2019\")\nqrels = dataset.get_qrels(\"test-2019\")\nprint(\"printing qrels\")\nprint(qrels)\n\nprint(\"printing topics\")\nprint(topics)\n#train_topics, valid_topics, test_topics = np.split(topics, [int(.6*len(topics)), int(.8*len(topics))])",
   "execution_count": null,
   "outputs": [
    {
     "name": "stdout",
     "output_type": "stream",
     "text": "printing qrels\n          qid    docno  label\n0       19335  1017759      0\n1       19335  1082489      0\n2       19335   109063      0\n3       19335  1160863      0\n4       19335  1160871      0\n...       ...      ...    ...\n9255  1133167  8839920      2\n9256  1133167  8839922      2\n9257  1133167   944810      0\n9258  1133167   949411      0\n9259  1133167   977421      0\n\n[9260 rows x 3 columns]\nprinting topics\n         qid                                              query\n0    1108939                  what slows down the flow of blood\n1    1112389             what is the county for grand rapids mn\n2     792752                                     what is ruclip\n3    1119729  what do you do when you have a nosebleed from ...\n4    1105095                  where is sugar lake lodge located\n..       ...                                                ...\n195   146187  difference between a mcdouble and a double che...\n196   634428                            what does chs stand for\n197  1121986     what are the effects of having low blood sugar\n198   321441                 how much is a us postal stamp cost\n199   532603                   university of dubuque enrollment\n\n[200 rows x 2 columns]\n"
    }
   ]
  },
  {
   "cell_type": "code",
   "metadata": {
    "colab": {
     "background_save": true
    },
    "id": "SZw076LZCfJW",
    "cell_id": "00014-479bb233-2599-41b1-9819-aedc0b8db761",
    "deepnote_cell_type": "code"
   },
   "source": "# from sklearn.ensemble import RandomForestRegressor\n# print(pt.pipelines)\n\n# BaselineLTR = fbr >> pt.pipelines.LTR_pipeline(RandomForestRegressor(n_estimators=400))\n# # BaselineLTR.fit(train_topics, qrels)\n\n# # results = pt.pipelines.Experiment([PL2, BaselineLTR], test_topics, qrels, [\"map\"], names=[\"PL2 Baseline\", \"LTR Baseline\"])\n# # results",
   "execution_count": null,
   "outputs": []
  },
  {
   "cell_type": "code",
   "metadata": {
    "colab": {
     "background_save": true,
     "base_uri": "https://localhost:8080/",
     "height": 235
    },
    "id": "Th4jYKTuIJHy",
    "outputId": "aba529de-1432-405d-d333-aca0f3f9e0d4",
    "cell_id": "00015-2239a398-b089-495f-86cb-a6c9794481c3",
    "deepnote_cell_type": "code"
   },
   "source": "from sklearn.ensemble import RandomForestRegressor\n\nbm25 = pt.BatchRetrieve(index, wmodel=\"BM25\")\ntf = pt.BatchRetrieve(index, wmodel=\"Tf\")\npl2 = pt.BatchRetrieve(index, wmodel=\"PL2\")\n#pipeline = bm25 >> (tf ** pl2)\n\npipeline = pt.FeaturesBatchRetrieve(index, wmodel=\"BM25\", features=[\"WMODEL:Tf\", \"WMODEL:PL2\"])\n\nrf = RandomForestRegressor(n_estimators=400)\nrf_pipe = pipeline >> pt.ltr.apply_learned_model(rf)\nrf_pipe.fit(topics, qrels)\npt.Experiment([bm25, rf_pipe], topics, qrels, [\"map\"], names=[\"BM25 Baseline\", \"LTR\"])",
   "execution_count": null,
   "outputs": [
    {
     "data": {
      "text/html": "\n  <div id=\"df-f4b8a684-40d0-4236-a735-a3f7054cee7c\">\n    <div class=\"colab-df-container\">\n      <div>\n<style scoped>\n    .dataframe tbody tr th:only-of-type {\n        vertical-align: middle;\n    }\n\n    .dataframe tbody tr th {\n        vertical-align: top;\n    }\n\n    .dataframe thead th {\n        text-align: right;\n    }\n</style>\n<table border=\"1\" class=\"dataframe\">\n  <thead>\n    <tr style=\"text-align: right;\">\n      <th></th>\n      <th>name</th>\n      <th>map</th>\n    </tr>\n  </thead>\n  <tbody>\n    <tr>\n      <th>0</th>\n      <td>BM25 Baseline</td>\n      <td>0.370014</td>\n    </tr>\n    <tr>\n      <th>1</th>\n      <td>LTR</td>\n      <td>0.492018</td>\n    </tr>\n  </tbody>\n</table>\n</div>\n      <button class=\"colab-df-convert\" onclick=\"convertToInteractive('df-f4b8a684-40d0-4236-a735-a3f7054cee7c')\"\n              title=\"Convert this dataframe to an interactive table.\"\n              style=\"display:none;\">\n        \n  <svg xmlns=\"http://www.w3.org/2000/svg\" height=\"24px\"viewBox=\"0 0 24 24\"\n       width=\"24px\">\n    <path d=\"M0 0h24v24H0V0z\" fill=\"none\"/>\n    <path d=\"M18.56 5.44l.94 2.06.94-2.06 2.06-.94-2.06-.94-.94-2.06-.94 2.06-2.06.94zm-11 1L8.5 8.5l.94-2.06 2.06-.94-2.06-.94L8.5 2.5l-.94 2.06-2.06.94zm10 10l.94 2.06.94-2.06 2.06-.94-2.06-.94-.94-2.06-.94 2.06-2.06.94z\"/><path d=\"M17.41 7.96l-1.37-1.37c-.4-.4-.92-.59-1.43-.59-.52 0-1.04.2-1.43.59L10.3 9.45l-7.72 7.72c-.78.78-.78 2.05 0 2.83L4 21.41c.39.39.9.59 1.41.59.51 0 1.02-.2 1.41-.59l7.78-7.78 2.81-2.81c.8-.78.8-2.07 0-2.86zM5.41 20L4 18.59l7.72-7.72 1.47 1.35L5.41 20z\"/>\n  </svg>\n      </button>\n      \n  <style>\n    .colab-df-container {\n      display:flex;\n      flex-wrap:wrap;\n      gap: 12px;\n    }\n\n    .colab-df-convert {\n      background-color: #E8F0FE;\n      border: none;\n      border-radius: 50%;\n      cursor: pointer;\n      display: none;\n      fill: #1967D2;\n      height: 32px;\n      padding: 0 0 0 0;\n      width: 32px;\n    }\n\n    .colab-df-convert:hover {\n      background-color: #E2EBFA;\n      box-shadow: 0px 1px 2px rgba(60, 64, 67, 0.3), 0px 1px 3px 1px rgba(60, 64, 67, 0.15);\n      fill: #174EA6;\n    }\n\n    [theme=dark] .colab-df-convert {\n      background-color: #3B4455;\n      fill: #D2E3FC;\n    }\n\n    [theme=dark] .colab-df-convert:hover {\n      background-color: #434B5C;\n      box-shadow: 0px 1px 3px 1px rgba(0, 0, 0, 0.15);\n      filter: drop-shadow(0px 1px 2px rgba(0, 0, 0, 0.3));\n      fill: #FFFFFF;\n    }\n  </style>\n\n      <script>\n        const buttonEl =\n          document.querySelector('#df-f4b8a684-40d0-4236-a735-a3f7054cee7c button.colab-df-convert');\n        buttonEl.style.display =\n          google.colab.kernel.accessAllowed ? 'block' : 'none';\n\n        async function convertToInteractive(key) {\n          const element = document.querySelector('#df-f4b8a684-40d0-4236-a735-a3f7054cee7c');\n          const dataTable =\n            await google.colab.kernel.invokeFunction('convertToInteractive',\n                                                     [key], {});\n          if (!dataTable) return;\n\n          const docLinkHtml = 'Like what you see? Visit the ' +\n            '<a target=\"_blank\" href=https://colab.research.google.com/notebooks/data_table.ipynb>data table notebook</a>'\n            + ' to learn more about interactive tables.';\n          element.innerHTML = '';\n          dataTable['output_type'] = 'display_data';\n          await google.colab.output.renderOutput(dataTable, element);\n          const docLink = document.createElement('div');\n          docLink.innerHTML = docLinkHtml;\n          element.appendChild(docLink);\n        }\n      </script>\n    </div>\n  </div>\n  ",
      "text/plain": "            name       map\n0  BM25 Baseline  0.370014\n1            LTR  0.492018"
     },
     "execution_count": null,
     "metadata": {},
     "output_type": "execute_result"
    }
   ]
  },
  {
   "cell_type": "code",
   "metadata": {
    "id": "R9GeI-CxJ22m",
    "cell_id": "00016-e9b2fc84-5542-4b3e-a020-81ec8ddf0a9c",
    "deepnote_cell_type": "code"
   },
   "source": "",
   "execution_count": null,
   "outputs": []
  },
  {
   "cell_type": "markdown",
   "source": "<a style='text-decoration:none;line-height:16px;display:flex;color:#5B5B62;padding:10px;justify-content:end;' href='https://deepnote.com?utm_source=created-in-deepnote-cell&projectId=eeb7fcb4-84cb-4f4a-9830-9d1fcbc47e1d' target=\"_blank\">\n<img alt='Created in deepnote.com' style='display:inline;max-height:16px;margin:0px;margin-right:7.5px;' src='data:image/svg+xml;base64,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' > </img>\nCreated in <span style='font-weight:600;margin-left:4px;'>Deepnote</span></a>",
   "metadata": {
    "tags": [],
    "created_in_deepnote_cell": true,
    "deepnote_cell_type": "markdown"
   }
  }
 ],
 "nbformat": 4,
 "nbformat_minor": 0,
 "metadata": {
  "accelerator": "TPU",
  "colab": {
   "collapsed_sections": [],
   "name": "CoreIR.ipynb",
   "provenance": []
  },
  "kernelspec": {
   "display_name": "Python 3",
   "name": "python3"
  },
  "language_info": {
   "name": "python"
  },
  "widgets": {
   "application/vnd.jupyter.widget-state+json": {
    "010ef274e1f44e649ccd70ecaab21d0b": {
     "model_module": "@jupyter-widgets/base",
     "model_module_version": "1.2.0",
     "model_name": "LayoutModel",
     "state": {
      "_model_module": "@jupyter-widgets/base",
      "_model_module_version": "1.2.0",
      "_model_name": "LayoutModel",
      "_view_count": null,
      "_view_module": "@jupyter-widgets/base",
      "_view_module_version": "1.2.0",
      "_view_name": "LayoutView",
      "align_content": null,
      "align_items": null,
      "align_self": null,
      "border": null,
      "bottom": null,
      "display": null,
      "flex": null,
      "flex_flow": null,
      "grid_area": null,
      "grid_auto_columns": null,
      "grid_auto_flow": null,
      "grid_auto_rows": null,
      "grid_column": null,
      "grid_gap": null,
      "grid_row": null,
      "grid_template_areas": null,
      "grid_template_columns": null,
      "grid_template_rows": null,
      "height": null,
      "justify_content": null,
      "justify_items": null,
      "left": null,
      "margin": null,
      "max_height": null,
      "max_width": null,
      "min_height": null,
      "min_width": null,
      "object_fit": null,
      "object_position": null,
      "order": null,
      "overflow": null,
      "overflow_x": null,
      "overflow_y": null,
      "padding": null,
      "right": null,
      "top": null,
      "visibility": null,
      "width": null
     }
    },
    "0204522352c74a9ba5b6d453a0ce6cbd": {
     "model_module": "@jupyter-widgets/controls",
     "model_module_version": "1.5.0",
     "model_name": "DescriptionStyleModel",
     "state": {
      "_model_module": "@jupyter-widgets/controls",
      "_model_module_version": "1.5.0",
      "_model_name": "DescriptionStyleModel",
      "_view_count": null,
      "_view_module": "@jupyter-widgets/base",
      "_view_module_version": "1.2.0",
      "_view_name": "StyleView",
      "description_width": ""
     }
    },
    "03f5881f77cb4fb6bf833df978541af2": {
     "model_module": "@jupyter-widgets/controls",
     "model_module_version": "1.5.0",
     "model_name": "FloatProgressModel",
     "state": {
      "_dom_classes": [],
      "_model_module": "@jupyter-widgets/controls",
      "_model_module_version": "1.5.0",
      "_model_name": "FloatProgressModel",
      "_view_count": null,
      "_view_module": "@jupyter-widgets/controls",
      "_view_module_version": "1.5.0",
      "_view_name": "ProgressView",
      "bar_style": "success",
      "description": "",
      "description_tooltip": null,
      "layout": "IPY_MODEL_b73d97b8c47e4882ab38d0cbe9af914b",
      "max": 200,
      "min": 0,
      "orientation": "horizontal",
      "style": "IPY_MODEL_b3fa19d8980843258fb63e2e2ecf490e",
      "value": 200
     }
    },
    "05355fa5ce364e37b747c7ca7575effc": {
     "model_module": "@jupyter-widgets/controls",
     "model_module_version": "1.5.0",
     "model_name": "FloatProgressModel",
     "state": {
      "_dom_classes": [],
      "_model_module": "@jupyter-widgets/controls",
      "_model_module_version": "1.5.0",
      "_model_name": "FloatProgressModel",
      "_view_count": null,
      "_view_module": "@jupyter-widgets/controls",
      "_view_module_version": "1.5.0",
      "_view_name": "ProgressView",
      "bar_style": "success",
      "description": "",
      "description_tooltip": null,
      "layout": "IPY_MODEL_81d854463bb741dc826b6c1f2c7685e7",
      "max": 187092,
      "min": 0,
      "orientation": "horizontal",
      "style": "IPY_MODEL_f5f4e82c87564891a92aa973bbf82983",
      "value": 187092
     }
    },
    "06c5550c68d24894ad1fdf6f90e824fb": {
     "model_module": "@jupyter-widgets/controls",
     "model_module_version": "1.5.0",
     "model_name": "HBoxModel",
     "state": {
      "_dom_classes": [],
      "_model_module": "@jupyter-widgets/controls",
      "_model_module_version": "1.5.0",
      "_model_name": "HBoxModel",
      "_view_count": null,
      "_view_module": "@jupyter-widgets/controls",
      "_view_module_version": "1.5.0",
      "_view_name": "HBoxView",
      "box_style": "",
      "children": [
       "IPY_MODEL_51b22ddd73a34005911b179142e19397",
       "IPY_MODEL_03f5881f77cb4fb6bf833df978541af2",
       "IPY_MODEL_73226815db9b44a3b7546200ab65c2f2"
      ],
      "layout": "IPY_MODEL_27b79355470a4c99a6121be5329ce749"
     }
    },
    "0d58ac888188482c80b7a4ddea38e61a": {
     "model_module": "@jupyter-widgets/controls",
     "model_module_version": "1.5.0",
     "model_name": "HTMLModel",
     "state": {
      "_dom_classes": [],
      "_model_module": "@jupyter-widgets/controls",
      "_model_module_version": "1.5.0",
      "_model_name": "HTMLModel",
      "_view_count": null,
      "_view_module": "@jupyter-widgets/controls",
      "_view_module_version": "1.5.0",
      "_view_name": "HTMLView",
      "description": "",
      "description_tooltip": null,
      "layout": "IPY_MODEL_ce8f0c241817418da83fd66c5b1b10b2",
      "placeholder": "​",
      "style": "IPY_MODEL_7608417d70694afb8984f8e81f1314a3",
      "value": "2019qrels-docs.txt: 100%"
     }
    },
    "10c182bb45d142aa8530951d8039b63b": {
     "model_module": "@jupyter-widgets/controls",
     "model_module_version": "1.5.0",
     "model_name": "FloatProgressModel",
     "state": {
      "_dom_classes": [],
      "_model_module": "@jupyter-widgets/controls",
      "_model_module_version": "1.5.0",
      "_model_name": "FloatProgressModel",
      "_view_count": null,
      "_view_module": "@jupyter-widgets/controls",
      "_view_module_version": "1.5.0",
      "_view_name": "ProgressView",
      "bar_style": "success",
      "description": "",
      "description_tooltip": null,
      "layout": "IPY_MODEL_336dbcb9a61d4fda9abc61e4b89ebda2",
      "max": 200,
      "min": 0,
      "orientation": "horizontal",
      "style": "IPY_MODEL_c829207fd5ab4017adf71888a29ed52e",
      "value": 200
     }
    },
    "2351882f3b7042668862b1dacd7f3c99": {
     "model_module": "@jupyter-widgets/controls",
     "model_module_version": "1.5.0",
     "model_name": "HBoxModel",
     "state": {
      "_dom_classes": [],
      "_model_module": "@jupyter-widgets/controls",
      "_model_module_version": "1.5.0",
      "_model_name": "HBoxModel",
      "_view_count": null,
      "_view_module": "@jupyter-widgets/controls",
      "_view_module_version": "1.5.0",
      "_view_name": "HBoxView",
      "box_style": "",
      "children": [
       "IPY_MODEL_0d58ac888188482c80b7a4ddea38e61a",
       "IPY_MODEL_05355fa5ce364e37b747c7ca7575effc",
       "IPY_MODEL_bd6da91abc1444dcb783fc4891a58591"
      ],
      "layout": "IPY_MODEL_4c73dbebd05442699afda1bdb4a28798"
     }
    },
    "27b79355470a4c99a6121be5329ce749": {
     "model_module": "@jupyter-widgets/base",
     "model_module_version": "1.2.0",
     "model_name": "LayoutModel",
     "state": {
      "_model_module": "@jupyter-widgets/base",
      "_model_module_version": "1.2.0",
      "_model_name": "LayoutModel",
      "_view_count": null,
      "_view_module": "@jupyter-widgets/base",
      "_view_module_version": "1.2.0",
      "_view_name": "LayoutView",
      "align_content": null,
      "align_items": null,
      "align_self": null,
      "border": null,
      "bottom": null,
      "display": null,
      "flex": null,
      "flex_flow": null,
      "grid_area": null,
      "grid_auto_columns": null,
      "grid_auto_flow": null,
      "grid_auto_rows": null,
      "grid_column": null,
      "grid_gap": null,
      "grid_row": null,
      "grid_template_areas": null,
      "grid_template_columns": null,
      "grid_template_rows": null,
      "height": null,
      "justify_content": null,
      "justify_items": null,
      "left": null,
      "margin": null,
      "max_height": null,
      "max_width": null,
      "min_height": null,
      "min_width": null,
      "object_fit": null,
      "object_position": null,
      "order": null,
      "overflow": null,
      "overflow_x": null,
      "overflow_y": null,
      "padding": null,
      "right": null,
      "top": null,
      "visibility": null,
      "width": null
     }
    },
    "336dbcb9a61d4fda9abc61e4b89ebda2": {
     "model_module": "@jupyter-widgets/base",
     "model_module_version": "1.2.0",
     "model_name": "LayoutModel",
     "state": {
      "_model_module": "@jupyter-widgets/base",
      "_model_module_version": "1.2.0",
      "_model_name": "LayoutModel",
      "_view_count": null,
      "_view_module": "@jupyter-widgets/base",
      "_view_module_version": "1.2.0",
      "_view_name": "LayoutView",
      "align_content": null,
      "align_items": null,
      "align_self": null,
      "border": null,
      "bottom": null,
      "display": null,
      "flex": null,
      "flex_flow": null,
      "grid_area": null,
      "grid_auto_columns": null,
      "grid_auto_flow": null,
      "grid_auto_rows": null,
      "grid_column": null,
      "grid_gap": null,
      "grid_row": null,
      "grid_template_areas": null,
      "grid_template_columns": null,
      "grid_template_rows": null,
      "height": null,
      "justify_content": null,
      "justify_items": null,
      "left": null,
      "margin": null,
      "max_height": null,
      "max_width": null,
      "min_height": null,
      "min_width": null,
      "object_fit": null,
      "object_position": null,
      "order": null,
      "overflow": null,
      "overflow_x": null,
      "overflow_y": null,
      "padding": null,
      "right": null,
      "top": null,
      "visibility": null,
      "width": null
     }
    },
    "33c4115c16ff4c17ad215ec189a35fed": {
     "model_module": "@jupyter-widgets/controls",
     "model_module_version": "1.5.0",
     "model_name": "HTMLModel",
     "state": {
      "_dom_classes": [],
      "_model_module": "@jupyter-widgets/controls",
      "_model_module_version": "1.5.0",
      "_model_name": "HTMLModel",
      "_view_count": null,
      "_view_module": "@jupyter-widgets/controls",
      "_view_module_version": "1.5.0",
      "_view_name": "HTMLView",
      "description": "",
      "description_tooltip": null,
      "layout": "IPY_MODEL_805859ae4421476d8e7726a14b1d4ad5",
      "placeholder": "​",
      "style": "IPY_MODEL_f6ca53790ff64ceda84a7e4ffc04ebde",
      "value": " 200/200 [00:37&lt;00:00, 10.48q/s]"
     }
    },
    "4c73dbebd05442699afda1bdb4a28798": {
     "model_module": "@jupyter-widgets/base",
     "model_module_version": "1.2.0",
     "model_name": "LayoutModel",
     "state": {
      "_model_module": "@jupyter-widgets/base",
      "_model_module_version": "1.2.0",
      "_model_name": "LayoutModel",
      "_view_count": null,
      "_view_module": "@jupyter-widgets/base",
      "_view_module_version": "1.2.0",
      "_view_name": "LayoutView",
      "align_content": null,
      "align_items": null,
      "align_self": null,
      "border": null,
      "bottom": null,
      "display": null,
      "flex": null,
      "flex_flow": null,
      "grid_area": null,
      "grid_auto_columns": null,
      "grid_auto_flow": null,
      "grid_auto_rows": null,
      "grid_column": null,
      "grid_gap": null,
      "grid_row": null,
      "grid_template_areas": null,
      "grid_template_columns": null,
      "grid_template_rows": null,
      "height": null,
      "justify_content": null,
      "justify_items": null,
      "left": null,
      "margin": null,
      "max_height": null,
      "max_width": null,
      "min_height": null,
      "min_width": null,
      "object_fit": null,
      "object_position": null,
      "order": null,
      "overflow": null,
      "overflow_x": null,
      "overflow_y": null,
      "padding": null,
      "right": null,
      "top": null,
      "visibility": null,
      "width": null
     }
    },
    "51b22ddd73a34005911b179142e19397": {
     "model_module": "@jupyter-widgets/controls",
     "model_module_version": "1.5.0",
     "model_name": "HTMLModel",
     "state": {
      "_dom_classes": [],
      "_model_module": "@jupyter-widgets/controls",
      "_model_module_version": "1.5.0",
      "_model_name": "HTMLModel",
      "_view_count": null,
      "_view_module": "@jupyter-widgets/controls",
      "_view_module_version": "1.5.0",
      "_view_name": "HTMLView",
      "description": "",
      "description_tooltip": null,
      "layout": "IPY_MODEL_8723d729ac194531879294f562be6bf9",
      "placeholder": "​",
      "style": "IPY_MODEL_f6c1f7eb44a546df820e2b02fd81c854",
      "value": "BR(BM25): 100%"
     }
    },
    "6c79f17a19a349bdb22a8145dfaf7be7": {
     "model_module": "@jupyter-widgets/base",
     "model_module_version": "1.2.0",
     "model_name": "LayoutModel",
     "state": {
      "_model_module": "@jupyter-widgets/base",
      "_model_module_version": "1.2.0",
      "_model_name": "LayoutModel",
      "_view_count": null,
      "_view_module": "@jupyter-widgets/base",
      "_view_module_version": "1.2.0",
      "_view_name": "LayoutView",
      "align_content": null,
      "align_items": null,
      "align_self": null,
      "border": null,
      "bottom": null,
      "display": null,
      "flex": null,
      "flex_flow": null,
      "grid_area": null,
      "grid_auto_columns": null,
      "grid_auto_flow": null,
      "grid_auto_rows": null,
      "grid_column": null,
      "grid_gap": null,
      "grid_row": null,
      "grid_template_areas": null,
      "grid_template_columns": null,
      "grid_template_rows": null,
      "height": null,
      "justify_content": null,
      "justify_items": null,
      "left": null,
      "margin": null,
      "max_height": null,
      "max_width": null,
      "min_height": null,
      "min_width": null,
      "object_fit": null,
      "object_position": null,
      "order": null,
      "overflow": null,
      "overflow_x": null,
      "overflow_y": null,
      "padding": null,
      "right": null,
      "top": null,
      "visibility": null,
      "width": null
     }
    },
    "6ce48cc7e8764a9289e6e96d51738583": {
     "model_module": "@jupyter-widgets/controls",
     "model_module_version": "1.5.0",
     "model_name": "HBoxModel",
     "state": {
      "_dom_classes": [],
      "_model_module": "@jupyter-widgets/controls",
      "_model_module_version": "1.5.0",
      "_model_name": "HBoxModel",
      "_view_count": null,
      "_view_module": "@jupyter-widgets/controls",
      "_view_module_version": "1.5.0",
      "_view_name": "HBoxView",
      "box_style": "",
      "children": [
       "IPY_MODEL_b45fa51ce51246b7bf29fadf8a89de3c",
       "IPY_MODEL_10c182bb45d142aa8530951d8039b63b",
       "IPY_MODEL_33c4115c16ff4c17ad215ec189a35fed"
      ],
      "layout": "IPY_MODEL_6c79f17a19a349bdb22a8145dfaf7be7"
     }
    },
    "73226815db9b44a3b7546200ab65c2f2": {
     "model_module": "@jupyter-widgets/controls",
     "model_module_version": "1.5.0",
     "model_name": "HTMLModel",
     "state": {
      "_dom_classes": [],
      "_model_module": "@jupyter-widgets/controls",
      "_model_module_version": "1.5.0",
      "_model_name": "HTMLModel",
      "_view_count": null,
      "_view_module": "@jupyter-widgets/controls",
      "_view_module_version": "1.5.0",
      "_view_name": "HTMLView",
      "description": "",
      "description_tooltip": null,
      "layout": "IPY_MODEL_edc944b8095d4396b54f8e03bffbc8f2",
      "placeholder": "​",
      "style": "IPY_MODEL_b2ca44ae10384ad5b4921eabc57662e7",
      "value": " 200/200 [00:17&lt;00:00, 11.55q/s]"
     }
    },
    "7608417d70694afb8984f8e81f1314a3": {
     "model_module": "@jupyter-widgets/controls",
     "model_module_version": "1.5.0",
     "model_name": "DescriptionStyleModel",
     "state": {
      "_model_module": "@jupyter-widgets/controls",
      "_model_module_version": "1.5.0",
      "_model_name": "DescriptionStyleModel",
      "_view_count": null,
      "_view_module": "@jupyter-widgets/base",
      "_view_module_version": "1.2.0",
      "_view_name": "StyleView",
      "description_width": ""
     }
    },
    "805859ae4421476d8e7726a14b1d4ad5": {
     "model_module": "@jupyter-widgets/base",
     "model_module_version": "1.2.0",
     "model_name": "LayoutModel",
     "state": {
      "_model_module": "@jupyter-widgets/base",
      "_model_module_version": "1.2.0",
      "_model_name": "LayoutModel",
      "_view_count": null,
      "_view_module": "@jupyter-widgets/base",
      "_view_module_version": "1.2.0",
      "_view_name": "LayoutView",
      "align_content": null,
      "align_items": null,
      "align_self": null,
      "border": null,
      "bottom": null,
      "display": null,
      "flex": null,
      "flex_flow": null,
      "grid_area": null,
      "grid_auto_columns": null,
      "grid_auto_flow": null,
      "grid_auto_rows": null,
      "grid_column": null,
      "grid_gap": null,
      "grid_row": null,
      "grid_template_areas": null,
      "grid_template_columns": null,
      "grid_template_rows": null,
      "height": null,
      "justify_content": null,
      "justify_items": null,
      "left": null,
      "margin": null,
      "max_height": null,
      "max_width": null,
      "min_height": null,
      "min_width": null,
      "object_fit": null,
      "object_position": null,
      "order": null,
      "overflow": null,
      "overflow_x": null,
      "overflow_y": null,
      "padding": null,
      "right": null,
      "top": null,
      "visibility": null,
      "width": null
     }
    },
    "81d854463bb741dc826b6c1f2c7685e7": {
     "model_module": "@jupyter-widgets/base",
     "model_module_version": "1.2.0",
     "model_name": "LayoutModel",
     "state": {
      "_model_module": "@jupyter-widgets/base",
      "_model_module_version": "1.2.0",
      "_model_name": "LayoutModel",
      "_view_count": null,
      "_view_module": "@jupyter-widgets/base",
      "_view_module_version": "1.2.0",
      "_view_name": "LayoutView",
      "align_content": null,
      "align_items": null,
      "align_self": null,
      "border": null,
      "bottom": null,
      "display": null,
      "flex": null,
      "flex_flow": null,
      "grid_area": null,
      "grid_auto_columns": null,
      "grid_auto_flow": null,
      "grid_auto_rows": null,
      "grid_column": null,
      "grid_gap": null,
      "grid_row": null,
      "grid_template_areas": null,
      "grid_template_columns": null,
      "grid_template_rows": null,
      "height": null,
      "justify_content": null,
      "justify_items": null,
      "left": null,
      "margin": null,
      "max_height": null,
      "max_width": null,
      "min_height": null,
      "min_width": null,
      "object_fit": null,
      "object_position": null,
      "order": null,
      "overflow": null,
      "overflow_x": null,
      "overflow_y": null,
      "padding": null,
      "right": null,
      "top": null,
      "visibility": null,
      "width": null
     }
    },
    "8723d729ac194531879294f562be6bf9": {
     "model_module": "@jupyter-widgets/base",
     "model_module_version": "1.2.0",
     "model_name": "LayoutModel",
     "state": {
      "_model_module": "@jupyter-widgets/base",
      "_model_module_version": "1.2.0",
      "_model_name": "LayoutModel",
      "_view_count": null,
      "_view_module": "@jupyter-widgets/base",
      "_view_module_version": "1.2.0",
      "_view_name": "LayoutView",
      "align_content": null,
      "align_items": null,
      "align_self": null,
      "border": null,
      "bottom": null,
      "display": null,
      "flex": null,
      "flex_flow": null,
      "grid_area": null,
      "grid_auto_columns": null,
      "grid_auto_flow": null,
      "grid_auto_rows": null,
      "grid_column": null,
      "grid_gap": null,
      "grid_row": null,
      "grid_template_areas": null,
      "grid_template_columns": null,
      "grid_template_rows": null,
      "height": null,
      "justify_content": null,
      "justify_items": null,
      "left": null,
      "margin": null,
      "max_height": null,
      "max_width": null,
      "min_height": null,
      "min_width": null,
      "object_fit": null,
      "object_position": null,
      "order": null,
      "overflow": null,
      "overflow_x": null,
      "overflow_y": null,
      "padding": null,
      "right": null,
      "top": null,
      "visibility": null,
      "width": null
     }
    },
    "b2ca44ae10384ad5b4921eabc57662e7": {
     "model_module": "@jupyter-widgets/controls",
     "model_module_version": "1.5.0",
     "model_name": "DescriptionStyleModel",
     "state": {
      "_model_module": "@jupyter-widgets/controls",
      "_model_module_version": "1.5.0",
      "_model_name": "DescriptionStyleModel",
      "_view_count": null,
      "_view_module": "@jupyter-widgets/base",
      "_view_module_version": "1.2.0",
      "_view_name": "StyleView",
      "description_width": ""
     }
    },
    "b3fa19d8980843258fb63e2e2ecf490e": {
     "model_module": "@jupyter-widgets/controls",
     "model_module_version": "1.5.0",
     "model_name": "ProgressStyleModel",
     "state": {
      "_model_module": "@jupyter-widgets/controls",
      "_model_module_version": "1.5.0",
      "_model_name": "ProgressStyleModel",
      "_view_count": null,
      "_view_module": "@jupyter-widgets/base",
      "_view_module_version": "1.2.0",
      "_view_name": "StyleView",
      "bar_color": null,
      "description_width": ""
     }
    },
    "b45fa51ce51246b7bf29fadf8a89de3c": {
     "model_module": "@jupyter-widgets/controls",
     "model_module_version": "1.5.0",
     "model_name": "HTMLModel",
     "state": {
      "_dom_classes": [],
      "_model_module": "@jupyter-widgets/controls",
      "_model_module_version": "1.5.0",
      "_model_name": "HTMLModel",
      "_view_count": null,
      "_view_module": "@jupyter-widgets/controls",
      "_view_module_version": "1.5.0",
      "_view_name": "HTMLView",
      "description": "",
      "description_tooltip": null,
      "layout": "IPY_MODEL_010ef274e1f44e649ccd70ecaab21d0b",
      "placeholder": "​",
      "style": "IPY_MODEL_dc35e3c5b79e41f58c300795b3069d52",
      "value": "BR(BM25): 100%"
     }
    },
    "b73d97b8c47e4882ab38d0cbe9af914b": {
     "model_module": "@jupyter-widgets/base",
     "model_module_version": "1.2.0",
     "model_name": "LayoutModel",
     "state": {
      "_model_module": "@jupyter-widgets/base",
      "_model_module_version": "1.2.0",
      "_model_name": "LayoutModel",
      "_view_count": null,
      "_view_module": "@jupyter-widgets/base",
      "_view_module_version": "1.2.0",
      "_view_name": "LayoutView",
      "align_content": null,
      "align_items": null,
      "align_self": null,
      "border": null,
      "bottom": null,
      "display": null,
      "flex": null,
      "flex_flow": null,
      "grid_area": null,
      "grid_auto_columns": null,
      "grid_auto_flow": null,
      "grid_auto_rows": null,
      "grid_column": null,
      "grid_gap": null,
      "grid_row": null,
      "grid_template_areas": null,
      "grid_template_columns": null,
      "grid_template_rows": null,
      "height": null,
      "justify_content": null,
      "justify_items": null,
      "left": null,
      "margin": null,
      "max_height": null,
      "max_width": null,
      "min_height": null,
      "min_width": null,
      "object_fit": null,
      "object_position": null,
      "order": null,
      "overflow": null,
      "overflow_x": null,
      "overflow_y": null,
      "padding": null,
      "right": null,
      "top": null,
      "visibility": null,
      "width": null
     }
    },
    "bd6da91abc1444dcb783fc4891a58591": {
     "model_module": "@jupyter-widgets/controls",
     "model_module_version": "1.5.0",
     "model_name": "HTMLModel",
     "state": {
      "_dom_classes": [],
      "_model_module": "@jupyter-widgets/controls",
      "_model_module_version": "1.5.0",
      "_model_name": "HTMLModel",
      "_view_count": null,
      "_view_module": "@jupyter-widgets/controls",
      "_view_module_version": "1.5.0",
      "_view_name": "HTMLView",
      "description": "",
      "description_tooltip": null,
      "layout": "IPY_MODEL_dd241da9b15a461ea140d4f9663e5dd9",
      "placeholder": "​",
      "style": "IPY_MODEL_0204522352c74a9ba5b6d453a0ce6cbd",
      "value": " 183k/183k [00:00&lt;00:00, 2.51MiB/s]"
     }
    },
    "c829207fd5ab4017adf71888a29ed52e": {
     "model_module": "@jupyter-widgets/controls",
     "model_module_version": "1.5.0",
     "model_name": "ProgressStyleModel",
     "state": {
      "_model_module": "@jupyter-widgets/controls",
      "_model_module_version": "1.5.0",
      "_model_name": "ProgressStyleModel",
      "_view_count": null,
      "_view_module": "@jupyter-widgets/base",
      "_view_module_version": "1.2.0",
      "_view_name": "StyleView",
      "bar_color": null,
      "description_width": ""
     }
    },
    "ce8f0c241817418da83fd66c5b1b10b2": {
     "model_module": "@jupyter-widgets/base",
     "model_module_version": "1.2.0",
     "model_name": "LayoutModel",
     "state": {
      "_model_module": "@jupyter-widgets/base",
      "_model_module_version": "1.2.0",
      "_model_name": "LayoutModel",
      "_view_count": null,
      "_view_module": "@jupyter-widgets/base",
      "_view_module_version": "1.2.0",
      "_view_name": "LayoutView",
      "align_content": null,
      "align_items": null,
      "align_self": null,
      "border": null,
      "bottom": null,
      "display": null,
      "flex": null,
      "flex_flow": null,
      "grid_area": null,
      "grid_auto_columns": null,
      "grid_auto_flow": null,
      "grid_auto_rows": null,
      "grid_column": null,
      "grid_gap": null,
      "grid_row": null,
      "grid_template_areas": null,
      "grid_template_columns": null,
      "grid_template_rows": null,
      "height": null,
      "justify_content": null,
      "justify_items": null,
      "left": null,
      "margin": null,
      "max_height": null,
      "max_width": null,
      "min_height": null,
      "min_width": null,
      "object_fit": null,
      "object_position": null,
      "order": null,
      "overflow": null,
      "overflow_x": null,
      "overflow_y": null,
      "padding": null,
      "right": null,
      "top": null,
      "visibility": null,
      "width": null
     }
    },
    "dc35e3c5b79e41f58c300795b3069d52": {
     "model_module": "@jupyter-widgets/controls",
     "model_module_version": "1.5.0",
     "model_name": "DescriptionStyleModel",
     "state": {
      "_model_module": "@jupyter-widgets/controls",
      "_model_module_version": "1.5.0",
      "_model_name": "DescriptionStyleModel",
      "_view_count": null,
      "_view_module": "@jupyter-widgets/base",
      "_view_module_version": "1.2.0",
      "_view_name": "StyleView",
      "description_width": ""
     }
    },
    "dd241da9b15a461ea140d4f9663e5dd9": {
     "model_module": "@jupyter-widgets/base",
     "model_module_version": "1.2.0",
     "model_name": "LayoutModel",
     "state": {
      "_model_module": "@jupyter-widgets/base",
      "_model_module_version": "1.2.0",
      "_model_name": "LayoutModel",
      "_view_count": null,
      "_view_module": "@jupyter-widgets/base",
      "_view_module_version": "1.2.0",
      "_view_name": "LayoutView",
      "align_content": null,
      "align_items": null,
      "align_self": null,
      "border": null,
      "bottom": null,
      "display": null,
      "flex": null,
      "flex_flow": null,
      "grid_area": null,
      "grid_auto_columns": null,
      "grid_auto_flow": null,
      "grid_auto_rows": null,
      "grid_column": null,
      "grid_gap": null,
      "grid_row": null,
      "grid_template_areas": null,
      "grid_template_columns": null,
      "grid_template_rows": null,
      "height": null,
      "justify_content": null,
      "justify_items": null,
      "left": null,
      "margin": null,
      "max_height": null,
      "max_width": null,
      "min_height": null,
      "min_width": null,
      "object_fit": null,
      "object_position": null,
      "order": null,
      "overflow": null,
      "overflow_x": null,
      "overflow_y": null,
      "padding": null,
      "right": null,
      "top": null,
      "visibility": null,
      "width": null
     }
    },
    "edc944b8095d4396b54f8e03bffbc8f2": {
     "model_module": "@jupyter-widgets/base",
     "model_module_version": "1.2.0",
     "model_name": "LayoutModel",
     "state": {
      "_model_module": "@jupyter-widgets/base",
      "_model_module_version": "1.2.0",
      "_model_name": "LayoutModel",
      "_view_count": null,
      "_view_module": "@jupyter-widgets/base",
      "_view_module_version": "1.2.0",
      "_view_name": "LayoutView",
      "align_content": null,
      "align_items": null,
      "align_self": null,
      "border": null,
      "bottom": null,
      "display": null,
      "flex": null,
      "flex_flow": null,
      "grid_area": null,
      "grid_auto_columns": null,
      "grid_auto_flow": null,
      "grid_auto_rows": null,
      "grid_column": null,
      "grid_gap": null,
      "grid_row": null,
      "grid_template_areas": null,
      "grid_template_columns": null,
      "grid_template_rows": null,
      "height": null,
      "justify_content": null,
      "justify_items": null,
      "left": null,
      "margin": null,
      "max_height": null,
      "max_width": null,
      "min_height": null,
      "min_width": null,
      "object_fit": null,
      "object_position": null,
      "order": null,
      "overflow": null,
      "overflow_x": null,
      "overflow_y": null,
      "padding": null,
      "right": null,
      "top": null,
      "visibility": null,
      "width": null
     }
    },
    "f5f4e82c87564891a92aa973bbf82983": {
     "model_module": "@jupyter-widgets/controls",
     "model_module_version": "1.5.0",
     "model_name": "ProgressStyleModel",
     "state": {
      "_model_module": "@jupyter-widgets/controls",
      "_model_module_version": "1.5.0",
      "_model_name": "ProgressStyleModel",
      "_view_count": null,
      "_view_module": "@jupyter-widgets/base",
      "_view_module_version": "1.2.0",
      "_view_name": "StyleView",
      "bar_color": null,
      "description_width": ""
     }
    },
    "f6c1f7eb44a546df820e2b02fd81c854": {
     "model_module": "@jupyter-widgets/controls",
     "model_module_version": "1.5.0",
     "model_name": "DescriptionStyleModel",
     "state": {
      "_model_module": "@jupyter-widgets/controls",
      "_model_module_version": "1.5.0",
      "_model_name": "DescriptionStyleModel",
      "_view_count": null,
      "_view_module": "@jupyter-widgets/base",
      "_view_module_version": "1.2.0",
      "_view_name": "StyleView",
      "description_width": ""
     }
    },
    "f6ca53790ff64ceda84a7e4ffc04ebde": {
     "model_module": "@jupyter-widgets/controls",
     "model_module_version": "1.5.0",
     "model_name": "DescriptionStyleModel",
     "state": {
      "_model_module": "@jupyter-widgets/controls",
      "_model_module_version": "1.5.0",
      "_model_name": "DescriptionStyleModel",
      "_view_count": null,
      "_view_module": "@jupyter-widgets/base",
      "_view_module_version": "1.2.0",
      "_view_name": "StyleView",
      "description_width": ""
     }
    },
    "be722df8613e4695b4139073ce75fd5b": {
     "model_module": "@jupyter-widgets/controls",
     "model_name": "HBoxModel",
     "model_module_version": "1.5.0",
     "state": {
      "_view_name": "HBoxView",
      "_dom_classes": [],
      "_model_name": "HBoxModel",
      "_view_module": "@jupyter-widgets/controls",
      "_model_module_version": "1.5.0",
      "_view_count": null,
      "_view_module_version": "1.5.0",
      "box_style": "",
      "layout": "IPY_MODEL_10ddb67042744a979cec2ba1ceca14a2",
      "_model_module": "@jupyter-widgets/controls",
      "children": [
       "IPY_MODEL_5cda00ff62d448e19f5cbdee95a48fdd",
       "IPY_MODEL_08773df487fd47f6a80df87eebe492e1",
       "IPY_MODEL_c1e44392c2ad4b68a3f311f0e1dba53b"
      ]
     }
    },
    "10ddb67042744a979cec2ba1ceca14a2": {
     "model_module": "@jupyter-widgets/base",
     "model_name": "LayoutModel",
     "model_module_version": "1.2.0",
     "state": {
      "_view_name": "LayoutView",
      "grid_template_rows": null,
      "right": null,
      "justify_content": null,
      "_view_module": "@jupyter-widgets/base",
      "overflow": null,
      "_model_module_version": "1.2.0",
      "_view_count": null,
      "flex_flow": null,
      "width": null,
      "min_width": null,
      "border": null,
      "align_items": null,
      "bottom": null,
      "_model_module": "@jupyter-widgets/base",
      "top": null,
      "grid_column": null,
      "overflow_y": null,
      "overflow_x": null,
      "grid_auto_flow": null,
      "grid_area": null,
      "grid_template_columns": null,
      "flex": null,
      "_model_name": "LayoutModel",
      "justify_items": null,
      "grid_row": null,
      "max_height": null,
      "align_content": null,
      "visibility": null,
      "align_self": null,
      "height": null,
      "min_height": null,
      "padding": null,
      "grid_auto_rows": null,
      "grid_gap": null,
      "max_width": null,
      "order": null,
      "_view_module_version": "1.2.0",
      "grid_template_areas": null,
      "object_position": null,
      "object_fit": null,
      "grid_auto_columns": null,
      "margin": null,
      "display": null,
      "left": null
     }
    },
    "5cda00ff62d448e19f5cbdee95a48fdd": {
     "model_module": "@jupyter-widgets/controls",
     "model_name": "HTMLModel",
     "model_module_version": "1.5.0",
     "state": {
      "_view_name": "HTMLView",
      "style": "IPY_MODEL_f54abce225394879ba8cc0b7a5a438be",
      "_dom_classes": [],
      "description": "",
      "_model_name": "HTMLModel",
      "placeholder": "​",
      "_view_module": "@jupyter-widgets/controls",
      "_model_module_version": "1.5.0",
      "value": "msmarco-test2019-queries.tsv.gz: 100%",
      "_view_count": null,
      "_view_module_version": "1.5.0",
      "description_tooltip": null,
      "_model_module": "@jupyter-widgets/controls",
      "layout": "IPY_MODEL_d028b7ac0a164709acc8e6d02b1f045a"
     }
    },
    "08773df487fd47f6a80df87eebe492e1": {
     "model_module": "@jupyter-widgets/controls",
     "model_name": "FloatProgressModel",
     "model_module_version": "1.5.0",
     "state": {
      "_view_name": "ProgressView",
      "style": "IPY_MODEL_f107658a16c841d4ab7bc11b1c3a9a91",
      "_dom_classes": [],
      "description": "",
      "_model_name": "FloatProgressModel",
      "bar_style": "success",
      "max": 4276,
      "_view_module": "@jupyter-widgets/controls",
      "_model_module_version": "1.5.0",
      "value": 4276,
      "_view_count": null,
      "_view_module_version": "1.5.0",
      "orientation": "horizontal",
      "min": 0,
      "description_tooltip": null,
      "_model_module": "@jupyter-widgets/controls",
      "layout": "IPY_MODEL_e1e7444ac8b34994a4d55516c1f70123"
     }
    },
    "c1e44392c2ad4b68a3f311f0e1dba53b": {
     "model_module": "@jupyter-widgets/controls",
     "model_name": "HTMLModel",
     "model_module_version": "1.5.0",
     "state": {
      "_view_name": "HTMLView",
      "style": "IPY_MODEL_5879d2d1aeb144a2a46863dac5dbca54",
      "_dom_classes": [],
      "description": "",
      "_model_name": "HTMLModel",
      "placeholder": "​",
      "_view_module": "@jupyter-widgets/controls",
      "_model_module_version": "1.5.0",
      "value": " 4.18k/4.18k [00:00&lt;00:00, 71.5kiB/s]",
      "_view_count": null,
      "_view_module_version": "1.5.0",
      "description_tooltip": null,
      "_model_module": "@jupyter-widgets/controls",
      "layout": "IPY_MODEL_c6b84a32e449467ea9aaddf7625a24d0"
     }
    },
    "f54abce225394879ba8cc0b7a5a438be": {
     "model_module": "@jupyter-widgets/controls",
     "model_name": "DescriptionStyleModel",
     "model_module_version": "1.5.0",
     "state": {
      "_view_name": "StyleView",
      "_model_name": "DescriptionStyleModel",
      "description_width": "",
      "_view_module": "@jupyter-widgets/base",
      "_model_module_version": "1.5.0",
      "_view_count": null,
      "_view_module_version": "1.2.0",
      "_model_module": "@jupyter-widgets/controls"
     }
    },
    "d028b7ac0a164709acc8e6d02b1f045a": {
     "model_module": "@jupyter-widgets/base",
     "model_name": "LayoutModel",
     "model_module_version": "1.2.0",
     "state": {
      "_view_name": "LayoutView",
      "grid_template_rows": null,
      "right": null,
      "justify_content": null,
      "_view_module": "@jupyter-widgets/base",
      "overflow": null,
      "_model_module_version": "1.2.0",
      "_view_count": null,
      "flex_flow": null,
      "width": null,
      "min_width": null,
      "border": null,
      "align_items": null,
      "bottom": null,
      "_model_module": "@jupyter-widgets/base",
      "top": null,
      "grid_column": null,
      "overflow_y": null,
      "overflow_x": null,
      "grid_auto_flow": null,
      "grid_area": null,
      "grid_template_columns": null,
      "flex": null,
      "_model_name": "LayoutModel",
      "justify_items": null,
      "grid_row": null,
      "max_height": null,
      "align_content": null,
      "visibility": null,
      "align_self": null,
      "height": null,
      "min_height": null,
      "padding": null,
      "grid_auto_rows": null,
      "grid_gap": null,
      "max_width": null,
      "order": null,
      "_view_module_version": "1.2.0",
      "grid_template_areas": null,
      "object_position": null,
      "object_fit": null,
      "grid_auto_columns": null,
      "margin": null,
      "display": null,
      "left": null
     }
    },
    "f107658a16c841d4ab7bc11b1c3a9a91": {
     "model_module": "@jupyter-widgets/controls",
     "model_name": "ProgressStyleModel",
     "model_module_version": "1.5.0",
     "state": {
      "_view_name": "StyleView",
      "_model_name": "ProgressStyleModel",
      "description_width": "",
      "_view_module": "@jupyter-widgets/base",
      "_model_module_version": "1.5.0",
      "_view_count": null,
      "_view_module_version": "1.2.0",
      "bar_color": null,
      "_model_module": "@jupyter-widgets/controls"
     }
    },
    "e1e7444ac8b34994a4d55516c1f70123": {
     "model_module": "@jupyter-widgets/base",
     "model_name": "LayoutModel",
     "model_module_version": "1.2.0",
     "state": {
      "_view_name": "LayoutView",
      "grid_template_rows": null,
      "right": null,
      "justify_content": null,
      "_view_module": "@jupyter-widgets/base",
      "overflow": null,
      "_model_module_version": "1.2.0",
      "_view_count": null,
      "flex_flow": null,
      "width": null,
      "min_width": null,
      "border": null,
      "align_items": null,
      "bottom": null,
      "_model_module": "@jupyter-widgets/base",
      "top": null,
      "grid_column": null,
      "overflow_y": null,
      "overflow_x": null,
      "grid_auto_flow": null,
      "grid_area": null,
      "grid_template_columns": null,
      "flex": null,
      "_model_name": "LayoutModel",
      "justify_items": null,
      "grid_row": null,
      "max_height": null,
      "align_content": null,
      "visibility": null,
      "align_self": null,
      "height": null,
      "min_height": null,
      "padding": null,
      "grid_auto_rows": null,
      "grid_gap": null,
      "max_width": null,
      "order": null,
      "_view_module_version": "1.2.0",
      "grid_template_areas": null,
      "object_position": null,
      "object_fit": null,
      "grid_auto_columns": null,
      "margin": null,
      "display": null,
      "left": null
     }
    },
    "5879d2d1aeb144a2a46863dac5dbca54": {
     "model_module": "@jupyter-widgets/controls",
     "model_name": "DescriptionStyleModel",
     "model_module_version": "1.5.0",
     "state": {
      "_view_name": "StyleView",
      "_model_name": "DescriptionStyleModel",
      "description_width": "",
      "_view_module": "@jupyter-widgets/base",
      "_model_module_version": "1.5.0",
      "_view_count": null,
      "_view_module_version": "1.2.0",
      "_model_module": "@jupyter-widgets/controls"
     }
    },
    "c6b84a32e449467ea9aaddf7625a24d0": {
     "model_module": "@jupyter-widgets/base",
     "model_name": "LayoutModel",
     "model_module_version": "1.2.0",
     "state": {
      "_view_name": "LayoutView",
      "grid_template_rows": null,
      "right": null,
      "justify_content": null,
      "_view_module": "@jupyter-widgets/base",
      "overflow": null,
      "_model_module_version": "1.2.0",
      "_view_count": null,
      "flex_flow": null,
      "width": null,
      "min_width": null,
      "border": null,
      "align_items": null,
      "bottom": null,
      "_model_module": "@jupyter-widgets/base",
      "top": null,
      "grid_column": null,
      "overflow_y": null,
      "overflow_x": null,
      "grid_auto_flow": null,
      "grid_area": null,
      "grid_template_columns": null,
      "flex": null,
      "_model_name": "LayoutModel",
      "justify_items": null,
      "grid_row": null,
      "max_height": null,
      "align_content": null,
      "visibility": null,
      "align_self": null,
      "height": null,
      "min_height": null,
      "padding": null,
      "grid_auto_rows": null,
      "grid_gap": null,
      "max_width": null,
      "order": null,
      "_view_module_version": "1.2.0",
      "grid_template_areas": null,
      "object_position": null,
      "object_fit": null,
      "grid_auto_columns": null,
      "margin": null,
      "display": null,
      "left": null
     }
    }
   }
  },
  "deepnote_notebook_id": "0ebf6d65-5e05-40b8-9a28-9aa242fd0a04",
  "deepnote": {},
  "deepnote_execution_queue": []
 }
}