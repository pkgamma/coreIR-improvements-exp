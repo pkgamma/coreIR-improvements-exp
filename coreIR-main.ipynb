{
 "cells": [
  {
   "cell_type": "markdown",
   "source": "# IN4325 Information Retrieval CoreIR Project\n\n### Authors\n\n- Vishruty Mittal (5584825)\n- Philip Kuo (5675553)\n- Lian Wu (5354285)\n\n### Our Job for the Project\n\nGiven a standard test collection (MS-Marco) and task (either document ranking or passage ranking), implement 2 reasonable baselines (required: one probabilistic model and one learning to rank model), index the test collection and evaluate the 200 test queries (the relevance judgments for those 200 queries is available from the same web page) with the test collection's commonly employed evaluation metrics. When you employ a machine learning-based approach, ensure that you do not mix up training/validation and test datasets.\n\nGiven these initial results, conduct an error analysis on either a sample of validation or training queries for at least one of your models: sample a few topics that have achieved very low retrieval effectiveness and explore why this has likely happened. This requires looking at the top retrieved documents and using your knowledge of the retrieval model to hypothesize what is the likely cause. A good starting point for this analysis is provided by the topic failure analysis template (Figure 1 in the linked report) of the Reliable Information Access Final Workshop Report.\n\nBased on the error analysis, propose two improvements to at least one of your baselines (e.g. via neural net approaches, pseudo-relevance feedback, informed document priors, semantic approaches, external data sources such as Wikipedia … take a dive into the literature - many runs submitted to the MS-Marco leaderboard are accompanied by papers; alternatively, look at the TREC 2019 papers that made use of this dataset) and empirically evaluate those new models. Report for how many queries your improved retrieval model outperformed the baseline. Were you able to improve topics that you had identified as being not served well by your baseline? Discuss your findings. Feel free to add additional points of analysis (e.g. the impact of smoothing).\n\n- [Course Project Webpage (BrightSpace)](https://brightspace.tudelft.nl/d2l/le/content/400612/Home)\n- [Our older Google Colab doc](https://colab.research.google.com/drive/1EnYPVEXYDGvlzxqPzzIhEpqxhtFmeX2T?usp=sharing)\n\n### Referencing/Learning Resources\n\n- [PyTerrier demonstration for msmarco_passage](http://data.terrier.org/indices/msmarco_passage/retrieval.html)\n- [PyTerrier CIKM 2021 Tutorial Notebook](https://github.com/terrier-org/cikm2021tutorial/blob/main/notebooks/notebook3.ipynb)\n- [Available Datasets](https://pyterrier.readthedocs.io/en/latest/datasets.html#available-datasets)",
   "metadata": {
    "cell_id": "2c2187b2-11f9-49aa-b2ac-b7660272ea8b",
    "tags": [],
    "deepnote_cell_type": "markdown"
   }
  },
  {
   "cell_type": "markdown",
   "source": "## Initial Setup",
   "metadata": {
    "cell_id": "c1bcd767-966f-4e80-99c3-37e30ed88806",
    "tags": [],
    "deepnote_cell_type": "markdown"
   }
  },
  {
   "cell_type": "code",
   "metadata": {
    "tags": [],
    "cell_id": "4fcd231f-b112-414c-ad40-05453d17a1dd",
    "deepnote_to_be_reexecuted": false,
    "source_hash": "4bddeea1",
    "execution_start": 1646478921580,
    "execution_millis": 14315,
    "deepnote_cell_type": "code"
   },
   "source": "!sudo apt update && sudo apt upgrade -y\n!sudo apt-get install -y openjdk-11-jre\n!sudo apt-get install -y openjdk-11-jdk\n!pip install -q python-terrier\nimport pyterrier as pt\nif not pt.started():\n    pt.init()\n\nfrom pyterrier.measures import *\ndataset = pt.get_dataset('msmarco_passage')",
   "execution_count": null,
   "outputs": [
    {
     "name": "stdout",
     "text": "Hit:1 http://deb.debian.org/debian buster InRelease\nHit:2 http://deb.debian.org/debian buster-updates InRelease\nHit:3 http://security.debian.org/debian-security buster/updates InRelease\n\n\n\nAll packages are up to date.\n\n\n\n\n0 upgraded, 0 newly installed, 0 to remove and 0 not upgraded.\n\n\n\nopenjdk-11-jre is already the newest version (11.0.14+9-1~deb10u1).\n0 upgraded, 0 newly installed, 0 to remove and 0 not upgraded.\n\n\n\nopenjdk-11-jdk is already the newest version (11.0.14+9-1~deb10u1).\n0 upgraded, 0 newly installed, 0 to remove and 0 not upgraded.\n\u001b[33mWARNING: You are using pip version 20.1.1; however, version 22.0.3 is available.\nYou should consider upgrading via the '/root/venv/bin/python -m pip install --upgrade pip' command.\u001b[0m\nPyTerrier 0.8.0 has loaded Terrier 5.6 (built by craigmacdonald on 2021-09-17 13:27)\n\n",
     "output_type": "stream"
    }
   ]
  },
  {
   "cell_type": "markdown",
   "source": "## Ranking MSMARCO Passages with Different Improvements\n\n- [MSMARCO Passage Ranking Variants](http://data.terrier.org/msmarco_passage.dataset.html#terrier_unstemmed)",
   "metadata": {
    "cell_id": "b4c9c669-5a71-4b28-a3ab-c37b0edb8a90",
    "tags": [],
    "deepnote_cell_type": "markdown"
   }
  },
  {
   "cell_type": "markdown",
   "source": "## TF-IDF",
   "metadata": {
    "cell_id": "93a77b2f-5e23-4d92-a345-28904f51eb7a",
    "tags": [],
    "deepnote_cell_type": "markdown"
   }
  },
  {
   "cell_type": "code",
   "metadata": {
    "cell_id": "d3459bce-22f8-4048-bcfa-893735d62d24",
    "tags": [],
    "deepnote_to_be_reexecuted": false,
    "source_hash": "2c63f6dd",
    "execution_start": 1646478935903,
    "execution_millis": 148244,
    "deepnote_cell_type": "code"
   },
   "source": "# For TF_IDF\n\ntfidf = pt.BatchRetrieve.from_dataset('msmarco_passage', 'terrier_unstemmed', wmodel='TF_IDF')",
   "execution_count": null,
   "outputs": [
    {
     "name": "stdout",
     "text": "Downloading msmarco_passage index to /root/.pyterrier/corpora/msmarco_passage/index/terrier_unstemmed\n/root/venv/lib/python3.7/site-packages/pyterrier/datasets.py:278: UserWarning: Downloading index of > 2GB.\n  warn(\"Downloading index of > 2GB.\")\ndata.direct.bf: 100%|██████████| 734M/734M [00:47<00:00, 16.3MiB/s]\ndata.document.fsarrayfile: 100%|██████████| 177M/177M [00:11<00:00, 15.7MiB/s]\ndata.inverted.bf: 100%|██████████| 562M/562M [00:35<00:00, 16.4MiB/s]\ndata.lexicon.fsomapfile: 100%|██████████| 118M/118M [00:08<00:00, 15.2MiB/s]\ndata.lexicon.fsomaphash: 100%|██████████| 0.99k/0.99k [00:00<00:00, 3.01MiB/s]\ndata.lexicon.fsomapid: 100%|██████████| 5.23M/5.23M [00:01<00:00, 5.31MiB/s]\ndata.meta-0.fsomapfile: 100%|██████████| 295M/295M [00:18<00:00, 16.7MiB/s]\ndata.meta.idx: 100%|██████████| 67.5M/67.5M [00:05<00:00, 14.0MiB/s]\ndata.meta.zdata: 100%|██████████| 193M/193M [00:13<00:00, 14.5MiB/s]\ndata.properties: 100%|██████████| 4.29k/4.29k [00:00<00:00, 8.01MiB/s]\nmd5sums: 100%|██████████| 537/537 [00:00<00:00, 1.09MiB/s]\n",
     "output_type": "stream"
    }
   ]
  },
  {
   "cell_type": "markdown",
   "source": "## BM25 Baseline and Improvements",
   "metadata": {
    "cell_id": "8e828e2e-dbc4-4bc6-a897-104c628be088",
    "tags": [],
    "deepnote_cell_type": "markdown"
   }
  },
  {
   "cell_type": "code",
   "metadata": {
    "cell_id": "3c1c4fc0-1e7c-445b-8baa-0788ea79245b",
    "tags": [],
    "deepnote_to_be_reexecuted": false,
    "source_hash": "4b6e7e43",
    "execution_start": 1646479084155,
    "execution_millis": 2154,
    "deepnote_cell_type": "code"
   },
   "source": "# For BM25\n\nbm25 = pt.BatchRetrieve.from_dataset('msmarco_passage', 'terrier_unstemmed', wmodel='BM25')",
   "execution_count": null,
   "outputs": []
  },
  {
   "cell_type": "code",
   "metadata": {
    "cell_id": "856ea0ca-d442-4c4e-92f9-51b30d80f094",
    "tags": [],
    "deepnote_to_be_reexecuted": false,
    "source_hash": "9021d05",
    "execution_start": 1646479086324,
    "execution_millis": 105870,
    "deepnote_cell_type": "code"
   },
   "source": "# For BM25 with stemming\n\nbm25_terrier_stemmed = pt.BatchRetrieve.from_dataset('msmarco_passage', 'terrier_stemmed', wmodel='BM25')",
   "execution_count": null,
   "outputs": [
    {
     "name": "stdout",
     "text": "Downloading msmarco_passage index to /root/.pyterrier/corpora/msmarco_passage/index/terrier_stemmed\ndata.direct.bf: 100%|██████████| 486M/486M [00:30<00:00, 16.9MiB/s]\ndata.document.fsarrayfile: 100%|██████████| 177M/177M [00:11<00:00, 15.9MiB/s]\ndata.inverted.bf: 100%|██████████| 377M/377M [00:27<00:00, 14.5MiB/s]\ndata.lexicon.fsomapfile: 100%|██████████| 100M/100M [00:07<00:00, 13.6MiB/s] \ndata.lexicon.fsomaphash: 100%|██████████| 0.99k/0.99k [00:00<00:00, 466kiB/s]\ndata.lexicon.fsomapid: 100%|██████████| 4.47M/4.47M [00:00<00:00, 5.41MiB/s]\ndata.meta.idx: 100%|██████████| 67.5M/67.5M [00:08<00:00, 7.97MiB/s]\ndata.meta.zdata: 100%|██████████| 193M/193M [00:12<00:00, 15.9MiB/s]\ndata.properties: 100%|██████████| 4.29k/4.29k [00:00<00:00, 1.37MiB/s]\nmd5sums: 100%|██████████| 480/480 [00:00<00:00, 957kiB/s]\n",
     "output_type": "stream"
    }
   ]
  },
  {
   "cell_type": "code",
   "metadata": {
    "cell_id": "e779a3f9-e899-4d3a-9b04-a636ca1d3ca9",
    "tags": [],
    "deepnote_to_be_reexecuted": false,
    "source_hash": "a6b69ad3",
    "execution_start": 1646479192201,
    "execution_millis": 156785,
    "deepnote_cell_type": "code"
   },
   "source": "# For BM25 with stemming + docT5query\n# Repo: Document Expansion by Query Prediction (https://github.com/castorini/docTTTTTquery)\n\nbm25_terrier_stemmed_docT5query = pt.BatchRetrieve.from_dataset('msmarco_passage', 'terrier_stemmed_docT5query', wmodel='BM25')",
   "execution_count": null,
   "outputs": [
    {
     "name": "stdout",
     "text": "Downloading msmarco_passage index to /root/.pyterrier/corpora/msmarco_passage/index/terrier_stemmed_docT5query\ndata.direct.bf: 100%|██████████| 925M/925M [00:57<00:00, 16.9MiB/s]\ndata.document.fsarrayfile: 100%|██████████| 177M/177M [00:13<00:00, 14.1MiB/s]\ndata.inverted.bf: 100%|██████████| 771M/771M [00:47<00:00, 17.1MiB/s]\ndata.lexicon.fsomapfile: 100%|██████████| 201M/201M [00:14<00:00, 14.5MiB/s]\ndata.lexicon.fsomaphash: 100%|██████████| 0.99k/0.99k [00:00<00:00, 2.76MiB/s]\ndata.lexicon.fsomapid: 100%|██████████| 8.93M/8.93M [00:01<00:00, 8.01MiB/s]\ndata.meta.idx: 100%|██████████| 67.5M/67.5M [00:05<00:00, 14.1MiB/s]\ndata.meta.zdata: 100%|██████████| 193M/193M [00:12<00:00, 15.6MiB/s]\ndata.properties: 100%|██████████| 4.30k/4.30k [00:00<00:00, 5.27MiB/s]\nmd5sums: 100%|██████████| 522/522 [00:00<00:00, 894kiB/s]\n11:22:28.953 [main] WARN org.terrier.structures.BaseCompressingMetaIndex - OutOfMemoryError: Structure meta reading data file directly from disk\n",
     "output_type": "stream"
    }
   ]
  },
  {
   "cell_type": "code",
   "metadata": {
    "cell_id": "ae590f2f-5612-4867-89d0-ae07c4fced91",
    "tags": [],
    "deepnote_to_be_reexecuted": false,
    "source_hash": "fb4dc2b4",
    "execution_start": 1646479349034,
    "execution_millis": 164672,
    "deepnote_cell_type": "code"
   },
   "source": "# For BM25 with stemming + DeepCT\n\nbm25_terrier_stemmed_deepct = pt.BatchRetrieve.from_dataset('msmarco_passage', 'terrier_stemmed_deepct', wmodel='BM25')",
   "execution_count": null,
   "outputs": [
    {
     "name": "stdout",
     "text": "Downloading msmarco_passage index to /root/.pyterrier/corpora/msmarco_passage/index/terrier_stemmed_deepct\ndata.direct.bf: 100%|██████████| 938M/938M [01:01<00:00, 16.1MiB/s]\ndata.document.fsarrayfile: 100%|██████████| 177M/177M [00:11<00:00, 16.2MiB/s]\ndata.inverted.bf: 100%|██████████| 853M/853M [00:57<00:00, 15.4MiB/s]\ndata.lexicon.fsomapfile: 100%|██████████| 97.4M/97.4M [00:08<00:00, 12.7MiB/s]\ndata.lexicon.fsomaphash: 100%|██████████| 0.99k/0.99k [00:00<00:00, 307kiB/s]\ndata.lexicon.fsomapid: 100%|██████████| 4.33M/4.33M [00:00<00:00, 4.92MiB/s]\ndata.meta.idx: 100%|██████████| 67.5M/67.5M [00:06<00:00, 11.3MiB/s]\ndata.meta.zdata: 100%|██████████| 193M/193M [00:13<00:00, 14.9MiB/s]\ndata.properties: 100%|██████████| 4.30k/4.30k [00:00<00:00, 5.61MiB/s]\nmd5sums: 100%|██████████| 480/480 [00:00<00:00, 799kiB/s]\n11:25:13.669 [main] WARN org.terrier.structures.BaseCompressingMetaIndex - OutOfMemoryError: Structure meta reading data file directly from disk\n",
     "output_type": "stream"
    }
   ]
  },
  {
   "cell_type": "markdown",
   "source": "## Running PyTerrier Analytics\n\n- [Documentation on doing Analytics](https://pyterrier.readthedocs.io/en/latest/experiments.html#running-experiments)\n- [Available Evaluation Measures](https://pyterrier.readthedocs.io/en/latest/experiments.html#available-evaluation-measures)\n\n### Available Evaluation Measures\n\n- Mean Average Precision (map).\n- Mean Reciprocal Rank (recip_rank).\n- Normalized Discounted Cumulative Gain (ndcg), or calculated at a given rank cutoff (e.g. ndcg_cut_5).\n- Number of queries (num_q) - not averaged.\n- Number of retrieved documents (num_ret) - not averaged.\n- Number of relevant documents (num_rel) - not averaged.\n- Number of relevant documents retrieved (num_rel_ret) - not averaged.\n- Interpolated recall precision curves (iprec_at_recall). This is family of measures, so requesting iprec_at_recall will output measurements for IPrec@0.- 00, IPrec@0.10, etc.\n- Precision at rank cutoff (e.g. P_5).\n- Recall (recall) will generate recall at different cutoffs, such as recall_5, etc.).\n- Mean response time (mrt) will report the average number of milliseconds to conduct a query (this is calculated by pt.Experiment() directly, not pytrec_eval).\n- trec_eval measure families such as official, set and all_trec will be expanded. These result in many measures being returned. For instance, asking for - official results in the following (very wide) output reporting the usual default metrics of trec_eval:",
   "metadata": {
    "cell_id": "033df23d-93c4-41d0-b93f-abb719acb737",
    "tags": [],
    "deepnote_cell_type": "markdown"
   }
  },
  {
   "cell_type": "code",
   "metadata": {
    "cell_id": "8e047c0c-de22-4408-881c-aed16b526b0a",
    "tags": [],
    "deepnote_to_be_reexecuted": false,
    "source_hash": "448ae524",
    "execution_start": 1646479513726,
    "execution_millis": 157967,
    "deepnote_cell_type": "code"
   },
   "source": "pt.Experiment(\n    [tfidf, bm25, bm25_terrier_stemmed, bm25_terrier_stemmed_docT5query, bm25_terrier_stemmed_deepct],\n    pt.get_dataset('msmarco_passage').get_topics('test-2019'),\n    pt.get_dataset('msmarco_passage').get_qrels('test-2019'),\n    batch_size=200,\n    filter_by_qrels=True,\n    eval_metrics=[\"map\", \"recip_rank\"],\n    names=['TF_IDF', 'BM25', 'BM25 Stemmed', 'BM25 Stemmed + docT5query', 'BM25 Stemmed + DeepCT'])",
   "execution_count": null,
   "outputs": [
    {
     "name": "stdout",
     "text": "Downloading msmarco_passage topics to /root/.pyterrier/corpora/msmarco_passage/msmarco-test2019-queries.tsv.gz\nmsmarco-test2019-queries.tsv.gz: 100%|██████████| 4.18k/4.18k [00:00<00:00, 2.12MiB/s]\nDownloading msmarco_passage qrels to /root/.pyterrier/corpora/msmarco_passage/2019qrels-docs.txt\n2019qrels-docs.txt: 100%|██████████| 183k/183k [00:00<00:00, 14.1MiB/s]\n",
     "output_type": "stream"
    },
    {
     "output_type": "execute_result",
     "execution_count": 7,
     "data": {
      "application/vnd.deepnote.dataframe.v3+json": {
       "column_count": 3,
       "row_count": 5,
       "columns": [
        {
         "name": "name",
         "dtype": "object",
         "stats": {
          "unique_count": 5,
          "nan_count": 0,
          "categories": [
           {
            "name": "TF_IDF",
            "count": 1
           },
           {
            "name": "BM25",
            "count": 1
           },
           {
            "name": "3 others",
            "count": 3
           }
          ]
         }
        },
        {
         "name": "map",
         "dtype": "float64",
         "stats": {
          "unique_count": 5,
          "nan_count": 0,
          "min": "0.3292053452149179",
          "max": "0.45383001299602727",
          "histogram": [
           {
            "bin_start": 0.3292053452149179,
            "bin_end": 0.3416678119930288,
            "count": 2
           },
           {
            "bin_start": 0.3416678119930288,
            "bin_end": 0.3541302787711398,
            "count": 0
           },
           {
            "bin_start": 0.3541302787711398,
            "bin_end": 0.3665927455492507,
            "count": 0
           },
           {
            "bin_start": 0.3665927455492507,
            "bin_end": 0.37905521232736167,
            "count": 1
           },
           {
            "bin_start": 0.37905521232736167,
            "bin_end": 0.3915176791054726,
            "count": 0
           },
           {
            "bin_start": 0.3915176791054726,
            "bin_end": 0.40398014588358355,
            "count": 1
           },
           {
            "bin_start": 0.40398014588358355,
            "bin_end": 0.41644261266169447,
            "count": 0
           },
           {
            "bin_start": 0.41644261266169447,
            "bin_end": 0.4289050794398054,
            "count": 0
           },
           {
            "bin_start": 0.4289050794398054,
            "bin_end": 0.44136754621791635,
            "count": 0
           },
           {
            "bin_start": 0.44136754621791635,
            "bin_end": 0.45383001299602727,
            "count": 1
           }
          ]
         }
        },
        {
         "name": "recip_rank",
         "dtype": "float64",
         "stats": {
          "unique_count": 5,
          "nan_count": 0,
          "min": "0.7534183977705572",
          "max": "0.9",
          "histogram": [
           {
            "bin_start": 0.7534183977705572,
            "bin_end": 0.7680765579935015,
            "count": 1
           },
           {
            "bin_start": 0.7680765579935015,
            "bin_end": 0.7827347182164458,
            "count": 0
           },
           {
            "bin_start": 0.7827347182164458,
            "bin_end": 0.79739287843939,
            "count": 1
           },
           {
            "bin_start": 0.79739287843939,
            "bin_end": 0.8120510386623343,
            "count": 1
           },
           {
            "bin_start": 0.8120510386623343,
            "bin_end": 0.8267091988852786,
            "count": 0
           },
           {
            "bin_start": 0.8267091988852786,
            "bin_end": 0.8413673591082229,
            "count": 0
           },
           {
            "bin_start": 0.8413673591082229,
            "bin_end": 0.8560255193311672,
            "count": 1
           },
           {
            "bin_start": 0.8560255193311672,
            "bin_end": 0.8706836795541114,
            "count": 0
           },
           {
            "bin_start": 0.8706836795541114,
            "bin_end": 0.8853418397770557,
            "count": 0
           },
           {
            "bin_start": 0.8853418397770557,
            "bin_end": 0.9,
            "count": 1
           }
          ]
         }
        },
        {
         "name": "_deepnote_index_column",
         "dtype": "int64"
        }
       ],
       "rows": [
        {
         "name": "TF_IDF",
         "map": 0.33965831133699004,
         "recip_rank": 0.8113024913982507,
         "_deepnote_index_column": 0
        },
        {
         "name": "BM25",
         "map": 0.3292053452149179,
         "recip_rank": 0.7534183977705572,
         "_deepnote_index_column": 1
        },
        {
         "name": "BM25 Stemmed",
         "map": 0.37000371237839114,
         "recip_rank": 0.795028067361668,
         "_deepnote_index_column": 2
        },
        {
         "name": "BM25 Stemmed + docT5query",
         "map": 0.45383001299602727,
         "recip_rank": 0.9,
         "_deepnote_index_column": 3
        },
        {
         "name": "BM25 Stemmed + DeepCT",
         "map": 0.3962814151305854,
         "recip_rank": 0.842469545957918,
         "_deepnote_index_column": 4
        }
       ]
      },
      "text/plain": "                        name       map  recip_rank\n0                     TF_IDF  0.339658    0.811302\n1                       BM25  0.329205    0.753418\n2               BM25 Stemmed  0.370004    0.795028\n3  BM25 Stemmed + docT5query  0.453830    0.900000\n4      BM25 Stemmed + DeepCT  0.396281    0.842470",
      "text/html": "<div>\n<style scoped>\n    .dataframe tbody tr th:only-of-type {\n        vertical-align: middle;\n    }\n\n    .dataframe tbody tr th {\n        vertical-align: top;\n    }\n\n    .dataframe thead th {\n        text-align: right;\n    }\n</style>\n<table border=\"1\" class=\"dataframe\">\n  <thead>\n    <tr style=\"text-align: right;\">\n      <th></th>\n      <th>name</th>\n      <th>map</th>\n      <th>recip_rank</th>\n    </tr>\n  </thead>\n  <tbody>\n    <tr>\n      <th>0</th>\n      <td>TF_IDF</td>\n      <td>0.339658</td>\n      <td>0.811302</td>\n    </tr>\n    <tr>\n      <th>1</th>\n      <td>BM25</td>\n      <td>0.329205</td>\n      <td>0.753418</td>\n    </tr>\n    <tr>\n      <th>2</th>\n      <td>BM25 Stemmed</td>\n      <td>0.370004</td>\n      <td>0.795028</td>\n    </tr>\n    <tr>\n      <th>3</th>\n      <td>BM25 Stemmed + docT5query</td>\n      <td>0.453830</td>\n      <td>0.900000</td>\n    </tr>\n    <tr>\n      <th>4</th>\n      <td>BM25 Stemmed + DeepCT</td>\n      <td>0.396281</td>\n      <td>0.842470</td>\n    </tr>\n  </tbody>\n</table>\n</div>"
     },
     "metadata": {}
    }
   ]
  },
  {
   "cell_type": "code",
   "metadata": {
    "cell_id": "00d33713-0630-4fc9-8e62-8bba7a57028e",
    "tags": [],
    "deepnote_to_be_reexecuted": false,
    "source_hash": "9be16ac8",
    "execution_start": 1646480502728,
    "execution_millis": 213066,
    "deepnote_cell_type": "code"
   },
   "source": "result_per_query = pt.Experiment([bm25], \n                                 dataset.get_topics(\"test-2019\"),\n                                 dataset.get_qrels(\"test-2019\"), \n                                 eval_metrics=[\"recip_rank\", \"map\"],\n                                 perquery=True)",
   "execution_count": null,
   "outputs": [
    {
     "name": "stderr",
     "text": "/root/venv/lib/python3.7/site-packages/pyterrier/pipelines.py:108: UserWarning: 157 topic(s) not found in qrels. Scores for these topics are given as NaN and should not contribute to averages.\n  warn(f'{backfill_count} topic(s) not found in qrels. Scores for these topics are given as NaN and should not contribute to averages.')\n",
     "output_type": "stream"
    }
   ]
  },
  {
   "cell_type": "code",
   "metadata": {
    "cell_id": "b17e1714-217d-4482-af02-3fc1973caefb",
    "tags": [],
    "deepnote_to_be_reexecuted": false,
    "source_hash": "ca1328b2",
    "execution_start": 1646480795146,
    "execution_millis": 63,
    "deepnote_cell_type": "code"
   },
   "source": "result_per_query = result_per_query[result_per_query[\"value\"].notnull()]\nresult_per_query[result_per_query[\"measure\"]=='map'].sort_values(by=\"value\")",
   "execution_count": null,
   "outputs": [
    {
     "output_type": "execute_result",
     "execution_count": 19,
     "data": {
      "application/vnd.deepnote.dataframe.v3+json": {
       "column_count": 4,
       "row_count": 43,
       "columns": [
        {
         "name": "name",
         "dtype": "object",
         "stats": {
          "unique_count": 1,
          "nan_count": 0,
          "categories": [
           {
            "name": "BR(BM25)",
            "count": 43
           }
          ]
         }
        },
        {
         "name": "qid",
         "dtype": "object",
         "stats": {
          "unique_count": 43,
          "nan_count": 0,
          "categories": [
           {
            "name": "1063750",
            "count": 1
           },
           {
            "name": "19335",
            "count": 1
           },
           {
            "name": "41 others",
            "count": 41
           }
          ]
         }
        },
        {
         "name": "measure",
         "dtype": "object",
         "stats": {
          "unique_count": 1,
          "nan_count": 0,
          "categories": [
           {
            "name": "map",
            "count": 43
           }
          ]
         }
        },
        {
         "name": "value",
         "dtype": "float64",
         "stats": {
          "unique_count": 43,
          "nan_count": 0,
          "min": "0.0004887416443480517",
          "max": "0.95",
          "histogram": [
           {
            "bin_start": 0.0004887416443480517,
            "bin_end": 0.09543986747991323,
            "count": 12
           },
           {
            "bin_start": 0.09543986747991323,
            "bin_end": 0.19039099331547843,
            "count": 5
           },
           {
            "bin_start": 0.19039099331547843,
            "bin_end": 0.28534211915104357,
            "count": 4
           },
           {
            "bin_start": 0.28534211915104357,
            "bin_end": 0.38029324498660877,
            "count": 4
           },
           {
            "bin_start": 0.38029324498660877,
            "bin_end": 0.47524437082217397,
            "count": 7
           },
           {
            "bin_start": 0.47524437082217397,
            "bin_end": 0.5701954966577392,
            "count": 2
           },
           {
            "bin_start": 0.5701954966577392,
            "bin_end": 0.6651466224933044,
            "count": 4
           },
           {
            "bin_start": 0.6651466224933044,
            "bin_end": 0.7600977483288696,
            "count": 1
           },
           {
            "bin_start": 0.7600977483288696,
            "bin_end": 0.8550488741644348,
            "count": 2
           },
           {
            "bin_start": 0.8550488741644348,
            "bin_end": 0.95,
            "count": 2
           }
          ]
         }
        },
        {
         "name": "_deepnote_index_column",
         "dtype": "int64"
        }
       ],
       "rows": [
        {
         "name": "BR(BM25)",
         "qid": "1063750",
         "measure": "map",
         "value": 0.0004887416443480517,
         "_deepnote_index_column": 4
        },
        {
         "name": "BR(BM25)",
         "qid": "19335",
         "measure": "map",
         "value": 0.0008399705512208598,
         "_deepnote_index_column": 72
        },
        {
         "name": "BR(BM25)",
         "qid": "443396",
         "measure": "map",
         "value": 0.010409868721480068,
         "_deepnote_index_column": 62
        },
        {
         "name": "BR(BM25)",
         "qid": "1112341",
         "measure": "map",
         "value": 0.032230943942055695,
         "_deepnote_index_column": 38
        },
        {
         "name": "BR(BM25)",
         "qid": "833860",
         "measure": "map",
         "value": 0.06759334101075187,
         "_deepnote_index_column": 44
        },
        {
         "name": "BR(BM25)",
         "qid": "489204",
         "measure": "map",
         "value": 0.07076686372020037,
         "_deepnote_index_column": 8
        },
        {
         "name": "BR(BM25)",
         "qid": "451602",
         "measure": "map",
         "value": 0.07633621140732783,
         "_deepnote_index_column": 32
        },
        {
         "name": "BR(BM25)",
         "qid": "527433",
         "measure": "map",
         "value": 0.07707481905777522,
         "_deepnote_index_column": 16
        },
        {
         "name": "BR(BM25)",
         "qid": "104861",
         "measure": "map",
         "value": 0.0772438587497726,
         "_deepnote_index_column": 42
        },
        {
         "name": "BR(BM25)",
         "qid": "1106007",
         "measure": "map",
         "value": 0.08334139847931467,
         "_deepnote_index_column": 52
        }
       ]
      },
      "text/plain": "        name      qid measure     value\n4   BR(BM25)  1063750     map  0.000489\n72  BR(BM25)    19335     map  0.000840\n62  BR(BM25)   443396     map  0.010410\n38  BR(BM25)  1112341     map  0.032231\n44  BR(BM25)   833860     map  0.067593\n8   BR(BM25)   489204     map  0.070767\n32  BR(BM25)   451602     map  0.076336\n16  BR(BM25)   527433     map  0.077075\n42  BR(BM25)   104861     map  0.077244\n52  BR(BM25)  1106007     map  0.083341\n80  BR(BM25)  1113437     map  0.089031\n28  BR(BM25)  1117099     map  0.089137\n26  BR(BM25)   962179     map  0.130211\n2   BR(BM25)  1110199     map  0.131109\n18  BR(BM25)  1037798     map  0.132077\n30  BR(BM25)   148538     map  0.155915\n66  BR(BM25)    87452     map  0.164889\n50  BR(BM25)   183378     map  0.215466\n22  BR(BM25)   264014     map  0.248733\n40  BR(BM25)   131843     map  0.256779\n36  BR(BM25)  1115776     map  0.272022\n46  BR(BM25)   207786     map  0.297884\n76  BR(BM25)   405717     map  0.314292\n82  BR(BM25)  1129237     map  0.328775\n74  BR(BM25)    47923     map  0.346830\n64  BR(BM25)  1121709     map  0.393077\n70  BR(BM25)  1114646     map  0.393483\n20  BR(BM25)   915593     map  0.397583\n14  BR(BM25)  1133167     map  0.398805\n56  BR(BM25)   490595     map  0.402141\n58  BR(BM25)  1103812     map  0.432269\n34  BR(BM25)   359349     map  0.444870\n84  BR(BM25)   146187     map  0.482953\n78  BR(BM25)   182539     map  0.522845\n48  BR(BM25)  1114819     map  0.577310\n10  BR(BM25)   573724     map  0.602507\n60  BR(BM25)    87181     map  0.618494\n0   BR(BM25)   156493     map  0.663771\n24  BR(BM25)  1121402     map  0.716240\n12  BR(BM25)   168216     map  0.763268\n6   BR(BM25)   130510     map  0.848468\n54  BR(BM25)  1124210     map  0.878271\n68  BR(BM25)   855410     map  0.950000",
      "text/html": "<div>\n<style scoped>\n    .dataframe tbody tr th:only-of-type {\n        vertical-align: middle;\n    }\n\n    .dataframe tbody tr th {\n        vertical-align: top;\n    }\n\n    .dataframe thead th {\n        text-align: right;\n    }\n</style>\n<table border=\"1\" class=\"dataframe\">\n  <thead>\n    <tr style=\"text-align: right;\">\n      <th></th>\n      <th>name</th>\n      <th>qid</th>\n      <th>measure</th>\n      <th>value</th>\n    </tr>\n  </thead>\n  <tbody>\n    <tr>\n      <th>4</th>\n      <td>BR(BM25)</td>\n      <td>1063750</td>\n      <td>map</td>\n      <td>0.000489</td>\n    </tr>\n    <tr>\n      <th>72</th>\n      <td>BR(BM25)</td>\n      <td>19335</td>\n      <td>map</td>\n      <td>0.000840</td>\n    </tr>\n    <tr>\n      <th>62</th>\n      <td>BR(BM25)</td>\n      <td>443396</td>\n      <td>map</td>\n      <td>0.010410</td>\n    </tr>\n    <tr>\n      <th>38</th>\n      <td>BR(BM25)</td>\n      <td>1112341</td>\n      <td>map</td>\n      <td>0.032231</td>\n    </tr>\n    <tr>\n      <th>44</th>\n      <td>BR(BM25)</td>\n      <td>833860</td>\n      <td>map</td>\n      <td>0.067593</td>\n    </tr>\n    <tr>\n      <th>8</th>\n      <td>BR(BM25)</td>\n      <td>489204</td>\n      <td>map</td>\n      <td>0.070767</td>\n    </tr>\n    <tr>\n      <th>32</th>\n      <td>BR(BM25)</td>\n      <td>451602</td>\n      <td>map</td>\n      <td>0.076336</td>\n    </tr>\n    <tr>\n      <th>16</th>\n      <td>BR(BM25)</td>\n      <td>527433</td>\n      <td>map</td>\n      <td>0.077075</td>\n    </tr>\n    <tr>\n      <th>42</th>\n      <td>BR(BM25)</td>\n      <td>104861</td>\n      <td>map</td>\n      <td>0.077244</td>\n    </tr>\n    <tr>\n      <th>52</th>\n      <td>BR(BM25)</td>\n      <td>1106007</td>\n      <td>map</td>\n      <td>0.083341</td>\n    </tr>\n    <tr>\n      <th>80</th>\n      <td>BR(BM25)</td>\n      <td>1113437</td>\n      <td>map</td>\n      <td>0.089031</td>\n    </tr>\n    <tr>\n      <th>28</th>\n      <td>BR(BM25)</td>\n      <td>1117099</td>\n      <td>map</td>\n      <td>0.089137</td>\n    </tr>\n    <tr>\n      <th>26</th>\n      <td>BR(BM25)</td>\n      <td>962179</td>\n      <td>map</td>\n      <td>0.130211</td>\n    </tr>\n    <tr>\n      <th>2</th>\n      <td>BR(BM25)</td>\n      <td>1110199</td>\n      <td>map</td>\n      <td>0.131109</td>\n    </tr>\n    <tr>\n      <th>18</th>\n      <td>BR(BM25)</td>\n      <td>1037798</td>\n      <td>map</td>\n      <td>0.132077</td>\n    </tr>\n    <tr>\n      <th>30</th>\n      <td>BR(BM25)</td>\n      <td>148538</td>\n      <td>map</td>\n      <td>0.155915</td>\n    </tr>\n    <tr>\n      <th>66</th>\n      <td>BR(BM25)</td>\n      <td>87452</td>\n      <td>map</td>\n      <td>0.164889</td>\n    </tr>\n    <tr>\n      <th>50</th>\n      <td>BR(BM25)</td>\n      <td>183378</td>\n      <td>map</td>\n      <td>0.215466</td>\n    </tr>\n    <tr>\n      <th>22</th>\n      <td>BR(BM25)</td>\n      <td>264014</td>\n      <td>map</td>\n      <td>0.248733</td>\n    </tr>\n    <tr>\n      <th>40</th>\n      <td>BR(BM25)</td>\n      <td>131843</td>\n      <td>map</td>\n      <td>0.256779</td>\n    </tr>\n    <tr>\n      <th>36</th>\n      <td>BR(BM25)</td>\n      <td>1115776</td>\n      <td>map</td>\n      <td>0.272022</td>\n    </tr>\n    <tr>\n      <th>46</th>\n      <td>BR(BM25)</td>\n      <td>207786</td>\n      <td>map</td>\n      <td>0.297884</td>\n    </tr>\n    <tr>\n      <th>76</th>\n      <td>BR(BM25)</td>\n      <td>405717</td>\n      <td>map</td>\n      <td>0.314292</td>\n    </tr>\n    <tr>\n      <th>82</th>\n      <td>BR(BM25)</td>\n      <td>1129237</td>\n      <td>map</td>\n      <td>0.328775</td>\n    </tr>\n    <tr>\n      <th>74</th>\n      <td>BR(BM25)</td>\n      <td>47923</td>\n      <td>map</td>\n      <td>0.346830</td>\n    </tr>\n    <tr>\n      <th>64</th>\n      <td>BR(BM25)</td>\n      <td>1121709</td>\n      <td>map</td>\n      <td>0.393077</td>\n    </tr>\n    <tr>\n      <th>70</th>\n      <td>BR(BM25)</td>\n      <td>1114646</td>\n      <td>map</td>\n      <td>0.393483</td>\n    </tr>\n    <tr>\n      <th>20</th>\n      <td>BR(BM25)</td>\n      <td>915593</td>\n      <td>map</td>\n      <td>0.397583</td>\n    </tr>\n    <tr>\n      <th>14</th>\n      <td>BR(BM25)</td>\n      <td>1133167</td>\n      <td>map</td>\n      <td>0.398805</td>\n    </tr>\n    <tr>\n      <th>56</th>\n      <td>BR(BM25)</td>\n      <td>490595</td>\n      <td>map</td>\n      <td>0.402141</td>\n    </tr>\n    <tr>\n      <th>58</th>\n      <td>BR(BM25)</td>\n      <td>1103812</td>\n      <td>map</td>\n      <td>0.432269</td>\n    </tr>\n    <tr>\n      <th>34</th>\n      <td>BR(BM25)</td>\n      <td>359349</td>\n      <td>map</td>\n      <td>0.444870</td>\n    </tr>\n    <tr>\n      <th>84</th>\n      <td>BR(BM25)</td>\n      <td>146187</td>\n      <td>map</td>\n      <td>0.482953</td>\n    </tr>\n    <tr>\n      <th>78</th>\n      <td>BR(BM25)</td>\n      <td>182539</td>\n      <td>map</td>\n      <td>0.522845</td>\n    </tr>\n    <tr>\n      <th>48</th>\n      <td>BR(BM25)</td>\n      <td>1114819</td>\n      <td>map</td>\n      <td>0.577310</td>\n    </tr>\n    <tr>\n      <th>10</th>\n      <td>BR(BM25)</td>\n      <td>573724</td>\n      <td>map</td>\n      <td>0.602507</td>\n    </tr>\n    <tr>\n      <th>60</th>\n      <td>BR(BM25)</td>\n      <td>87181</td>\n      <td>map</td>\n      <td>0.618494</td>\n    </tr>\n    <tr>\n      <th>0</th>\n      <td>BR(BM25)</td>\n      <td>156493</td>\n      <td>map</td>\n      <td>0.663771</td>\n    </tr>\n    <tr>\n      <th>24</th>\n      <td>BR(BM25)</td>\n      <td>1121402</td>\n      <td>map</td>\n      <td>0.716240</td>\n    </tr>\n    <tr>\n      <th>12</th>\n      <td>BR(BM25)</td>\n      <td>168216</td>\n      <td>map</td>\n      <td>0.763268</td>\n    </tr>\n    <tr>\n      <th>6</th>\n      <td>BR(BM25)</td>\n      <td>130510</td>\n      <td>map</td>\n      <td>0.848468</td>\n    </tr>\n    <tr>\n      <th>54</th>\n      <td>BR(BM25)</td>\n      <td>1124210</td>\n      <td>map</td>\n      <td>0.878271</td>\n    </tr>\n    <tr>\n      <th>68</th>\n      <td>BR(BM25)</td>\n      <td>855410</td>\n      <td>map</td>\n      <td>0.950000</td>\n    </tr>\n  </tbody>\n</table>\n</div>"
     },
     "metadata": {}
    }
   ]
  },
  {
   "cell_type": "code",
   "metadata": {
    "cell_id": "bd103552-e2e4-4107-9cfe-3fbb413fd1eb",
    "tags": [],
    "deepnote_to_be_reexecuted": false,
    "source_hash": "ca2e5b87",
    "execution_start": 1646480990464,
    "execution_millis": 3,
    "deepnote_cell_type": "code"
   },
   "source": "result_per_query_T5 = result_per_query_T5[result_per_query_T5[\"value\"].notnull()]\nresult_per_query_T5[result_per_query_T5[\"measure\"]=='map'].sort_values(by=\"value\")",
   "execution_count": null,
   "outputs": [
    {
     "output_type": "execute_result",
     "execution_count": 22,
     "data": {
      "application/vnd.deepnote.dataframe.v3+json": {
       "column_count": 4,
       "row_count": 43,
       "columns": [
        {
         "name": "name",
         "dtype": "object",
         "stats": {
          "unique_count": 1,
          "nan_count": 0,
          "categories": [
           {
            "name": "BR(BM25)",
            "count": 43
           }
          ]
         }
        },
        {
         "name": "qid",
         "dtype": "object",
         "stats": {
          "unique_count": 43,
          "nan_count": 0,
          "categories": [
           {
            "name": "489204",
            "count": 1
           },
           {
            "name": "443396",
            "count": 1
           },
           {
            "name": "41 others",
            "count": 41
           }
          ]
         }
        },
        {
         "name": "measure",
         "dtype": "object",
         "stats": {
          "unique_count": 1,
          "nan_count": 0,
          "categories": [
           {
            "name": "map",
            "count": 43
           }
          ]
         }
        },
        {
         "name": "value",
         "dtype": "float64",
         "stats": {
          "unique_count": 43,
          "nan_count": 0,
          "min": "0.021594828217791278",
          "max": "0.9100812515263934",
          "histogram": [
           {
            "bin_start": 0.021594828217791278,
            "bin_end": 0.1104434705486515,
            "count": 2
           },
           {
            "bin_start": 0.1104434705486515,
            "bin_end": 0.1992921128795117,
            "count": 6
           },
           {
            "bin_start": 0.1992921128795117,
            "bin_end": 0.28814075521037197,
            "count": 2
           },
           {
            "bin_start": 0.28814075521037197,
            "bin_end": 0.3769893975412322,
            "count": 9
           },
           {
            "bin_start": 0.3769893975412322,
            "bin_end": 0.4658380398720924,
            "count": 5
           },
           {
            "bin_start": 0.4658380398720924,
            "bin_end": 0.5546866822029526,
            "count": 6
           },
           {
            "bin_start": 0.5546866822029526,
            "bin_end": 0.6435353245338128,
            "count": 3
           },
           {
            "bin_start": 0.6435353245338128,
            "bin_end": 0.732383966864673,
            "count": 2
           },
           {
            "bin_start": 0.732383966864673,
            "bin_end": 0.8212326091955332,
            "count": 2
           },
           {
            "bin_start": 0.8212326091955332,
            "bin_end": 0.9100812515263934,
            "count": 6
           }
          ]
         }
        },
        {
         "name": "_deepnote_index_column",
         "dtype": "int64"
        }
       ],
       "rows": [
        {
         "name": "BR(BM25)",
         "qid": "489204",
         "measure": "map",
         "value": 0.021594828217791278,
         "_deepnote_index_column": 8
        },
        {
         "name": "BR(BM25)",
         "qid": "443396",
         "measure": "map",
         "value": 0.055765707451833214,
         "_deepnote_index_column": 62
        },
        {
         "name": "BR(BM25)",
         "qid": "1112341",
         "measure": "map",
         "value": 0.11222039179798114,
         "_deepnote_index_column": 38
        },
        {
         "name": "BR(BM25)",
         "qid": "527433",
         "measure": "map",
         "value": 0.11526835852299001,
         "_deepnote_index_column": 16
        },
        {
         "name": "BR(BM25)",
         "qid": "1113437",
         "measure": "map",
         "value": 0.12623746462661686,
         "_deepnote_index_column": 80
        },
        {
         "name": "BR(BM25)",
         "qid": "1037798",
         "measure": "map",
         "value": 0.1293350496297434,
         "_deepnote_index_column": 18
        },
        {
         "name": "BR(BM25)",
         "qid": "451602",
         "measure": "map",
         "value": 0.150266005320646,
         "_deepnote_index_column": 32
        },
        {
         "name": "BR(BM25)",
         "qid": "1063750",
         "measure": "map",
         "value": 0.18220160536056304,
         "_deepnote_index_column": 4
        },
        {
         "name": "BR(BM25)",
         "qid": "148538",
         "measure": "map",
         "value": 0.21784947490660034,
         "_deepnote_index_column": 30
        },
        {
         "name": "BR(BM25)",
         "qid": "1117099",
         "measure": "map",
         "value": 0.27168316800394365,
         "_deepnote_index_column": 28
        }
       ]
      },
      "text/plain": "        name      qid measure     value\n8   BR(BM25)   489204     map  0.021595\n62  BR(BM25)   443396     map  0.055766\n38  BR(BM25)  1112341     map  0.112220\n16  BR(BM25)   527433     map  0.115268\n80  BR(BM25)  1113437     map  0.126237\n18  BR(BM25)  1037798     map  0.129335\n32  BR(BM25)   451602     map  0.150266\n4   BR(BM25)  1063750     map  0.182202\n30  BR(BM25)   148538     map  0.217849\n28  BR(BM25)  1117099     map  0.271683\n72  BR(BM25)    19335     map  0.295448\n52  BR(BM25)  1106007     map  0.315099\n76  BR(BM25)   405717     map  0.322538\n58  BR(BM25)  1103812     map  0.326562\n40  BR(BM25)   131843     map  0.332036\n64  BR(BM25)  1121709     map  0.336933\n20  BR(BM25)   915593     map  0.338752\n36  BR(BM25)  1115776     map  0.351686\n66  BR(BM25)    87452     map  0.356910\n74  BR(BM25)    47923     map  0.380226\n56  BR(BM25)   490595     map  0.441020\n2   BR(BM25)  1110199     map  0.441851\n44  BR(BM25)   833860     map  0.454523\n42  BR(BM25)   104861     map  0.464006\n82  BR(BM25)  1129237     map  0.487011\n34  BR(BM25)   359349     map  0.494706\n22  BR(BM25)   264014     map  0.502674\n46  BR(BM25)   207786     map  0.514123\n50  BR(BM25)   183378     map  0.520100\n70  BR(BM25)  1114646     map  0.538258\n48  BR(BM25)  1114819     map  0.583146\n26  BR(BM25)   962179     map  0.590569\n10  BR(BM25)   573724     map  0.611695\n60  BR(BM25)    87181     map  0.674257\n84  BR(BM25)   146187     map  0.698539\n14  BR(BM25)  1133167     map  0.775889\n0   BR(BM25)   156493     map  0.819516\n24  BR(BM25)  1121402     map  0.821235\n78  BR(BM25)   182539     map  0.823091\n12  BR(BM25)   168216     map  0.850472\n6   BR(BM25)   130510     map  0.871817\n68  BR(BM25)   855410     map  0.887500\n54  BR(BM25)  1124210     map  0.910081",
      "text/html": "<div>\n<style scoped>\n    .dataframe tbody tr th:only-of-type {\n        vertical-align: middle;\n    }\n\n    .dataframe tbody tr th {\n        vertical-align: top;\n    }\n\n    .dataframe thead th {\n        text-align: right;\n    }\n</style>\n<table border=\"1\" class=\"dataframe\">\n  <thead>\n    <tr style=\"text-align: right;\">\n      <th></th>\n      <th>name</th>\n      <th>qid</th>\n      <th>measure</th>\n      <th>value</th>\n    </tr>\n  </thead>\n  <tbody>\n    <tr>\n      <th>8</th>\n      <td>BR(BM25)</td>\n      <td>489204</td>\n      <td>map</td>\n      <td>0.021595</td>\n    </tr>\n    <tr>\n      <th>62</th>\n      <td>BR(BM25)</td>\n      <td>443396</td>\n      <td>map</td>\n      <td>0.055766</td>\n    </tr>\n    <tr>\n      <th>38</th>\n      <td>BR(BM25)</td>\n      <td>1112341</td>\n      <td>map</td>\n      <td>0.112220</td>\n    </tr>\n    <tr>\n      <th>16</th>\n      <td>BR(BM25)</td>\n      <td>527433</td>\n      <td>map</td>\n      <td>0.115268</td>\n    </tr>\n    <tr>\n      <th>80</th>\n      <td>BR(BM25)</td>\n      <td>1113437</td>\n      <td>map</td>\n      <td>0.126237</td>\n    </tr>\n    <tr>\n      <th>18</th>\n      <td>BR(BM25)</td>\n      <td>1037798</td>\n      <td>map</td>\n      <td>0.129335</td>\n    </tr>\n    <tr>\n      <th>32</th>\n      <td>BR(BM25)</td>\n      <td>451602</td>\n      <td>map</td>\n      <td>0.150266</td>\n    </tr>\n    <tr>\n      <th>4</th>\n      <td>BR(BM25)</td>\n      <td>1063750</td>\n      <td>map</td>\n      <td>0.182202</td>\n    </tr>\n    <tr>\n      <th>30</th>\n      <td>BR(BM25)</td>\n      <td>148538</td>\n      <td>map</td>\n      <td>0.217849</td>\n    </tr>\n    <tr>\n      <th>28</th>\n      <td>BR(BM25)</td>\n      <td>1117099</td>\n      <td>map</td>\n      <td>0.271683</td>\n    </tr>\n    <tr>\n      <th>72</th>\n      <td>BR(BM25)</td>\n      <td>19335</td>\n      <td>map</td>\n      <td>0.295448</td>\n    </tr>\n    <tr>\n      <th>52</th>\n      <td>BR(BM25)</td>\n      <td>1106007</td>\n      <td>map</td>\n      <td>0.315099</td>\n    </tr>\n    <tr>\n      <th>76</th>\n      <td>BR(BM25)</td>\n      <td>405717</td>\n      <td>map</td>\n      <td>0.322538</td>\n    </tr>\n    <tr>\n      <th>58</th>\n      <td>BR(BM25)</td>\n      <td>1103812</td>\n      <td>map</td>\n      <td>0.326562</td>\n    </tr>\n    <tr>\n      <th>40</th>\n      <td>BR(BM25)</td>\n      <td>131843</td>\n      <td>map</td>\n      <td>0.332036</td>\n    </tr>\n    <tr>\n      <th>64</th>\n      <td>BR(BM25)</td>\n      <td>1121709</td>\n      <td>map</td>\n      <td>0.336933</td>\n    </tr>\n    <tr>\n      <th>20</th>\n      <td>BR(BM25)</td>\n      <td>915593</td>\n      <td>map</td>\n      <td>0.338752</td>\n    </tr>\n    <tr>\n      <th>36</th>\n      <td>BR(BM25)</td>\n      <td>1115776</td>\n      <td>map</td>\n      <td>0.351686</td>\n    </tr>\n    <tr>\n      <th>66</th>\n      <td>BR(BM25)</td>\n      <td>87452</td>\n      <td>map</td>\n      <td>0.356910</td>\n    </tr>\n    <tr>\n      <th>74</th>\n      <td>BR(BM25)</td>\n      <td>47923</td>\n      <td>map</td>\n      <td>0.380226</td>\n    </tr>\n    <tr>\n      <th>56</th>\n      <td>BR(BM25)</td>\n      <td>490595</td>\n      <td>map</td>\n      <td>0.441020</td>\n    </tr>\n    <tr>\n      <th>2</th>\n      <td>BR(BM25)</td>\n      <td>1110199</td>\n      <td>map</td>\n      <td>0.441851</td>\n    </tr>\n    <tr>\n      <th>44</th>\n      <td>BR(BM25)</td>\n      <td>833860</td>\n      <td>map</td>\n      <td>0.454523</td>\n    </tr>\n    <tr>\n      <th>42</th>\n      <td>BR(BM25)</td>\n      <td>104861</td>\n      <td>map</td>\n      <td>0.464006</td>\n    </tr>\n    <tr>\n      <th>82</th>\n      <td>BR(BM25)</td>\n      <td>1129237</td>\n      <td>map</td>\n      <td>0.487011</td>\n    </tr>\n    <tr>\n      <th>34</th>\n      <td>BR(BM25)</td>\n      <td>359349</td>\n      <td>map</td>\n      <td>0.494706</td>\n    </tr>\n    <tr>\n      <th>22</th>\n      <td>BR(BM25)</td>\n      <td>264014</td>\n      <td>map</td>\n      <td>0.502674</td>\n    </tr>\n    <tr>\n      <th>46</th>\n      <td>BR(BM25)</td>\n      <td>207786</td>\n      <td>map</td>\n      <td>0.514123</td>\n    </tr>\n    <tr>\n      <th>50</th>\n      <td>BR(BM25)</td>\n      <td>183378</td>\n      <td>map</td>\n      <td>0.520100</td>\n    </tr>\n    <tr>\n      <th>70</th>\n      <td>BR(BM25)</td>\n      <td>1114646</td>\n      <td>map</td>\n      <td>0.538258</td>\n    </tr>\n    <tr>\n      <th>48</th>\n      <td>BR(BM25)</td>\n      <td>1114819</td>\n      <td>map</td>\n      <td>0.583146</td>\n    </tr>\n    <tr>\n      <th>26</th>\n      <td>BR(BM25)</td>\n      <td>962179</td>\n      <td>map</td>\n      <td>0.590569</td>\n    </tr>\n    <tr>\n      <th>10</th>\n      <td>BR(BM25)</td>\n      <td>573724</td>\n      <td>map</td>\n      <td>0.611695</td>\n    </tr>\n    <tr>\n      <th>60</th>\n      <td>BR(BM25)</td>\n      <td>87181</td>\n      <td>map</td>\n      <td>0.674257</td>\n    </tr>\n    <tr>\n      <th>84</th>\n      <td>BR(BM25)</td>\n      <td>146187</td>\n      <td>map</td>\n      <td>0.698539</td>\n    </tr>\n    <tr>\n      <th>14</th>\n      <td>BR(BM25)</td>\n      <td>1133167</td>\n      <td>map</td>\n      <td>0.775889</td>\n    </tr>\n    <tr>\n      <th>0</th>\n      <td>BR(BM25)</td>\n      <td>156493</td>\n      <td>map</td>\n      <td>0.819516</td>\n    </tr>\n    <tr>\n      <th>24</th>\n      <td>BR(BM25)</td>\n      <td>1121402</td>\n      <td>map</td>\n      <td>0.821235</td>\n    </tr>\n    <tr>\n      <th>78</th>\n      <td>BR(BM25)</td>\n      <td>182539</td>\n      <td>map</td>\n      <td>0.823091</td>\n    </tr>\n    <tr>\n      <th>12</th>\n      <td>BR(BM25)</td>\n      <td>168216</td>\n      <td>map</td>\n      <td>0.850472</td>\n    </tr>\n    <tr>\n      <th>6</th>\n      <td>BR(BM25)</td>\n      <td>130510</td>\n      <td>map</td>\n      <td>0.871817</td>\n    </tr>\n    <tr>\n      <th>68</th>\n      <td>BR(BM25)</td>\n      <td>855410</td>\n      <td>map</td>\n      <td>0.887500</td>\n    </tr>\n    <tr>\n      <th>54</th>\n      <td>BR(BM25)</td>\n      <td>1124210</td>\n      <td>map</td>\n      <td>0.910081</td>\n    </tr>\n  </tbody>\n</table>\n</div>"
     },
     "metadata": {}
    }
   ]
  },
  {
   "cell_type": "markdown",
   "source": "<a style='text-decoration:none;line-height:16px;display:flex;color:#5B5B62;padding:10px;justify-content:end;' href='https://deepnote.com?utm_source=created-in-deepnote-cell&projectId=eeb7fcb4-84cb-4f4a-9830-9d1fcbc47e1d' target=\"_blank\">\n<img alt='Created in deepnote.com' style='display:inline;max-height:16px;margin:0px;margin-right:7.5px;' src='data:image/svg+xml;base64,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' > </img>\nCreated in <span style='font-weight:600;margin-left:4px;'>Deepnote</span></a>",
   "metadata": {
    "tags": [],
    "created_in_deepnote_cell": true,
    "deepnote_cell_type": "markdown"
   }
  }
 ],
 "nbformat": 4,
 "nbformat_minor": 2,
 "metadata": {
  "orig_nbformat": 2,
  "deepnote": {
   "is_reactive": false
  },
  "deepnote_notebook_id": "e7cc718f-b7f6-4240-90be-70ffadf9ccd8",
  "deepnote_execution_queue": []
 }
}