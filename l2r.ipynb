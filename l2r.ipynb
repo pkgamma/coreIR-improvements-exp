{
 "cells": [
  {
   "cell_type": "code",
   "metadata": {
    "tags": [],
    "cell_id": "772f8295-c3b3-4886-be4e-ee02db7d348a",
    "deepnote_cell_type": "code"
   },
   "source": "# Create a filtered training file so that train_qrels are available for train_topics\n\nif not os.path.isfile(\"data/subsample_train.txt\"):\n\n    # Reading train topics and training qrels\n    train_topics = dataset.get_topics('train')\n    train_qrels = dataset.get_qrels('train')\n\n    # Retrieve 100 qids from train_qrels file\n    train_qids = list(train_qrels['qid'].unique())\n    train_qids_subsample = train_qids[:100]\n\n    # Retrieve corresponding 100 topics\n    train_topics_subsample = train_topics[train_topics['qid'].isin(train_qids_subsample)]\n\n    # Create train topics file\n    if not os.path.isdir(\"data\"):\n        !mkdir \"data\"\n\n    with open(\"data/subsample_train.txt\", \"w\") as output:\n        for index, row in train_topics_subsample.iterrows():\n            row_query = row['qid'] + \":\" + row['query']\n            output.write(row_query + '\\n')\n\t\t\t\n\t\n# Batch Feature Retrieval for BM25 \ndataset = pt.get_dataset(\"trec-deep-learning-passages\")\nindex = dataset.get_index('terrier_stemmed')\n\nBM25_withFeatures = pt.FeaturesBatchRetrieve(index, wmodel=\"BM25\", features=[\"WMODEL:Tf\", \"WMODEL:PL2\"]) % 100\n\n\n#Fit Random Forest over BM25\nrf = RandomForestRegressor(n_estimators=100)\nrf_pipe = BM25_withFeatures >> pt.ltr.apply_learned_model(rf)\nstart_time = time.time()\n\nrf_pipe.fit(pt.io.read_topics(\"data/subsample_train.txt\", format=\"singleline\"), \n            dataset.get_qrels(\"train\"))\n\ncurrent_time = time.time()\nfitting_time = current_time - start_time\nprint(fitting_time)  \n\n\n# Evaluate BM25 and RandomForestRegressor using different metrics\nbm25 = pt.BatchRetrieve(index, wmodel=\"BM25\")\n\nstart_time = time.time()\n\nresults = pt.Experiment([bm25, \n                        rf_pipe ],\n                           dataset.get_topics(\"test-2019\"), \n                       dataset.get_qrels(\"test-2019\"),\n                       eval_metrics=[\"ndcg_cut_10\",\"map\", \"mrt\"],\n                       names=[\"BM25\", \"RF pipeline\" ]\n                  )\n\ncurrent_time = time.time()\nevaluation_time = current_time - start_time\nprint(evaluation_time)",
   "execution_count": null,
   "outputs": []
  },
  {
   "cell_type": "markdown",
   "source": "<a style='text-decoration:none;line-height:16px;display:flex;color:#5B5B62;padding:10px;justify-content:end;' href='https://deepnote.com?utm_source=created-in-deepnote-cell&projectId=eeb7fcb4-84cb-4f4a-9830-9d1fcbc47e1d' target=\"_blank\">\n<img alt='Created in deepnote.com' style='display:inline;max-height:16px;margin:0px;margin-right:7.5px;' src='data:image/svg+xml;base64,PD94bWwgdmVyc2lvbj0iMS4wIiBlbmNvZGluZz0iVVRGLTgiPz4KPHN2ZyB3aWR0aD0iODBweCIgaGVpZ2h0PSI4MHB4IiB2aWV3Qm94PSIwIDAgODAgODAiIHZlcnNpb249IjEuMSIgeG1sbnM9Imh0dHA6Ly93d3cudzMub3JnLzIwMDAvc3ZnIiB4bWxuczp4bGluaz0iaHR0cDovL3d3dy53My5vcmcvMTk5OS94bGluayI+CiAgICA8IS0tIEdlbmVyYXRvcjogU2tldGNoIDU0LjEgKDc2NDkwKSAtIGh0dHBzOi8vc2tldGNoYXBwLmNvbSAtLT4KICAgIDx0aXRsZT5Hcm91cCAzPC90aXRsZT4KICAgIDxkZXNjPkNyZWF0ZWQgd2l0aCBTa2V0Y2guPC9kZXNjPgogICAgPGcgaWQ9IkxhbmRpbmciIHN0cm9rZT0ibm9uZSIgc3Ryb2tlLXdpZHRoPSIxIiBmaWxsPSJub25lIiBmaWxsLXJ1bGU9ImV2ZW5vZGQiPgogICAgICAgIDxnIGlkPSJBcnRib2FyZCIgdHJhbnNmb3JtPSJ0cmFuc2xhdGUoLTEyMzUuMDAwMDAwLCAtNzkuMDAwMDAwKSI+CiAgICAgICAgICAgIDxnIGlkPSJHcm91cC0zIiB0cmFuc2Zvcm09InRyYW5zbGF0ZSgxMjM1LjAwMDAwMCwgNzkuMDAwMDAwKSI+CiAgICAgICAgICAgICAgICA8cG9seWdvbiBpZD0iUGF0aC0yMCIgZmlsbD0iIzAyNjVCNCIgcG9pbnRzPSIyLjM3NjIzNzYyIDgwIDM4LjA0NzY2NjcgODAgNTcuODIxNzgyMiA3My44MDU3NTkyIDU3LjgyMTc4MjIgMzIuNzU5MjczOSAzOS4xNDAyMjc4IDMxLjY4MzE2ODMiPjwvcG9seWdvbj4KICAgICAgICAgICAgICAgIDxwYXRoIGQ9Ik0zNS4wMDc3MTgsODAgQzQyLjkwNjIwMDcsNzYuNDU0OTM1OCA0Ny41NjQ5MTY3LDcxLjU0MjI2NzEgNDguOTgzODY2LDY1LjI2MTk5MzkgQzUxLjExMjI4OTksNTUuODQxNTg0MiA0MS42NzcxNzk1LDQ5LjIxMjIyODQgMjUuNjIzOTg0Niw0OS4yMTIyMjg0IEMyNS40ODQ5Mjg5LDQ5LjEyNjg0NDggMjkuODI2MTI5Niw0My4yODM4MjQ4IDM4LjY0NzU4NjksMzEuNjgzMTY4MyBMNzIuODcxMjg3MSwzMi41NTQ0MjUgTDY1LjI4MDk3Myw2Ny42NzYzNDIxIEw1MS4xMTIyODk5LDc3LjM3NjE0NCBMMzUuMDA3NzE4LDgwIFoiIGlkPSJQYXRoLTIyIiBmaWxsPSIjMDAyODY4Ij48L3BhdGg+CiAgICAgICAgICAgICAgICA8cGF0aCBkPSJNMCwzNy43MzA0NDA1IEwyNy4xMTQ1MzcsMC4yNTcxMTE0MzYgQzYyLjM3MTUxMjMsLTEuOTkwNzE3MDEgODAsMTAuNTAwMzkyNyA4MCwzNy43MzA0NDA1IEM4MCw2NC45NjA0ODgyIDY0Ljc3NjUwMzgsNzkuMDUwMzQxNCAzNC4zMjk1MTEzLDgwIEM0Ny4wNTUzNDg5LDc3LjU2NzA4MDggNTMuNDE4MjY3Nyw3MC4zMTM2MTAzIDUzLjQxODI2NzcsNTguMjM5NTg4NSBDNTMuNDE4MjY3Nyw0MC4xMjg1NTU3IDM2LjMwMzk1NDQsMzcuNzMwNDQwNSAyNS4yMjc0MTcsMzcuNzMwNDQwNSBDMTcuODQzMDU4NiwzNy43MzA0NDA1IDkuNDMzOTE5NjYsMzcuNzMwNDQwNSAwLDM3LjczMDQ0MDUgWiIgaWQ9IlBhdGgtMTkiIGZpbGw9IiMzNzkzRUYiPjwvcGF0aD4KICAgICAgICAgICAgPC9nPgogICAgICAgIDwvZz4KICAgIDwvZz4KPC9zdmc+' > </img>\nCreated in <span style='font-weight:600;margin-left:4px;'>Deepnote</span></a>",
   "metadata": {
    "tags": [],
    "created_in_deepnote_cell": true,
    "deepnote_cell_type": "markdown"
   }
  }
 ],
 "nbformat": 4,
 "nbformat_minor": 2,
 "metadata": {
  "orig_nbformat": 2,
  "deepnote": {
   "is_reactive": false
  },
  "deepnote_notebook_id": "4d3e7ab9-a1b6-4650-b81b-f26229885793",
  "deepnote_execution_queue": []
 }
}